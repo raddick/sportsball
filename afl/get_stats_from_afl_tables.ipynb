{
 "cells": [
  {
   "cell_type": "code",
   "execution_count": 1,
   "metadata": {},
   "outputs": [
    {
     "name": "stdout",
     "output_type": "stream",
     "text": [
      "Done\n"
     ]
    }
   ],
   "source": [
    "import numpy as np\n",
    "import pandas\n",
    "import json\n",
    "import urllib\n",
    "import string\n",
    "from bs4 import BeautifulSoup\n",
    "import os\n",
    "import string\n",
    "from pprint import pprint\n",
    "#import seaborn as sb                                      # JR: What does the Seaborn library do? Also, needed to pip install it above\n",
    "#from itertools import product                             # JR: Don't know this library either\n",
    "#from matplotlib.collections import LineCollection\n",
    "#import statsmodels\n",
    "#import statsmodels.formula.api as smf\n",
    "#from scipy.stats import chisquare\n",
    "#from IPython.display import Image\n",
    "thisdir = '/home/idies/workspace/Storage/raddick/afl/'\n",
    "os.chdir(thisdir)\n",
    "print('Done')\n"
   ]
  },
  {
   "cell_type": "code",
   "execution_count": 2,
   "metadata": {},
   "outputs": [
    {
     "name": "stdout",
     "output_type": "stream",
     "text": [
      "backing up...\n"
     ]
    },
    {
     "data": {
      "text/plain": [
       "12728"
      ]
     },
     "execution_count": 2,
     "metadata": {},
     "output_type": "execute_result"
    }
   ],
   "source": [
    "players_df = pandas.read_csv(thisdir+'all_player_names.csv', encoding='utf-8', low_memory=False, index_col='player_id')\n",
    "print('backing up...')\n",
    "players_df_bk = players_df\n",
    "players_df.sample(3)\n",
    "len(players_df)"
   ]
  },
  {
   "cell_type": "markdown",
   "metadata": {},
   "source": [
    "# Get game stats for each player"
   ]
  },
  {
   "cell_type": "code",
   "execution_count": 6,
   "metadata": {
    "scrolled": false
   },
   "outputs": [
    {
     "name": "stdout",
     "output_type": "stream",
     "text": [
      "retrieving from backup...\n",
      "Row 12000: Player ID watec002: https://afltables.com/afl/stats/players/C/Chris_Waterson1.html\n",
      "Row 12050: Player ID waugf101: https://afltables.com/afl/stats/players/F/Fred_Waugh.html\n",
      "Row 12100: Player ID weidw001: https://afltables.com/afl/stats/players/W/Wayne_Weidemann.html\n",
      "Row 12150: Player ID westf102: https://afltables.com/afl/stats/players/F/Fred_West0.html\n",
      "Row 12200: Player ID whitc103: https://afltables.com/afl/stats/players/C/Clarrie_White.html\n",
      "Row 12250: Player ID whitt101: https://afltables.com/afl/stats/players/T/Ted_Whitfield.html\n",
      "Row 12300: Player ID wilkt101: https://afltables.com/afl/stats/players/T/Terry_Wilkins.html\n",
      "Row 12350: Player ID willi102: https://afltables.com/afl/stats/players/I/Ian_Williams1.html\n",
      "Row 12400: Player ID willg108: https://afltables.com/afl/stats/players/G/Gary_Williamson.html\n",
      "Row 12450: Player ID wilse102: https://afltables.com/afl/stats/players/E/Eric_Wilson.html\n",
      "Row 12500: Player ID wirab001: https://afltables.com/afl/stats/players/B/Brad_Wira.html\n",
      "Row 12550: Player ID woodr102: https://afltables.com/afl/stats/players/R/Ron_Wood.html\n",
      "Row 12600: Player ID wrait101: https://afltables.com/afl/stats/players/T/Tom_Wraith.html\n",
      "Row 12650: Player ID yatep101: https://afltables.com/afl/stats/players/P/Percy_Yates.html\n",
      "Row 12700: Player ID younw002: https://afltables.com/afl/stats/players/W/Will_Young.html\n",
      "Writing outfile...\n",
      "done\n",
      "Done!\n"
     ]
    }
   ],
   "source": [
    "debug = 0\n",
    "\n",
    "print('retrieving from backup...')\n",
    "players_df = players_df_bk\n",
    "allplayers = []\n",
    "startrow = 12000\n",
    "endrow = 12728\n",
    "cnt = startrow\n",
    "all_players_list = []\n",
    "for ix, thislink in players_df['link'][startrow:endrow].iteritems():  # ITERATE PLAYERS\n",
    "    if (debug == 1):\n",
    "        print('Row {0:.0f}: Player ID {1:}: {2:}'.format(cnt, ix, thislink))\n",
    "    else:\n",
    "        if (np.mod(cnt, 50) == 0):\n",
    "            print('Row {0:.0f}: Player ID {1:}: {2:}'.format(cnt, ix, thislink))\n",
    "    thispage = urllib.request.urlopen(thislink)\n",
    "    soup = BeautifulSoup(thispage,'html.parser',from_encoding='utf-8')\n",
    "    alltables = soup.findAll('table')\n",
    "    this_player_stats_list = []\n",
    "    for thistable in alltables:    # ITERATE SEASONS/TEAMS\n",
    "        badtable = False\n",
    "        thishead = thistable.find('thead')\n",
    "        headrows = thistable.find('thead').findAll('tr')\n",
    "        thisteam = headrows[0].find('th').text.split('-')[0].strip()\n",
    "        try:\n",
    "            thisyear = int(headrows[0].find('th').text.split('-')[1].strip())\n",
    "        except IndexError:\n",
    "            badtable = True\n",
    "        if (badtable == False):\n",
    "            if (debug >= 1):\n",
    "                print('{0:} {1:.0f}...'.format(thisteam,thisyear))\n",
    "            this_season_stats_list = []\n",
    "            datacols = []\n",
    "            dataheaders = headrows[1].findAll('th')\n",
    "            for thiscol in dataheaders:\n",
    "                datacols.append(thiscol.text)\n",
    "            bodyrows = thistable.findAll('tr')\n",
    "            for thisbodyrow in bodyrows[2:-1]:   # ITERATE GAMES\n",
    "                this_game_stats_dict = {}\n",
    "                this_game_stats_dict['team'] = thisteam\n",
    "                game_data_text_all = thisbodyrow.findAll('td')\n",
    "                for j in range(0, len(game_data_text_all)):\n",
    "                    if (game_data_text_all[j].text == '\\xa0'):\n",
    "                        this_game_stats_dict[datacols[j]] = 0\n",
    "                    elif (datacols[j] != 'Opponent' and datacols[j] != 'R' and datacols[j] != 'Rd'):\n",
    "                        try:\n",
    "                            this_game_stats_dict[datacols[j]] = int(game_data_text_all[j].text)\n",
    "                        except ValueError:\n",
    "                            this_game_stats_dict[datacols[j]] = int(game_data_text_all[j].text[0:-1])\n",
    "                    else:\n",
    "                        this_game_stats_dict[datacols[j]] = game_data_text_all[j].text\n",
    "                this_game_stats_bigdict = {}\n",
    "                this_game_stats_bigdict[this_game_stats_dict['Rd']] = this_game_stats_dict\n",
    "                del this_game_stats_bigdict[this_game_stats_dict['Rd']]['Gm']\n",
    "                del this_game_stats_bigdict[this_game_stats_dict['Rd']]['Rd']\n",
    "                this_season_stats_list.append(this_game_stats_bigdict)\n",
    "            this_season_stats_bigdict = {}\n",
    "            this_season_stats_bigdict[thisyear] = this_season_stats_list\n",
    "            this_player_stats_list.append(this_season_stats_bigdict)\n",
    "    this_player_stats_bigdict = {}\n",
    "    this_player_stats_bigdict[ix] = this_player_stats_list\n",
    "    all_players_list.append(this_player_stats_bigdict)\n",
    "    cnt = cnt + 1\n",
    "         #   pprint(this_season_stats_bigdict)\n",
    "        #this_player_stats_list.append(this_season_stats_bigdict)\n",
    "        #pprint(this_player_stats_list)\n",
    "    #this_player_stats_list.append(this_season_stats_bigdict)\n",
    "    #pprint(this_player_stats_list)\n",
    "    #print('\\n\\n')\n",
    "#            this_game_stats_bigdict[thisyear] = this_game_stats_dict\n",
    "#        this_player_stats_list.append(this_game_stats_bigdict)\n",
    "#    this_player_stats_bigdict = {}\n",
    "#    this_player_stats_bigdict[ix] = this_player_stats_list\n",
    "print('Writing outfile...')\n",
    "with open('player_game_stats_12k.json', 'w') as f:\n",
    "    json.dump(all_players_list, f)\n",
    "print('done')\n",
    "print('Done!')\n",
    "#pprint(all_players_list)\n"
   ]
  },
  {
   "cell_type": "code",
   "execution_count": null,
   "metadata": {},
   "outputs": [],
   "source": []
  },
  {
   "cell_type": "code",
   "execution_count": null,
   "metadata": {
    "scrolled": false
   },
   "outputs": [],
   "source": [
    "for thisone in allplayers:\n",
    "    for pid, pdata in thisone.items():\n",
    "        print('Player {0:}'.format(pid))\n",
    "        for i in range(0, len(pdata)):\n",
    "            for sid, sdata in pdata[i].items():\n",
    "                print('Season {0:}'.format(sid))\n",
    "                for j in range(0, len(sdata)):\n",
    "                    for gid, gdata in sdata[j].items():\n",
    "                        print('Game {0:}'.format(gid))\n",
    "                        pprint(gdata)\n",
    "                        print('\\n')\n",
    "            "
   ]
  },
  {
   "cell_type": "code",
   "execution_count": null,
   "metadata": {
    "scrolled": false
   },
   "outputs": [],
   "source": [
    "datacols = ['game_number', 'opponent', 'round', 'result', 'jersey_number', 'kicks', 'marks', 'handballs']\n",
    "datacols += ['disposals', 'goals', 'behinds', 'hitouts', 'tackles', 'rebound50s', 'inside50s']\n",
    "datacols += ['clearances', 'clangers', 'free_kicks_for', 'free_kicks_against', 'brownlow_votes']\n",
    "datacols += ['contested_possessions', 'uncontested_possessions', 'contested_marks']\n",
    "datacols += ['one_percenters', 'bounces', 'goal_assists', 'pct_game_played']\n",
    "\n",
    "df = pandas.DataFrame(data=None, columns=datacols)\n",
    "for i in range(0,1):#len(all_player_links)):\n",
    "    #print(all_player_links[i])\n",
    "    thisplayername = all_player_links[i].split('/')[-1][0:-5].replace('_',' ')\n",
    "    thisurl = all_player_links[i]\n",
    "    thispage = urllib.request.urlopen(thisurl)\n",
    "    soup = BeautifulSoup(thispage,'html.parser',from_encoding='utf-8')\n",
    "    print('Parsing player {0:,.0f}: {1:}...'.format(i, thisplayername))\n",
    "    alltables = soup.findAll('table')\n",
    "    thisyearstats = []\n",
    "    for j in range(7, len(alltables)):\n",
    "        thisyeardata = alltables[j]\n",
    "        thisgamestats = {}\n",
    "        print('Parsing data from {0:}...'.format(alltables[j].findAll('tr')[0].text[-4:]))\n",
    "        allrows = thisyeardata.findAll('tr')[2:-1]\n",
    "        for thisrow in allrows:\n",
    "            allcells = thisrow.findAll('td')\n",
    "            for k in range(0, len(allcells)-1):\n",
    "                thisgamestats[datacols[k]] = allcells[k].text\n",
    "            thisyearstats.append(thisgamestats)\n",
    "        print(thisyearstats)"
   ]
  },
  {
   "cell_type": "raw",
   "metadata": {},
   "source": []
  },
  {
   "cell_type": "code",
   "execution_count": null,
   "metadata": {},
   "outputs": [],
   "source": []
  },
  {
   "cell_type": "code",
   "execution_count": null,
   "metadata": {},
   "outputs": [],
   "source": []
  },
  {
   "cell_type": "code",
   "execution_count": null,
   "metadata": {},
   "outputs": [],
   "source": []
  },
  {
   "cell_type": "code",
   "execution_count": null,
   "metadata": {},
   "outputs": [],
   "source": []
  },
  {
   "cell_type": "code",
   "execution_count": null,
   "metadata": {},
   "outputs": [],
   "source": [
    "\n",
    "movies = []\n",
    "colnames = ['Release Date','Movie','Genre','Production Budget','Domestic Box Office to Date','Trailer']\n",
    "nColumns = len(colnames)\n",
    "starting_letters = string.printable[0:36]+string.printable[69]\n",
    "#starting_letters = ['a']\n",
    "for thisletter in starting_letters:\n",
    "    thisurl = 'http://www.the-numbers.com/movies/letter/1'#+thisletter\n",
    "    print(thisurl)\n",
    "    thispage = urllib.request.urlopen(thisurl)\n",
    "    soup = BeautifulSoup(thispage,'html.parser',from_encoding='utf-8')\n",
    "    firstTable = soup.find('table')\n",
    "    theseRows = soup.findAll('tr')\n",
    "    for row in theseRows:\n",
    "        thisrow = []\n",
    "        cells = row.findAll('td')\n",
    "        for cell in cells:\n",
    "            if (cell.get_text() == u'\\xa0'):\n",
    "                thisrow.append(''.encode('utf-8'))\n",
    "            else:\n",
    "                thisrow.append(cell.get_text().replace(u'\\xa0',' ').encode('utf-8'))\n",
    "        if (len(thisrow) == 6):\n",
    "            movies.append(thisrow)\n",
    "movies_decoded = [[s.decode('utf-8') for s in t] for t in movies]\n",
    "print('Done!')"
   ]
  },
  {
   "cell_type": "code",
   "execution_count": null,
   "metadata": {},
   "outputs": [],
   "source": [
    "thenumbers = pd.DataFrame.from_dict(movies_decoded)\n",
    "thenumbers.columns = ['releasedate','title','genre','budget','revenue','trailer']\n",
    "\n",
    "thenumbers['releasedate'] = pd.to_datetime(thenumbers['releasedate'],format=u\"%b\\xa0%d,\\xa0%Y\")#,coerce=True)\n",
    "\n",
    "thenumbers = thenumbers.replace([u'',u'nan'],[np.nan,np.nan])\n",
    "\n",
    "thenumbers['budget'] = thenumbers['budget'].dropna().str.replace('$','').apply(lambda x:int(x.replace(',','')))\n",
    "thenumbers['budget'] = thenumbers['budget'].dropna().apply(lambda x: '${:,.0f}'.format(x))\n",
    "\n",
    "thenumbers['revenue'] = thenumbers['revenue'].dropna().str.replace('$','').apply(lambda x:int(x.replace(',','')))\n",
    "thenumbers['revenue'] = thenumbers['revenue'].dropna().apply(lambda x: '${:,.0f}'.format(x))\n",
    "\n",
    "thenumbers['year'] = thenumbers['releasedate'].apply(lambda x:x.year)\n",
    "\n",
    "thenumbers['has_trailer'] = thenumbers['trailer'].apply(lambda x: True if (x == 'Play') else False)\n",
    "\n",
    "thenumbers = thenumbers.drop('trailer',axis=1)\n",
    "\n",
    "thenumbers.index.name = 'id'\n",
    "\n",
    "thenumbers.columns = ['releasedate_thenumbers','title_thenumbers','genre_thenumbers','budget_thenumbers','revenue_thenumbers','year_thenumbers','has_trailer_thenumbers']\n",
    "thenumbers.head(30)\n",
    "\n",
    "thenumbers.to_csv('revenue.csv',encoding='utf8')\n",
    "print(thenumbers.shape)  # as of 12/6/2017: 30,547 rows x 7 columns\n",
    "                         # as of 4/12/2018: 31,711 rows x 7 columns\n",
    "print('Done')"
   ]
  },
  {
   "cell_type": "code",
   "execution_count": null,
   "metadata": {},
   "outputs": [],
   "source": []
  }
 ],
 "metadata": {
  "kernelspec": {
   "display_name": "Python 3",
   "language": "python",
   "name": "python3"
  },
  "language_info": {
   "codemirror_mode": {
    "name": "ipython",
    "version": 3
   },
   "file_extension": ".py",
   "mimetype": "text/x-python",
   "name": "python",
   "nbconvert_exporter": "python",
   "pygments_lexer": "ipython3",
   "version": "3.6.6"
  }
 },
 "nbformat": 4,
 "nbformat_minor": 1
}
