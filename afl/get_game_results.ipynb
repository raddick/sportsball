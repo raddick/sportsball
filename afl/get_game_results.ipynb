{
 "cells": [
  {
   "cell_type": "code",
   "execution_count": 1,
   "metadata": {},
   "outputs": [
    {
     "name": "stdout",
     "output_type": "stream",
     "text": [
      "Done\n"
     ]
    }
   ],
   "source": [
    "#import numpy as np\n",
    "#import pandas\n",
    "#import json\n",
    "import urllib\n",
    "import string\n",
    "from bs4 import BeautifulSoup\n",
    "import os\n",
    "#import string\n",
    "from pprint import pprint\n",
    "import re\n",
    "thisdir = '/home/idies/workspace/Storage/raddick/afl/'\n",
    "os.chdir(thisdir)\n",
    "print('Done')\n"
   ]
  },
  {
   "cell_type": "markdown",
   "metadata": {},
   "source": [
    "# Get list of seasons available on afltables.com"
   ]
  },
  {
   "cell_type": "code",
   "execution_count": 2,
   "metadata": {
    "scrolled": true
   },
   "outputs": [
    {
     "name": "stdout",
     "output_type": "stream",
     "text": [
      "ok\n"
     ]
    }
   ],
   "source": [
    "debug = 0\n",
    "thisurl = 'https://afltables.com/afl/seas/season_idx.html'\n",
    "thispage = urllib.request.urlopen(thisurl)\n",
    "soup = BeautifulSoup(thispage,'html.parser',from_encoding='utf-8')\n",
    "yeartable = soup.find('table')\n",
    "allrows = yeartable.findAll('tr')\n",
    "\n",
    "years_list = []\n",
    "for thisrow in allrows:\n",
    "    allcells = thisrow.findAll('td')\n",
    "    for thiscell in allcells:       \n",
    "        this_year_dict = {}\n",
    "        try:\n",
    "            this_year_dict['year'] = int(thiscell.text[1:-1])\n",
    "        except:\n",
    "            pass\n",
    "        try:\n",
    "            this_year_dict['link'] = 'https://afltables.com/afl/seas/'+thiscell.find('a').get('href')\n",
    "        except AttributeError:\n",
    "            pass\n",
    "        if (len(this_year_dict) == 2):\n",
    "            years_list.append(this_year_dict)\n",
    "#pprint(years_list)\n",
    "print('ok')"
   ]
  },
  {
   "cell_type": "markdown",
   "metadata": {},
   "source": [
    "# Parse a season"
   ]
  },
  {
   "cell_type": "code",
   "execution_count": 25,
   "metadata": {
    "scrolled": false
   },
   "outputs": [
    {
     "name": "stdout",
     "output_type": "stream",
     "text": [
      "https://afltables.com/afl/seas/1993.html\n",
      "\n",
      "Footscray  5.4   7.9 12.13 13.17  95Fri 26-Mar-1993 8:08 PM Att: 58,997 Venue: M.C.G.\n",
      "Collingwood  3.4   9.7  15.8 17.13  115Collingwood won by 20 pts [Match stats]\n",
      "\n",
      "\n",
      "\n",
      "\n",
      "North Melbourne  5.5  13.8 18.15 24.22  166Sat 27-Mar-1993 2:00 PM Att: 8,653 Venue: M.C.G.\n",
      "Brisbane Bears  5.1   9.5  15.8 22.11  143North Melbourne won by 23 pts [Match stats]\n",
      "\n",
      "\n",
      "\n",
      "\n",
      "Carlton  4.2   9.6  15.8 17.10  112Sat 27-Mar-1993 2:00 PM Att: 23,433 Venue: Princes Park\n",
      "Fitzroy  5.4  6.10 10.14 17.16  118Fitzroy won by 6 pts [Match stats]\n",
      "\n",
      "\n",
      "\n",
      "\n",
      "Hawthorn  2.1   3.3  10.7 13.15  93Sat 27-Mar-1993 2:00 PM Att: 25,098 Venue: Waverley Park\n",
      "Melbourne  1.0   4.3   7.4  11.4  70Hawthorn won by 23 pts [Match stats]\n",
      "\n",
      "\n",
      "\n",
      "\n",
      "Geelong  6.2  10.5  15.9 20.16  136Sat 27-Mar-1993 2:08 PM Att: 24,337 Venue: Kardinia Park\n",
      "St Kilda  5.4   7.9 12.13 16.16  112Geelong won by 24 pts [Match stats]\n",
      "\n",
      "\n",
      "\n",
      "\n",
      "Richmond  4.4   6.7  9.11 12.12  84Sun 28-Mar-1993 2:08 PM Att: 18,473 Venue: M.C.G.\n",
      "Adelaide  8.1  12.4  18.7 28.10  178Adelaide won by 94 pts [Match stats]\n",
      "\n",
      "\n",
      "\n",
      "\n",
      "West Coast  4.7   8.9 12.12 17.21  123Sun 28-Mar-1993 2:15 PM (4:15 PM) Att: 34,361 Venue: Subiaco\n",
      "Essendon  2.1   7.2  11.5  17.8  110West Coast won by 13 pts [Match stats]\n",
      "\n",
      "\n",
      "\n",
      "\n",
      "SydneyBye\n",
      "\n",
      "\n",
      "\n"
     ]
    }
   ],
   "source": [
    "thisurl = 'https://afltables.com/afl/seas/1993.html'\n",
    "print(thisurl)\n",
    "thispage = urllib.request.urlopen(thisurl)\n",
    "soup = BeautifulSoup(thispage,'html.parser',from_encoding='utf-8')\n",
    "\n",
    "alltables = soup.findAll('table')\n",
    "#for i in range(0, len(alltables)):\n",
    "    #print(i)\n",
    "    #print(alltables[i].text)\n",
    "    #print('\\n\\n')\n",
    "    \n",
    "this_round = alltables[1].find('tr').find('td')\n",
    "this_round_games = round1.findAll('table')\n",
    "for thisgame in this_round_games:\n",
    "    print(thisgame.text)\n",
    "    print('\\n')\n"
   ]
  },
  {
   "cell_type": "code",
   "execution_count": null,
   "metadata": {},
   "outputs": [],
   "source": []
  }
 ],
 "metadata": {
  "kernelspec": {
   "display_name": "Python 3",
   "language": "python",
   "name": "python3"
  },
  "language_info": {
   "codemirror_mode": {
    "name": "ipython",
    "version": 3
   },
   "file_extension": ".py",
   "mimetype": "text/x-python",
   "name": "python",
   "nbconvert_exporter": "python",
   "pygments_lexer": "ipython3",
   "version": "3.6.6"
  }
 },
 "nbformat": 4,
 "nbformat_minor": 2
}
