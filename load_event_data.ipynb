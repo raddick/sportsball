{
 "cells": [
  {
   "cell_type": "code",
   "execution_count": 17,
   "metadata": {
    "collapsed": true
   },
   "outputs": [],
   "source": [
    "import zipfile\n",
    "import numpy as np\n",
    "import pandas\n",
    "from pprint import pprint"
   ]
  },
  {
   "cell_type": "code",
   "execution_count": 2,
   "metadata": {
    "collapsed": true
   },
   "outputs": [],
   "source": [
    "zip_ref = zipfile.ZipFile('1927eve.zip', 'r')\n",
    "zip_ref.extractall('.')\n",
    "zip_ref.close()\n",
    "\n",
    "zip_ref = zipfile.ZipFile('1938eve.zip', 'r')\n",
    "zip_ref.extractall('.')\n",
    "zip_ref.close()\n"
   ]
  },
  {
   "cell_type": "code",
   "execution_count": 18,
   "metadata": {
    "collapsed": false
   },
   "outputs": [
    {
     "name": "stdout",
     "output_type": "stream",
     "text": [
      "{'attendance': '0\\n',\n",
      " 'date': '1927/10/02\\n',\n",
      " 'daynight': 'day\\n',\n",
      " 'fieldcond': 'unknown\\n',\n",
      " 'gwrbi': '\\n',\n",
      " 'hometeam': 'DET\\n',\n",
      " 'howscored': 'unknown\\n',\n",
      " 'inputprogvers': '\"version 7RS(19) of 07/07/92\"\\n',\n",
      " 'inputter': '\"Greg Beston\"\\n',\n",
      " 'inputtime': '2001/10/28 9:12PM\\n',\n",
      " 'lp': 'buckg101\\n',\n",
      " 'number': '2\\n',\n",
      " 'pitches': 'none\\n',\n",
      " 'precip': 'unknown\\n',\n",
      " 'save': '\\n',\n",
      " 'scorer': '\"39\"\\n',\n",
      " 'site': 'DET04\\n',\n",
      " 'sky': 'unknown\\n',\n",
      " 'starttime': '0:00PM\\n',\n",
      " 'temp': '0\\n',\n",
      " 'timeofgame': '100\\n',\n",
      " 'translator': '\"Greg Beston\"\\n',\n",
      " 'ump1b': 'geish901\\n',\n",
      " 'ump2b': '(none)\\n',\n",
      " 'ump3b': '(none)\\n',\n",
      " 'umphome': 'rowlp801\\n',\n",
      " 'usedh': 'false\\n',\n",
      " 'visteam': 'CLE\\n',\n",
      " 'winddir': 'unknown\\n',\n",
      " 'windspeed': '-1\\n',\n",
      " 'wp': 'carro101\\n'}\n"
     ]
    }
   ],
   "source": [
    "filename = '1927DET.EVA'\n",
    "gamelogs = {}\n",
    "gamecount = -1\n",
    "for line in open(filename).readlines():\n",
    "    linearray = line.split(',')\n",
    "    if (linearray[0] == 'id'):\n",
    "        gamecount = gamecount + 1\n",
    "        infos = {}\n",
    "        thisgameid = linearray[1]\n",
    "    if (linearray[0] == 'version'):\n",
    "        thisgameversion = linearray[1]\n",
    "    if (linearray[0] == 'info'):\n",
    "        infos[linearray[1]] = linearray[2]\n",
    "    \n",
    "pprint(infos)"
   ]
  },
  {
   "cell_type": "code",
   "execution_count": null,
   "metadata": {
    "collapsed": true
   },
   "outputs": [],
   "source": []
  }
 ],
 "metadata": {
  "kernelspec": {
   "display_name": "Python 3",
   "language": "python",
   "name": "python3"
  },
  "language_info": {
   "codemirror_mode": {
    "name": "ipython",
    "version": 3
   },
   "file_extension": ".py",
   "mimetype": "text/x-python",
   "name": "python",
   "nbconvert_exporter": "python",
   "pygments_lexer": "ipython3",
   "version": "3.5.3"
  }
 },
 "nbformat": 4,
 "nbformat_minor": 0
}
