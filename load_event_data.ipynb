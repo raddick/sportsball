{
 "cells": [
  {
   "cell_type": "code",
   "execution_count": 9,
   "metadata": {
    "collapsed": true
   },
   "outputs": [],
   "source": [
    "import zipfile\n",
    "import numpy as np\n",
    "import pandas\n",
    "import os\n",
    "import io\n",
    "from pprint import pprint\n",
    "import json"
   ]
  },
  {
   "cell_type": "code",
   "execution_count": 10,
   "metadata": {
    "collapsed": false
   },
   "outputs": [
    {
     "name": "stdout",
     "output_type": "stream",
     "text": [
      "Done\n"
     ]
    }
   ],
   "source": [
    "os.chdir('retrosheet/')\n",
    "os.getcwd()\n",
    "\n",
    "decades = np.linspace(1920,2010,10)\n",
    "zipfiles = []\n",
    "for x in decades:\n",
    "    zipfiles.append('{:.0f}'.format(x)+'seve.zip')\n",
    "for filename in zipfiles:\n",
    "    zip_ref = zipfile.ZipFile(filename, 'r')\n",
    "    zip_ref.extractall('.')\n",
    "    zip_ref.close()\n",
    "print('Done')"
   ]
  },
  {
   "cell_type": "code",
   "execution_count": 16,
   "metadata": {
    "collapsed": false
   },
   "outputs": [
    {
     "data": {
      "text/plain": [
       "'/home/idies/workspace/persistent/sportsball'"
      ]
     },
     "execution_count": 16,
     "metadata": {},
     "output_type": "execute_result"
    }
   ],
   "source": [
    "\n",
    "os.chdir('sportsball/')\n",
    "os.getcwd()"
   ]
  },
  {
   "cell_type": "code",
   "execution_count": 17,
   "metadata": {
    "collapsed": false
   },
   "outputs": [
    {
     "name": "stdout",
     "output_type": "stream",
     "text": [
      "Done\n"
     ]
    }
   ],
   "source": [
    "#os.getcwd()\n",
    "os.chdir('retrosheet/')\n",
    "yeararray = np.linspace(1921,2016,96)\n",
    "teamfilearray = []\n",
    "for x in yeararray:\n",
    "#    print(x)\n",
    "    teamfilearray.append('TEAM{:.0f}'.format(x))\n",
    "#teamfilearray\n",
    "teams = np.empty((0,4),dtype=object)\n",
    "actualfiles = os.listdir()\n",
    "for y in teamfilearray:\n",
    "    if (os.path.isfile(y)):\n",
    "        for line in open(y).readlines():\n",
    "            thisteam = []\n",
    "            for z in line.split(','):\n",
    "                thisteam.append(z)\n",
    "            thisteam[-1] = thisteam[-1][0:-1]  # clear newline character at end\n",
    "            if (thisteam[0] not in teams[:,0]):\n",
    "                teams = np.vstack((teams,thisteam))\n",
    "os.chdir('../')\n",
    "#os.getcwd()\n",
    "teams_df = pandas.DataFrame(teams)\n",
    "teams_df.columns = ['teamID','leagueID','city','nickname']\n",
    "teams_df = teams_df.set_index('teamID')\n",
    "teams_df.to_csv('teams.csv')\n",
    "print('Done')\n",
    "#teams_df.shape\n",
    "#with open('teams.csv','w') as f:\n",
    "#f.write(teams)"
   ]
  },
  {
   "cell_type": "code",
   "execution_count": 18,
   "metadata": {
    "collapsed": false
   },
   "outputs": [
    {
     "name": "stdout",
     "output_type": "stream",
     "text": [
      "files identified\n"
     ]
    }
   ],
   "source": [
    "allfiles = []\n",
    "\n",
    "yeararray = np.linspace(1921,2016,96)\n",
    "\n",
    "#teamarray = np.empty((0,4),dtype=object)\n",
    "for oneyear in yeararray:\n",
    "    for oneteam in teams_df.index:\n",
    "        afile = 'retrosheet/' + '{:.0f}'.format(oneyear)+str(oneteam)+'.EV'+str(teams_df.loc[oneteam]['leagueID'])\n",
    "        if (os.path.isfile(afile)):\n",
    "            allfiles.append(afile)\n",
    "#print(allfiles)\n",
    "print('files identified')\n"
   ]
  },
  {
   "cell_type": "code",
   "execution_count": null,
   "metadata": {
    "collapsed": false
   },
   "outputs": [],
   "source": [
    "allgames = []\n",
    "gamecount = 0\n",
    "#allfiles=['retrosheet/raw/1962BOS.EVA']\n",
    "for filename in allfiles:\n",
    "    for line in io.open(filename,encoding='utf-8').readlines():\n",
    "        linearray = line.split(',')\n",
    "        linearray[-1] = linearray[-1][0:-1]  # cut off newline character\n",
    "        if (linearray[0] == 'id'):\n",
    "            # 'id' starts the next game, so immediately advance gamecount  \n",
    "\n",
    "            # record prior game data by adding it to the gamelogs list, unless gamecount = -1\n",
    "            if (gamecount > 0):\n",
    "                thisgamedict['info'] = info_dict\n",
    "                thisgamedict['visiting_starters'] = vis_start_list.tolist()\n",
    "                thisgamedict['home_starters'] = home_start_list.tolist()\n",
    "\n",
    "                # record game subs only if there were any subs\n",
    "#                if (len(vis_sub_list) > 0):\n",
    "#                    thisgamedict['visiting_subs'] = vis_sub_list.tolist()\n",
    "#                if (len(home_sub_list) > 0):\n",
    "#                    thisgamedict['home_subs'] = home_sub_list.tolist()\n",
    "\n",
    "                thisgamedict['events'] = events.tolist()\n",
    "                thisgamedict['data'] = data_list.tolist()\n",
    "                # append the dictionary describing this game to the list of games\n",
    "                allgames.append(thisgamedict)\n",
    "\n",
    "            # advance the gamecount and initialize a new game\n",
    "            gamecount = gamecount + 1\n",
    "            thisgamedict = {}\n",
    "            info_dict = {}\n",
    "            start_dict = {}\n",
    "            vis_start_list = np.empty((9,4),dtype=object)\n",
    "            home_start_list = np.empty((9,4),dtype=object)\n",
    "            vis_sub_list = np.empty((0,4),dtype=object)\n",
    "            home_sub_list = np.empty((0,4),dtype=object)\n",
    "            events = np.empty((0,11),dtype=object)\n",
    "            data_list = np.empty((0,2),dtype=object)\n",
    "            batterscount = 0\n",
    "            eventnum = 0\n",
    "\n",
    "            # the first thing to go into the new game is the game id.\n",
    "            # the [0:-1] is there to cut off the newline character\n",
    "            thisgamedict['id'] = linearray[1]\n",
    "\n",
    "        elif (linearray[0] == 'version'):\n",
    "            thisgamedict['version'] = linearray[1]\n",
    "        elif (linearray[0] == 'info'):\n",
    "            info_dict[linearray[1]] = linearray[2]\n",
    "        elif (linearray[0] == 'start'):\n",
    "            batterscount = batterscount + 1\n",
    "            if (linearray[3] == '0'):\n",
    "                vis_start_list[batterscount-1,0] = linearray[1]\n",
    "                vis_start_list[batterscount-1,1] = linearray[2]\n",
    "                vis_start_list[batterscount-1,2] = linearray[4]\n",
    "                vis_start_list[batterscount-1,3] = linearray[5]\n",
    "            elif (linearray[3] == '1'):\n",
    "                home_start_list[batterscount-10,0] = linearray[1]\n",
    "                home_start_list[batterscount-10,1] = linearray[2]\n",
    "                home_start_list[batterscount-10,2] = linearray[4]\n",
    "                home_start_list[batterscount-10,3] = linearray[5]        \n",
    "            else:\n",
    "                print('NEITHER VISITOR NOR HOME????')\n",
    "                \n",
    "        elif (linearray[0] == 'data'):\n",
    "            thisdata = np.empty((2),dtype=object)\n",
    "            thisdata[0] = linearray[2]\n",
    "            thisdata[1] = linearray[3]\n",
    "            data_list = np.vstack((data_list,thisdata))\n",
    "        else:\n",
    "#            print(linearray)\n",
    "            thisevent = []\n",
    "            thisevent.append(eventnum)\n",
    "            thisevent.append(linearray[0])  # say what type of event: play/com/sub/etc.\n",
    "            if (linearray[0] == 'play'):\n",
    "                for i in range(1,7):\n",
    "                    thisevent.append(linearray[i])\n",
    "                for i in range(8,11):   # comment, sub_batting_order, sub_position empty\n",
    "                    thisevent.append('')\n",
    "            elif (linearray[0] == 'com'):\n",
    "                for i in range(1,7):\n",
    "                    thisevent.append('')\n",
    "                thisevent.append(linearray[1])\n",
    "                for i in range(9,11):\n",
    "                    thisevent.append('')\n",
    "            elif (linearray[0] == 'sub'):\n",
    "                thisevent.append('')    # inning, fill in later\n",
    "                thisevent.append(linearray[3])  # visitor/home\n",
    "                thisevent.append(linearray[1])  # playerID of player coming in\n",
    "                for i in range(4,8):\n",
    "                    thisevent.append('')  # count/pitches/result/comment all blank\n",
    "                thisevent.append(linearray[4]) # sub's batting order\n",
    "                thisevent.append(linearray[5]) # sub's fielding position\n",
    "            elif (linearray[0] == 'badj'):\n",
    "                thisevent.append('')    # inning, fill in later\n",
    "                thisevent.append('')  # visitor/home, fill in later\n",
    "                for i in range(4,8):\n",
    "                    thisevent.append('')  # count/pitches/result/comment all blank                \n",
    "                thisevent.append(linearray[1])  # playerID of adjusting batter\n",
    "                thisevent.append(linearray[2]) # batter hand adjusted to\n",
    "                thisevent.append('')  # add blank                \n",
    "            elif (linearray[0] == 'padj'):\n",
    "                thisevent.append('')    # inning, fill in later\n",
    "                thisevent.append('')  # visitor/home, fill in later\n",
    "                thisevent.append(linearray[1])  # playerID of adjusting pitcher\n",
    "                thisevent.append('')  # add blank                                \n",
    "                thisevent.append(linearray[2]) # pitcher hand adjusted to\n",
    "            elif (linearray[0] == 'ladj'):\n",
    "                thisevent.append('')    # inning, fill in later\n",
    "                thisevent.append(linearray[1])  # visitor/home\n",
    "                for i in range(3,8):\n",
    "                    thisevent.append('')  # playerID/count/pitches/result/comment all blank\n",
    "                thisevent.append(linearray[2]) # new batter\n",
    "                thisevent.append('') # add blank  \n",
    "            else:\n",
    "                print(linearray)\n",
    "            events = np.vstack((events,thisevent))\n",
    "            eventnum = eventnum + 1\n",
    "\n",
    "#for i in range(0,len(allgames)):\n",
    "#    print('i = ',i)\n",
    "#    pprint(allgames[i])\n",
    "#    print('\\n')\n",
    "print('ahoy')\n",
    "#pprint(allgames)"
   ]
  },
  {
   "cell_type": "code",
   "execution_count": 8,
   "metadata": {
    "collapsed": false
   },
   "outputs": [
    {
     "name": "stdout",
     "output_type": "stream",
     "text": [
      "'SDN196909230'\n",
      "51100\n"
     ]
    }
   ],
   "source": [
    "pprint(allgames[-1]['id'])\n",
    "print(len(allgames))"
   ]
  },
  {
   "cell_type": "code",
   "execution_count": null,
   "metadata": {
    "collapsed": false
   },
   "outputs": [],
   "source": [
    "with open('0events.json', 'w') as f:\n",
    "    json.dump(allgames, f)\n",
    "print('ok')"
   ]
  },
  {
   "cell_type": "code",
   "execution_count": null,
   "metadata": {
    "collapsed": false
   },
   "outputs": [],
   "source": [
    "with open('0events.json','r') as f:\n",
    "    allgames = json.load(f)\n",
    "allgames"
   ]
  },
  {
   "cell_type": "code",
   "execution_count": null,
   "metadata": {
    "collapsed": false
   },
   "outputs": [],
   "source": [
    "allgames[0]['events']"
   ]
  },
  {
   "cell_type": "code",
   "execution_count": null,
   "metadata": {
    "collapsed": false
   },
   "outputs": [],
   "source": [
    "nEvents = 0\n",
    "for game in allgames:\n",
    "    nEvents = nEvents + len(game['events'])\n",
    "print('{0:,.0f} events found'.format(nEvents))\n",
    "events_array = np.empty((nEvents,3),dtype=object)\n",
    "for game in allgames:\n",
    "    for j in range(0,len(game['events'])):\n",
    "        print(game['events'])\n",
    "#        events_array[eventno,0] = game['events'][j][0]\n",
    "#        events[eventno,1] = game['info']['visteam']\n",
    "#        events[eventno,2] = game['info']['hometeam']\n",
    "events_array"
   ]
  },
  {
   "cell_type": "code",
   "execution_count": null,
   "metadata": {
    "collapsed": true
   },
   "outputs": [],
   "source": []
  }
 ],
 "metadata": {
  "kernelspec": {
   "display_name": "Python 3",
   "language": "python",
   "name": "python3"
  },
  "language_info": {
   "codemirror_mode": {
    "name": "ipython",
    "version": 3
   },
   "file_extension": ".py",
   "mimetype": "text/x-python",
   "name": "python",
   "nbconvert_exporter": "python",
   "pygments_lexer": "ipython3",
   "version": "3.5.3"
  }
 },
 "nbformat": 4,
 "nbformat_minor": 0
}
