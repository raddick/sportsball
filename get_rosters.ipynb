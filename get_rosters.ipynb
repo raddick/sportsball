{
 "cells": [
  {
   "cell_type": "code",
   "execution_count": null,
   "metadata": {
    "collapsed": false
   },
   "outputs": [],
   "source": [
    "import os\n",
    "import numpy as np\n",
    "import pandas\n",
    "os.getcwd()"
   ]
  },
  {
   "cell_type": "code",
   "execution_count": null,
   "metadata": {
    "collapsed": false
   },
   "outputs": [],
   "source": [
    "os.chdir('retrosheet/')\n",
    "filelist = []\n",
    "for thisfile in os.listdir():\n",
    "    filename = str(thisfile)\n",
    "#    print(filename)\n",
    "    if ('.ROS' in filename):\n",
    "        filelist.append('retrosheet/'+filename)\n",
    "\n",
    "os.chdir('../')\n",
    "#print(filelist)\n",
    "print('files identified')"
   ]
  },
  {
   "cell_type": "code",
   "execution_count": null,
   "metadata": {
    "collapsed": false
   },
   "outputs": [],
   "source": [
    "colnames = ['playerID', 'nameLast', 'nameFirst', 'batting_hand', 'throwing_hand', 'team', 'position', 'year']\n",
    "#filename = 'retrosheet/MLN1954.ROS'\n",
    "\n",
    "roster_df = pandas.DataFrame(columns=colnames)\n",
    "roster_df = roster_df.set_index('playerID')\n",
    "for filename in filelist:\n",
    "    thisyear = str(filename).split('/')[1].split('.')[0][3:7]\n",
    "    this_roster_df = pandas.read_csv(filename, names=colnames, header=None)\n",
    "    this_roster_df = this_roster_df.set_index('playerID')\n",
    "    this_roster_df['year'] = thisyear\n",
    "    roster_df = pandas.concat((roster_df, this_roster_df))\n",
    "\n",
    "new_column_order = ['nameLast', 'nameFirst', 'batting_hand', 'throwing_hand', 'position', 'team', 'year']\n",
    "roster_df = roster_df[new_column_order]\n",
    "roster_df['year'] = pandas.to_numeric(roster_df['year'], errors='coerce')\n",
    "roster_df = roster_df.sort_values('team').sort_values('year').sort_index()\n",
    "\n",
    "#roster_df.to_csv('fullroster.csv', encoding='utf-8')\n",
    "print('Done')\n",
    "roster_df"
   ]
  },
  {
   "cell_type": "code",
   "execution_count": null,
   "metadata": {
    "collapsed": false
   },
   "outputs": [],
   "source": [
    "roster_df"
   ]
  },
  {
   "cell_type": "code",
   "execution_count": null,
   "metadata": {
    "collapsed": true
   },
   "outputs": [],
   "source": []
  }
 ],
 "metadata": {
  "kernelspec": {
   "display_name": "Python 3",
   "language": "python",
   "name": "python3"
  },
  "language_info": {
   "codemirror_mode": {
    "name": "ipython",
    "version": 3
   },
   "file_extension": ".py",
   "mimetype": "text/x-python",
   "name": "python",
   "nbconvert_exporter": "python",
   "pygments_lexer": "ipython3",
   "version": "3.5.3"
  }
 },
 "nbformat": 4,
 "nbformat_minor": 0
}
