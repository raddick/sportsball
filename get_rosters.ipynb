{
 "cells": [
  {
   "cell_type": "code",
   "execution_count": 1,
   "metadata": {
    "collapsed": false
   },
   "outputs": [
    {
     "data": {
      "text/plain": [
       "'/home/idies/workspace/persistent/sportsball'"
      ]
     },
     "execution_count": 1,
     "metadata": {},
     "output_type": "execute_result"
    }
   ],
   "source": [
    "import os\n",
    "import numpy as np\n",
    "import pandas\n",
    "os.getcwd()"
   ]
  },
  {
   "cell_type": "code",
   "execution_count": 2,
   "metadata": {
    "collapsed": false
   },
   "outputs": [
    {
     "name": "stdout",
     "output_type": "stream",
     "text": [
      "files identified\n"
     ]
    }
   ],
   "source": [
    "os.chdir('retrosheet/')\n",
    "filelist = []\n",
    "for thisfile in os.listdir():\n",
    "    filename = str(thisfile)\n",
    "#    print(filename)\n",
    "    if ('.ROS' in filename):\n",
    "        filelist.append('retrosheet/'+filename)\n",
    "\n",
    "os.chdir('../')\n",
    "#print(filelist)\n",
    "print('files identified')"
   ]
  },
  {
   "cell_type": "code",
   "execution_count": 3,
   "metadata": {
    "collapsed": false
   },
   "outputs": [
    {
     "name": "stdout",
     "output_type": "stream",
     "text": [
      "Done\n"
     ]
    }
   ],
   "source": [
    "#for thisfile in filelist[0]:\n",
    "#    df = pandas.DataFrame.from_csv(thisfile)\n",
    "colnames = ['nameLast', 'nameFirst', 'batting_hand', 'throwing_hand', 'teamID', 'position', 'year']\n",
    "\n",
    "roster_df = pandas.DataFrame(columns=colnames)\n",
    "\n",
    "prefix = 'retrosheet/'\n",
    "suffix = '.ROS'\n",
    "\n",
    "for filename in filelist:\n",
    "    thisteam = str(filename).split('/')[1].split('.')[0][0:3]\n",
    "    thisyear = str(filename).split('/')[1].split('.')[0][3:7]\n",
    "    this_roster_df = pandas.DataFrame.from_csv(prefix+thisteam+thisyear+suffix)#, columns=colnames)\n",
    "    this_roster_df['year'] = pandas.to_numeric(thisyear, errors='coerce')\n",
    "    this_roster_df.columns = colnames\n",
    "    roster_df = pandas.concat((roster_df, this_roster_df), axis=0)\n",
    "roster_df.index.name = 'playerID'\n",
    "\n",
    "new_column_order = ['nameLast', 'nameFirst', 'teamID', 'year', 'batting_hand', 'throwing_hand', 'position']\n",
    "roster_df = roster_df[new_column_order]\n",
    "roster_df = roster_df.sort_values('year').sort_values('teamID').sort_index()\n",
    "roster_df.to_csv('fullroster.csv', encoding='utf-8')\n",
    "print('Done')"
   ]
  },
  {
   "cell_type": "code",
   "execution_count": null,
   "metadata": {
    "collapsed": false
   },
   "outputs": [],
   "source": []
  },
  {
   "cell_type": "code",
   "execution_count": null,
   "metadata": {
    "collapsed": true
   },
   "outputs": [],
   "source": []
  }
 ],
 "metadata": {
  "kernelspec": {
   "display_name": "Python 3",
   "language": "python",
   "name": "python3"
  },
  "language_info": {
   "codemirror_mode": {
    "name": "ipython",
    "version": 3
   },
   "file_extension": ".py",
   "mimetype": "text/x-python",
   "name": "python",
   "nbconvert_exporter": "python",
   "pygments_lexer": "ipython3",
   "version": "3.5.3"
  }
 },
 "nbformat": 4,
 "nbformat_minor": 0
}
