{
 "cells": [
  {
   "cell_type": "code",
   "execution_count": null,
   "metadata": {
    "collapsed": false
   },
   "outputs": [],
   "source": [
    "import numpy\n",
    "import pandas\n",
    "import re\n",
    "#from datetime import datetime "
   ]
  },
  {
   "cell_type": "code",
   "execution_count": null,
   "metadata": {
    "collapsed": false
   },
   "outputs": [],
   "source": [
    "events_df = pandas.read_csv('events_1927_1938.csv', low_memory=False)\n",
    "events_df = events_df.set_index('eventID')\n",
    "events_df = events_df.drop('index', axis=1)\n",
    "events_df['date'] = pandas.to_datetime(events_df['date'], errors='coerce')\n",
    "events_df['year'] = events_df['date'].apply(lambda x: x.year)\n",
    "events_df['event_in_game'] = pandas.to_numeric(events_df['event_in_game'])\n",
    "events_df.dtypes\n",
    "#events_df.head(1).transpose()\n",
    "print('Full 1927 and 1938 event data loaded')\n",
    "\n",
    "nya1927_df = events_df[(events_df['year'] == 1927) & ((events_df['home_team'] == 'NYA') | (events_df['visiting_team'] == 'NYA'))]\n",
    "det1938_df = events_df[(events_df['year'] == 1938) & ((events_df['home_team'] == 'DET') | (events_df['visiting_team'] == 'DET'))]\n",
    "print('Selected 1927 Yankees and 1938 Tigers')\n",
    "\n",
    "nya1927_df = nya1927_df.sort_values(['gameID', 'event_in_game']).reset_index(drop=True)\n",
    "det1938_df = det1938_df.sort_values(['gameID', 'event_in_game']).reset_index(drop=True)\n",
    "\n",
    "print('Data sorted')\n",
    "print('\\n')\n",
    "\n",
    "nya1927_df['game_in_season'] = 1\n",
    "det1938_df['game_in_season'] = 1\n",
    "\n",
    "\n",
    "thisgame = 1\n",
    "for i in range(1, len(nya1927_df)):\n",
    "    if (numpy.mod(i,1000) == 0):\n",
    "        print('Processing {0} event {1:,.0f}...'.format('nya1927_df', i))\n",
    "    if (nya1927_df['gameID'].iloc[i] != nya1927_df['gameID'].iloc[i-1]):\n",
    "        thisgame = thisgame + 1\n",
    "    nya1927_df.loc[i, 'game_in_season'] = thisgame\n",
    "print('\\n')\n",
    "\n",
    "thisgame = 1\n",
    "for i in range(1, len(det1938_df)):\n",
    "    if (numpy.mod(i,1000) == 0):\n",
    "        print('Processing {0} event {1:,.0f}...'.format('det1938_df', i))\n",
    "    if (det1938_df['gameID'].iloc[i] != det1938_df['gameID'].iloc[i-1]):\n",
    "        thisgame = thisgame + 1\n",
    "    det1938_df.loc[i, 'game_in_season'] = thisgame\n",
    "\n",
    "#     tips.loc[tips['tip'] < 2, 'tip'] *= 2\n",
    "\n",
    "print('\\n')\n",
    "print('Calculated game in season for both teams')\n",
    "\n"
   ]
  },
  {
   "cell_type": "code",
   "execution_count": null,
   "metadata": {
    "collapsed": false
   },
   "outputs": [],
   "source": [
    "print(len(nya1927_df[['batterID', 'play', 'game_in_season']][(nya1927_df['batterID'] == 'ruthb101') & (nya1927_df['play'] == 'HR')]))\n",
    "\n",
    "print(len(det1938_df[['batterID', 'play', 'game_in_season']][(det1938_df['batterID'] == 'greeh102') & (det1938_df['play'] == 'HR')]))"
   ]
  },
  {
   "cell_type": "code",
   "execution_count": null,
   "metadata": {
    "collapsed": false
   },
   "outputs": [],
   "source": [
    "ruth1927_df = nya1927_df[(nya1927_df['batterID'] == 'bruth101') & (nya1927_df['play'] == 'HR')]\n",
    "\n",
    "greenberg1938_df = det1938_df[(det1938_df['batterID'] == 'greeh102') & (det1938_df['play'] == 'HR')]\n",
    "\n",
    "print('Babe Ruth: {0:.0f} home runs in {1:.0f}'.format(len(ruth1927_df),1927))\n",
    "print('Hank Greenberg: {0:.0f} home runs in {1:.0f}'.format(len(greenberg1938_df),1938))"
   ]
  },
  {
   "cell_type": "code",
   "execution_count": null,
   "metadata": {
    "collapsed": true
   },
   "outputs": [],
   "source": []
  }
 ],
 "metadata": {
  "kernelspec": {
   "display_name": "Python 3",
   "language": "python",
   "name": "python3"
  },
  "language_info": {
   "codemirror_mode": {
    "name": "ipython",
    "version": 3
   },
   "file_extension": ".py",
   "mimetype": "text/x-python",
   "name": "python",
   "nbconvert_exporter": "python",
   "pygments_lexer": "ipython3",
   "version": "3.5.3"
  }
 },
 "nbformat": 4,
 "nbformat_minor": 0
}
