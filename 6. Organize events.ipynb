{
 "cells": [
  {
   "cell_type": "code",
   "execution_count": 1,
   "metadata": {
    "collapsed": false
   },
   "outputs": [
    {
     "name": "stdout",
     "output_type": "stream",
     "text": [
      "ok\n"
     ]
    }
   ],
   "source": [
    "import json\n",
    "import numpy as np\n",
    "import pandas\n",
    "from pprint import pprint\n",
    "pandas.options.display.max_colwidth = -1\n",
    "print('ok')"
   ]
  },
  {
   "cell_type": "code",
   "execution_count": 7,
   "metadata": {
    "collapsed": false,
    "scrolled": true
   },
   "outputs": [
    {
     "name": "stdout",
     "output_type": "stream",
     "text": [
      "raw/events_raw_1952.json\n",
      "with_derived/events_with_derived_1952.json\n",
      "Data loaded for 1952: 1,199 games\n",
      "...\n",
      "Parsing game number 0: BSN195204150\n",
      "Parsing game number 100: SLA195206221\n",
      "Parsing game number 200: BOS195209241\n",
      "Parsing game number 300: CHN195205270\n",
      "Parsing game number 400: CIN195207140\n",
      "Parsing game number 500: CLE195209110\n",
      "Parsing game number 600: BRO195206170\n",
      "Parsing game number 700: WS1195207190\n",
      "Parsing game number 800: NYA195208290\n",
      "Parsing game number 900: PHI195205272\n",
      "Parsing game number 1,000: PIT195208241\n",
      "Parsing game number 1,100: SLN195206070\n",
      "Parsing game number 1,198: CHN195208172\n",
      "Saving file...\n",
      "Done\n"
     ]
    }
   ],
   "source": [
    "allgames = []\n",
    "yeararray = [1952]\n",
    "#yeararray = [1921, 1922, 1925, 1927, 1928]\n",
    "#for i in np.linspace(1930,2016,87):\n",
    "#    yeararray.append(i)\n",
    "\n",
    "years_with_derived = []\n",
    "for i in np.linspace(1942,1959,18):\n",
    "    years_with_derived.append(i)\n",
    "for i in np.linspace(1962,1968,7):\n",
    "    years_with_derived.append(i)\n",
    "for i in np.linspace(1971,1973,3):\n",
    "    years_with_derived.append(i)\n",
    "    \n",
    "for thisyear in yeararray:\n",
    "#    print('Starting to parse the year {0:.0f}'.format(thisyear))\n",
    "    filename = 'raw/events_raw_{0:.0f}.json'.format(thisyear)\n",
    "    print(filename)    \n",
    "    with open(filename,'r') as f:\n",
    "        games = json.load(f)\n",
    "    if (thisyear in years_with_derived):\n",
    "        derived_filename = 'with_derived/events_with_derived_{0:.0f}.json'.format(thisyear)\n",
    "        print(derived_filename)\n",
    "        with open(derived_filename,'r') as f:\n",
    "            games_derived = json.load(f)\n",
    "        games = games + games_derived\n",
    "    allgames = allgames + games\n",
    "    print('Data loaded for {0:.0f}: {1:,.0f} games'.format(thisyear, len(allgames)))\n",
    "    print('...')\n",
    "    \n",
    "    column_list = ['gameID', 'event_in_game', 'event_type', 'inning', 'visitor_or_home', 'batter_id']\n",
    "    column_list += ['pitch_count', 'pitch_sequence', 'event', 'comment', 'sub_team', 'sub_id', 'sub_batting_order', 'sub_position']#, 'gameID']\n",
    "    \n",
    "    #for i in (24,35,323,352,378):\n",
    "    for i in range(0, len(allgames)):\n",
    "        game_events_df = pandas.DataFrame.from_records(allgames[i]['events'])\n",
    "        game_events_df['event_id'] = -1\n",
    "        game_events_df['gameID'] = allgames[i]['id']\n",
    "        if ((np.mod(i,100) == 0) | (i == len(allgames)-1)):\n",
    "            print('Parsing game number {0:,.0f}: {1:}'.format(i, allgames[i]['id']))\n",
    "\n",
    "        for varname in ('comment', 'sub_team', 'sub_id', 'sub_batting_order', 'sub_position'):\n",
    "            if (varname not in game_events_df):                # if a game had no comments and/or substitutes, fill with blanks\n",
    "                game_events_df[varname] = ''\n",
    "        game_events_df = game_events_df[column_list]\n",
    "\n",
    "        game_events_df['inning'] = pandas.to_numeric(game_events_df['inning'], errors='coerce')\n",
    "        game_events_df['visitor_or_home'] = pandas.to_numeric(game_events_df['visitor_or_home'], errors='coerce')\n",
    "        game_events_df['sub_team'] = pandas.to_numeric(game_events_df['sub_team'], errors='coerce')\n",
    "        game_events_df['sub_batting_order'] = pandas.to_numeric(game_events_df['sub_batting_order'], errors='coerce')\n",
    "        game_events_df['sub_position'] = pandas.to_numeric(game_events_df['sub_position'], errors='coerce')\n",
    "        game_events_df = game_events_df.set_index('event_in_game')\n",
    "        game_events_df = game_events_df.fillna('')\n",
    "\n",
    "        current_comment = ''\n",
    "        first_appearance = -1\n",
    "        for eig, thisevent in game_events_df.iterrows():\n",
    "            if (thisevent['event_type'] == 'com'):\n",
    "    #            print(eig, thisevent['comment'])\n",
    "                if (eig == 1):\n",
    "                    game_events_df['event_type'].set_value(1, 'gameinfo')\n",
    "                    first_appearance = 1\n",
    "                elif (game_events_df['event_type'].loc[eig-1] != 'com'):\n",
    "                    first_appearance = eig\n",
    "                current_comment += ' ' + thisevent['comment']\n",
    "            else:\n",
    "                if (current_comment != ''):\n",
    "                    current_comment = current_comment.replace('\"','')\n",
    "                    game_events_df['comment'].set_value(first_appearance-1, current_comment)\n",
    "    #                print(first_appearance,current_comment,'\\n')                \n",
    "                current_comment = ''\n",
    "                first_appearance = -1\n",
    "\n",
    "        # do it again to take care of the case when the last event in a game is a comment\n",
    "        if (game_events_df['event_type'].iloc[-1] == 'com'):\n",
    "            current_comment = current_comment.replace('\"','')\n",
    "            game_events_df['comment'].set_value(first_appearance-1, current_comment)\n",
    "\n",
    "        game_events_df = game_events_df[game_events_df['event_type'] != 'com']        \n",
    "\n",
    "        game_gameinfo_df = game_events_df[game_events_df['event_type'] == 'gameinfo']\n",
    "        game_events_df = game_events_df[game_events_df['event_type'] != 'gameinfo']\n",
    "\n",
    "        # re-index now that we are missing rows (again, counting events in the game starting from 1)\n",
    "        game_events_df = game_events_df.reset_index(drop=True)\n",
    "        game_events_df['event_in_game'] = game_events_df.index.values+1\n",
    "        game_events_df = game_events_df.set_index('event_in_game')\n",
    "        \n",
    "        if (len(game_gameinfo_df) > 0):\n",
    "#            print('Inserting extra information in game {0:,.0f}, {1:}'.format(i, allgames[i]['id']))\n",
    "            allgames[i]['info']['comment'] = game_gameinfo_df['comment'].values.tolist()[0]\n",
    "\n",
    "        allgames[i]['events'] = game_events_df.values.tolist()\n",
    "                                    \n",
    "#    print('Writing files...')\n",
    "#    gameinfo_df.to_csv('games/game_info_extra_{0:.0f}.csv'.format(thisyear))\n",
    "#    events_df.to_csv('events_data/events_{0:.0f}.csv'.format(thisyear))\n",
    "\n",
    "    print('Saving file...')\n",
    "    with open('events_json/events_{0:.0f}.json'.format(thisyear),'w') as f:\n",
    "        json.dump(allgames, f)\n",
    "\n",
    "print('Done')"
   ]
  },
  {
   "cell_type": "code",
   "execution_count": null,
   "metadata": {
    "collapsed": true
   },
   "outputs": [],
   "source": []
  },
  {
   "cell_type": "code",
   "execution_count": null,
   "metadata": {
    "collapsed": true
   },
   "outputs": [],
   "source": []
  },
  {
   "cell_type": "code",
   "execution_count": null,
   "metadata": {
    "collapsed": true
   },
   "outputs": [],
   "source": []
  },
  {
   "cell_type": "code",
   "execution_count": null,
   "metadata": {
    "collapsed": true
   },
   "outputs": [],
   "source": []
  },
  {
   "cell_type": "code",
   "execution_count": null,
   "metadata": {
    "collapsed": false
   },
   "outputs": [],
   "source": [
    "column_list = ['event_id', 'gameID', 'event_in_game', 'event_type', 'inning', 'visitor_or_home', 'batter_id']\n",
    "column_list += ['pitch_count', 'pitch_sequence', 'event', 'comment', 'sub_team', 'sub_id', 'sub_batting_order', 'sub_position']#, 'gameID']\n",
    "\n",
    "events_df = pandas.DataFrame(columns=column_list)\n",
    "\n",
    "#for i in range(0, len(allgames)):\n",
    "global_count_offset = 0\n",
    "#for i in (323, 352, 378):\n",
    "for i in range(0,36):\n",
    "#for i in range(0, len(allgames)):\n",
    "    game_events_df = pandas.DataFrame.from_records(allgames[i]['events'])\n",
    "    game_events_df['event_id'] = -1\n",
    "    game_events_df['gameID'] = allgames[i]['id']\n",
    "    for varname in ('comment', 'sub_team', 'sub_id', 'sub_batting_order', 'sub_position'):\n",
    "        if (varname not in game_events_df):                # if a game had no comments and/or substitutes, fill with blanks\n",
    "            game_events_df[varname] = ''\n",
    "    game_events_df = game_events_df[column_list]\n",
    "\n",
    "    game_events_df['inning'] = pandas.to_numeric(game_events_df['inning'], errors='coerce')\n",
    "    game_events_df['visitor_or_home'] = pandas.to_numeric(game_events_df['visitor_or_home'], errors='coerce')\n",
    "    game_events_df['sub_team'] = pandas.to_numeric(game_events_df['sub_team'], errors='coerce')\n",
    "    game_events_df['sub_batting_order'] = pandas.to_numeric(game_events_df['sub_batting_order'], errors='coerce')\n",
    "    game_events_df['sub_position'] = pandas.to_numeric(game_events_df['sub_position'], errors='coerce')\n",
    "    game_events_df = game_events_df.set_index('event_in_game')\n",
    "    game_events_df = game_events_df.fillna('')\n",
    "    \n",
    "    if (np.mod(i, 10) == 0):\n",
    "        print('Parsing game number {0:,.0f}, containing {1:,.0f} events.'.format(i, len(game_events_df)))\n",
    "    \n",
    "    # NOTE: this all takes iloc and so goes off of event_in_game, which is a 1-based counter\n",
    "#    print(game_events_df.tail(1))\n",
    "\n",
    "    if (game_events_df['event_type'].iloc[1] == 'com'):\n",
    "        print('COMMENT IN FIRST LINE in game number {0:,.0f}!!!!!!!!!!!!!!!'.format(i))\n",
    "#        full_comment = game_events_df['comment'].iloc[1] + ' ' + game_events_df['comment'].iloc[2]\n",
    "#        game_events_df['comment'].set_value(2, full_comment)       \n",
    "        \n",
    "    for j in range(len(game_events_df)-1, -2, -1):   # iterate from last to first: be sure to do something if the first event is a comment\n",
    "        if (game_events_df['event_type'].iloc[j] == 'com'):\n",
    "#            print(j, game_events_df.iloc[j])\n",
    "            full_comment = game_events_df['comment'].iloc[j]\n",
    "            if (j < len(game_events_df)-1):\n",
    "                full_comment = full_comment + ' ' + game_events_df['comment'].iloc[j+1]\n",
    "#            if (full_comment[0] == '\"'):\n",
    "#                full_comment = full_comment[1:]\n",
    "#            if (full_comment[-1] == '\"'):\n",
    "#                full_comment = full_comment[:-1]\n",
    "            if (game_events_df['comment'].iloc[j-1] != ''):\n",
    "                game_events_df['comment'].set_value(j, full_comment)\n",
    "                \n",
    "#        print(game_events_df.iloc[1])\n",
    "        \n",
    "    # drop comment rows\n",
    "    game_events_df = game_events_df[game_events_df['event_type'] != 'com']\n",
    "\n",
    "    # re-index now that we are missing rows (again, counting events in the game starting from 1)\n",
    "    game_events_df = game_events_df.reset_index(drop=True)\n",
    "    game_events_df['event_in_game'] = game_events_df.index.values+1\n",
    "    #game_events_df = game_events_df.set_index('event_in_game')\n",
    "\n",
    "    game_events_df['event_id'] = game_events_df['event_in_game'] + global_count_offset\n",
    "   \n",
    "    events_df = pandas.concat((events_df, game_events_df))\n",
    "    \n",
    "    global_count_offset += len(game_events_df)    \n",
    "\n",
    "\n",
    "\n",
    "events_df = events_df[column_list]\n",
    "events_df = events_df.set_index('event_id')\n",
    "#events_df.to_csv('events/events_1921.csv')\n",
    "#events_df\n",
    "events_df[events_df['comment'] != '']\n",
    "\n",
    "#print('Done')"
   ]
  },
  {
   "cell_type": "code",
   "execution_count": null,
   "metadata": {
    "collapsed": true
   },
   "outputs": [],
   "source": []
  },
  {
   "cell_type": "code",
   "execution_count": null,
   "metadata": {
    "collapsed": true
   },
   "outputs": [],
   "source": []
  },
  {
   "cell_type": "code",
   "execution_count": null,
   "metadata": {
    "collapsed": true
   },
   "outputs": [],
   "source": []
  },
  {
   "cell_type": "code",
   "execution_count": null,
   "metadata": {
    "collapsed": true
   },
   "outputs": [],
   "source": []
  },
  {
   "cell_type": "code",
   "execution_count": null,
   "metadata": {
    "collapsed": true
   },
   "outputs": [],
   "source": []
  },
  {
   "cell_type": "code",
   "execution_count": null,
   "metadata": {
    "collapsed": true
   },
   "outputs": [],
   "source": []
  },
  {
   "cell_type": "code",
   "execution_count": null,
   "metadata": {
    "collapsed": true
   },
   "outputs": [],
   "source": []
  },
  {
   "cell_type": "code",
   "execution_count": null,
   "metadata": {
    "collapsed": true
   },
   "outputs": [],
   "source": []
  },
  {
   "cell_type": "code",
   "execution_count": null,
   "metadata": {
    "collapsed": false
   },
   "outputs": [],
   "source": [
    "column_list = ['event_id', 'gameID', 'event_in_game', 'event_type', 'inning', 'visitor_or_home', 'batter_id']\n",
    "column_list += ['pitch_count', 'pitch_sequence', 'event', 'comment', 'sub_team', 'sub_id', 'sub_batting_order', 'sub_position']#, 'gameID']\n",
    "\n",
    "events_df = pandas.DataFrame(columns=column_list)\n",
    "#events_df = events_df.set_index('event_id')\n",
    "\n",
    "globalcount = 0\n",
    "for i in range(0, len(allgames)):\n",
    "    if (np.mod(i, 100) == 0):\n",
    "        print(i)\n",
    "    game_events_df = pandas.DataFrame.from_records(allgames[i]['events'])\n",
    "    game_events_df['event_id'] = globalcount + game_events_df['event_in_game']\n",
    "    game_events_df['gameID'] = allgames[i]['id']\n",
    "\n",
    "\n",
    "    \n",
    "    game_events_df = game_events_df[column_list]\n",
    "#    game_events_df = game_events_df.set_index('event_in_game')\n",
    "\n",
    "    #game_events_df[game_events_df['event_type'] == 'comment'].head(5)\n",
    "    \n",
    "    events_df = pandas.concat((events_df, game_events_df))\n",
    "    globalcount = globalcount + len(game_events_df)\n",
    "\n",
    "events_df['event_in_game'] = pandas.to_numeric(events_df['event_in_game'], errors='coerce')\n",
    "events_df = events_df.set_index('event_id', drop=True)\n",
    "#events_df = events_df.drop('event_in_game', axis=1)\n",
    "print('Done')"
   ]
  },
  {
   "cell_type": "code",
   "execution_count": null,
   "metadata": {
    "collapsed": false
   },
   "outputs": [],
   "source": [
    "events_df['inning'] = pandas.to_numeric(events_df['inning'], errors='coerce')\n",
    "events_df['visitor_or_home'] = pandas.to_numeric(events_df['visitor_or_home'], errors='coerce')\n",
    "events_df['sub_team'] = pandas.to_numeric(events_df['sub_team'], errors='coerce')\n",
    "events_df['sub_batting_order'] = pandas.to_numeric(events_df['sub_batting_order'], errors='coerce')\n",
    "events_df['sub_position'] = pandas.to_numeric(events_df['sub_position'], errors='coerce')\n",
    "events_df = events_df.fillna('')          \n",
    "print('ok')"
   ]
  },
  {
   "cell_type": "code",
   "execution_count": null,
   "metadata": {
    "collapsed": false
   },
   "outputs": [],
   "source": [
    "events_df\n",
    "#events_df[events_df['event_type'] == 'com']"
   ]
  },
  {
   "cell_type": "code",
   "execution_count": null,
   "metadata": {
    "collapsed": true
   },
   "outputs": [],
   "source": []
  },
  {
   "cell_type": "code",
   "execution_count": null,
   "metadata": {
    "collapsed": true
   },
   "outputs": [],
   "source": []
  },
  {
   "cell_type": "code",
   "execution_count": null,
   "metadata": {
    "collapsed": true
   },
   "outputs": [],
   "source": []
  },
  {
   "cell_type": "code",
   "execution_count": null,
   "metadata": {
    "collapsed": true
   },
   "outputs": [],
   "source": []
  },
  {
   "cell_type": "code",
   "execution_count": null,
   "metadata": {
    "collapsed": false
   },
   "outputs": [],
   "source": [
    "column_list = ['event_in_game', 'event_type', 'inning', 'home_or_visitor', 'batterID']\n",
    "column_list += ['pitch_count', 'pitch_sequence', 'event', 'comment', 'sub_team', 'sub_batting_order', 'sub_position']#, 'gameID']\n",
    "\n",
    "for i in range(0,1):\n",
    "#for i in range(0,len(allgames)):\n",
    "    thisgamedict = allgames[i]\n",
    "    this_game_events_df = pandas.DataFrame(thisgamedict['events'], columns=column_list)\n",
    "    this_game_events_df = this_game_events_df.set_index('event_in_game')\n",
    "this_game_events_df[this_game_events_df['comment'] != '']"
   ]
  },
  {
   "cell_type": "code",
   "execution_count": null,
   "metadata": {
    "collapsed": true
   },
   "outputs": [],
   "source": []
  },
  {
   "cell_type": "code",
   "execution_count": null,
   "metadata": {
    "collapsed": true
   },
   "outputs": [],
   "source": []
  },
  {
   "cell_type": "code",
   "execution_count": null,
   "metadata": {
    "collapsed": true
   },
   "outputs": [],
   "source": []
  },
  {
   "cell_type": "code",
   "execution_count": null,
   "metadata": {
    "collapsed": true
   },
   "outputs": [],
   "source": []
  },
  {
   "cell_type": "code",
   "execution_count": null,
   "metadata": {
    "collapsed": false,
    "scrolled": false
   },
   "outputs": [],
   "source": [
    "column_list = ['event_in_game', 'event_type', 'inning', 'home_or_visitor', 'batterID']\n",
    "column_list += ['pitch_count', 'pitch_sequence', 'event', 'comment', 'sub_team', 'sub_batting_order', 'sub_position']#, 'gameID']\n",
    "\n",
    "show_columns_for_weirdness = ['event_in_game', 'inning', 'home_or_visitor', 'event', 'comment']\n",
    "\n",
    "for i in range(0,len(allgames)):\n",
    "    thisgamedict = allgames[i]\n",
    "    thisgameevents_df = pandas.DataFrame(thisgamedict['events'], columns=column_list)\n",
    "    if (numpy.mod(i,100) == 0):\n",
    "        print('processing game {0:,.0f}...'.format(i))\n",
    "    for j in range(0,len(thisgameevents_df)): #- 1):\n",
    "        if (thisgameevents_df.iloc[j]['event_type'] != 'play'):\n",
    "            thisgameevents_df.iloc[j]['inning'] = thisgameevents_df.iloc[j-1]['inning']\n",
    "            thisgameevents_df.iloc[j]['home_or_visitor'] = thisgameevents_df.iloc[j-1]['home_or_visitor']\n",
    "            \n",
    "        if (thisgameevents_df.iloc[j-1]['event_type'] not in ('play','sub')):\n",
    "            thisgameevents_df.iloc[j]['comment'] = thisgameevents_df.iloc[j-1]['comment'] + ' ' + thisgameevents_df.iloc[j]['comment']\n",
    "\n",
    "    thisgameevents_df = thisgameevents_df[(thisgameevents_df['event_type'] == 'play') | (thisgameevents_df['event_type'] == 'sub')]\n",
    "    thisgameevents_df = thisgameevents_df.drop('event_in_game',axis=1)\n",
    "    thisgameevents_df = thisgameevents_df.reset_index(drop=True)\n",
    "    thisgameevents_df.index.name = 'event_in_game'\n",
    "    allgames[i]['events'] = thisgameevents_df.reset_index().values.tolist()\n",
    "\n",
    "print('preparing to save file...')\n",
    "#thisgameevents_df\n",
    "with open('events_json/events_1930.json','w') as f:\n",
    "    json.dump(allgames, f)\n",
    "print('done')"
   ]
  },
  {
   "cell_type": "code",
   "execution_count": null,
   "metadata": {
    "collapsed": true
   },
   "outputs": [],
   "source": [
    "    # replace event types with number codes for fastness\n",
    "#    thisgameevents_df['event_type'] = numpy.where((thisgameevents_df['event_type'] == 'play'),0,(thisgameevents_df['event_type']))\n",
    "#    thisgameevents_df['event_type'] = numpy.where((thisgameevents_df['event_type'] == 'sub'),1,(thisgameevents_df['event_type']))\n",
    "#    thisgameevents_df['event_type'] = numpy.where((thisgameevents_df['event_type'] == 'com'),2,(thisgameevents_df['event_type']))\n",
    "#    thisgameevents_df['event_type'] = numpy.where((thisgameevents_df['event_type'] == 'badj'),3,(thisgameevents_df['event_type']))\n",
    "#    thisgameevents_df['event_type'] = numpy.where((thisgameevents_df['event_type'] == 'padj'),4,(thisgameevents_df['event_type']))\n",
    "#    thisgameevents_df['event_type'] = numpy.where((thisgameevents_df['event_type'] == 'badj'),5,(thisgameevents_df['event_type']))\n",
    "#    thisgameevents_df['event_type'] = pandas.to_numeric(thisgameevents_df['event_type'])\n",
    "    \n"
   ]
  }
 ],
 "metadata": {
  "kernelspec": {
   "display_name": "Python 3",
   "language": "python",
   "name": "python3"
  },
  "language_info": {
   "codemirror_mode": {
    "name": "ipython",
    "version": 3
   },
   "file_extension": ".py",
   "mimetype": "text/x-python",
   "name": "python",
   "nbconvert_exporter": "python",
   "pygments_lexer": "ipython3",
   "version": "3.5.3"
  }
 },
 "nbformat": 4,
 "nbformat_minor": 0
}
