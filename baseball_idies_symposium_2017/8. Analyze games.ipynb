{
 "cells": [
  {
   "cell_type": "code",
   "execution_count": 22,
   "metadata": {
    "collapsed": false
   },
   "outputs": [
    {
     "name": "stdout",
     "output_type": "stream",
     "text": [
      "Done\n"
     ]
    }
   ],
   "source": [
    "import numpy\n",
    "import pandas\n",
    "from datetime import datetime\n",
    "from matplotlib import pyplot as plt\n",
    "from IPython.display import display, HTML\n",
    "print('Done')"
   ]
  },
  {
   "cell_type": "code",
   "execution_count": 2,
   "metadata": {
    "collapsed": false
   },
   "outputs": [
    {
     "name": "stdout",
     "output_type": "stream",
     "text": [
      "Data loaded\n",
      "Dates calculated\n",
      "Year parsed\n",
      "gameID assigned\n",
      "Index set to gameID\n",
      "Done\n"
     ]
    }
   ],
   "source": [
    "games_df = pandas.read_csv('gamedata.csv', low_memory=False)\n",
    "games_df = games_df.drop('gameID', axis=1)\n",
    "print('Data loaded')\n",
    "\n",
    "games_df['date'] = pandas.to_datetime(games_df['date'], format='%Y%m%d', errors='coerce')\n",
    "print('Dates calculated')\n",
    "\n",
    "games_df['year'] = games_df['date'].apply(lambda x: x.year)\n",
    "print('Year parsed')\n",
    "\n",
    "games_df['gameID'] = games_df['home'] + games_df['date'].apply(lambda x: x.strftime('%Y%m%d')) + games_df['gameno'].apply(lambda x: str(x))\n",
    "print('gameID assigned')\n",
    "\n",
    "\n",
    "games_df = games_df.set_index('gameID')\n",
    "print('Index set to gameID')\n",
    "\n",
    "# Keep only games 1901 or later\n",
    "#games_df = games_df[games_df['year'] >= 1901]\n",
    "#print('Data saved for 1901 and later')\n",
    "\n",
    "print('Done')"
   ]
  },
  {
   "cell_type": "code",
   "execution_count": null,
   "metadata": {
    "collapsed": false
   },
   "outputs": [],
   "source": [
    "#theyears_df = games_df.groupby('year')\n",
    "years_df = games_df.groupby('year')\n",
    "games_by_year = years_df.size()\n",
    "games_by_year = games_by_year.reset_index()\n",
    "games_by_year.columns = ['year', 'nGames']\n",
    "games_by_year = games_by_year.set_index('year')\n",
    "games_by_year"
   ]
  },
  {
   "cell_type": "code",
   "execution_count": 3,
   "metadata": {
    "collapsed": false
   },
   "outputs": [
    {
     "data": {
      "text/plain": [
       "date             1871-05-04 00:00:00\n",
       "visitor                          CL1\n",
       "visitor_score                      0\n",
       "home                             FW1\n",
       "home_score                         2\n",
       "Name: FW1187105040, dtype: object"
      ]
     },
     "execution_count": 3,
     "metadata": {},
     "output_type": "execute_result"
    }
   ],
   "source": [
    "# First game\n",
    "games_df[['date', 'visitor', 'visitor_score', 'home', 'home_score']].iloc[0]"
   ]
  },
  {
   "cell_type": "code",
   "execution_count": 6,
   "metadata": {
    "collapsed": false
   },
   "outputs": [
    {
     "data": {
      "text/html": [
       "<div>\n",
       "<style>\n",
       "    .dataframe thead tr:only-child th {\n",
       "        text-align: right;\n",
       "    }\n",
       "\n",
       "    .dataframe thead th {\n",
       "        text-align: left;\n",
       "    }\n",
       "\n",
       "    .dataframe tbody tr th {\n",
       "        vertical-align: top;\n",
       "    }\n",
       "</style>\n",
       "<table border=\"1\" class=\"dataframe\">\n",
       "  <thead>\n",
       "    <tr style=\"text-align: right;\">\n",
       "      <th></th>\n",
       "      <th>date</th>\n",
       "      <th>visitor_score</th>\n",
       "      <th>home</th>\n",
       "      <th>home_score</th>\n",
       "      <th>length</th>\n",
       "    </tr>\n",
       "    <tr>\n",
       "      <th>gameID</th>\n",
       "      <th></th>\n",
       "      <th></th>\n",
       "      <th></th>\n",
       "      <th></th>\n",
       "      <th></th>\n",
       "    </tr>\n",
       "  </thead>\n",
       "  <tbody>\n",
       "    <tr>\n",
       "      <th>WS1192805050</th>\n",
       "      <td>1928-05-05</td>\n",
       "      <td>5</td>\n",
       "      <td>WS1</td>\n",
       "      <td>6</td>\n",
       "      <td>1245.0</td>\n",
       "    </tr>\n",
       "    <tr>\n",
       "      <th>CHA198405080</th>\n",
       "      <td>1984-05-08</td>\n",
       "      <td>6</td>\n",
       "      <td>CHA</td>\n",
       "      <td>7</td>\n",
       "      <td>486.0</td>\n",
       "    </tr>\n",
       "    <tr>\n",
       "      <th>NYN196405312</th>\n",
       "      <td>1964-05-31</td>\n",
       "      <td>8</td>\n",
       "      <td>NYN</td>\n",
       "      <td>6</td>\n",
       "      <td>443.0</td>\n",
       "    </tr>\n",
       "    <tr>\n",
       "      <th>HOU198906030</th>\n",
       "      <td>1989-06-03</td>\n",
       "      <td>4</td>\n",
       "      <td>HOU</td>\n",
       "      <td>5</td>\n",
       "      <td>434.0</td>\n",
       "    </tr>\n",
       "    <tr>\n",
       "      <th>PHI201308240</th>\n",
       "      <td>2013-08-24</td>\n",
       "      <td>12</td>\n",
       "      <td>PHI</td>\n",
       "      <td>7</td>\n",
       "      <td>426.0</td>\n",
       "    </tr>\n",
       "  </tbody>\n",
       "</table>\n",
       "</div>"
      ],
      "text/plain": [
       "                   date  visitor_score home  home_score  length\n",
       "gameID                                                         \n",
       "WS1192805050 1928-05-05              5  WS1           6  1245.0\n",
       "CHA198405080 1984-05-08              6  CHA           7   486.0\n",
       "NYN196405312 1964-05-31              8  NYN           6   443.0\n",
       "HOU198906030 1989-06-03              4  HOU           5   434.0\n",
       "PHI201308240 2013-08-24             12  PHI           7   426.0"
      ]
     },
     "execution_count": 6,
     "metadata": {},
     "output_type": "execute_result"
    }
   ],
   "source": [
    "# Five longest games\n",
    "games_df[['date', 'visitor_score', 'home', 'home_score', 'length']].sort_values('length', ascending=False).head(5)"
   ]
  },
  {
   "cell_type": "code",
   "execution_count": 7,
   "metadata": {
    "collapsed": false
   },
   "outputs": [
    {
     "data": {
      "text/html": [
       "<div>\n",
       "<style>\n",
       "    .dataframe thead tr:only-child th {\n",
       "        text-align: right;\n",
       "    }\n",
       "\n",
       "    .dataframe thead th {\n",
       "        text-align: left;\n",
       "    }\n",
       "\n",
       "    .dataframe tbody tr th {\n",
       "        vertical-align: top;\n",
       "    }\n",
       "</style>\n",
       "<table border=\"1\" class=\"dataframe\">\n",
       "  <thead>\n",
       "    <tr style=\"text-align: right;\">\n",
       "      <th></th>\n",
       "      <th>date</th>\n",
       "      <th>home</th>\n",
       "      <th>home_score</th>\n",
       "      <th>visitor</th>\n",
       "      <th>visitor_score</th>\n",
       "      <th>total_score</th>\n",
       "    </tr>\n",
       "    <tr>\n",
       "      <th>gameID</th>\n",
       "      <th></th>\n",
       "      <th></th>\n",
       "      <th></th>\n",
       "      <th></th>\n",
       "      <th></th>\n",
       "      <th></th>\n",
       "    </tr>\n",
       "  </thead>\n",
       "  <tbody>\n",
       "    <tr>\n",
       "      <th>TRO187106280</th>\n",
       "      <td>1871-06-28</td>\n",
       "      <td>TRO</td>\n",
       "      <td>33</td>\n",
       "      <td>PH1</td>\n",
       "      <td>49</td>\n",
       "      <td>82</td>\n",
       "    </tr>\n",
       "    <tr>\n",
       "      <th>PH1187205010</th>\n",
       "      <td>1872-05-01</td>\n",
       "      <td>PH1</td>\n",
       "      <td>34</td>\n",
       "      <td>BL1</td>\n",
       "      <td>19</td>\n",
       "      <td>53</td>\n",
       "    </tr>\n",
       "    <tr>\n",
       "      <th>BR2187210050</th>\n",
       "      <td>1872-10-05</td>\n",
       "      <td>BR2</td>\n",
       "      <td>14</td>\n",
       "      <td>BL1</td>\n",
       "      <td>39</td>\n",
       "      <td>53</td>\n",
       "    </tr>\n",
       "    <tr>\n",
       "      <th>TRO187107030</th>\n",
       "      <td>1871-07-03</td>\n",
       "      <td>TRO</td>\n",
       "      <td>37</td>\n",
       "      <td>NY2</td>\n",
       "      <td>16</td>\n",
       "      <td>53</td>\n",
       "    </tr>\n",
       "    <tr>\n",
       "      <th>WS4187205250</th>\n",
       "      <td>1872-05-25</td>\n",
       "      <td>WS4</td>\n",
       "      <td>23</td>\n",
       "      <td>MID</td>\n",
       "      <td>28</td>\n",
       "      <td>51</td>\n",
       "    </tr>\n",
       "  </tbody>\n",
       "</table>\n",
       "</div>"
      ],
      "text/plain": [
       "                   date home  home_score visitor  visitor_score  total_score\n",
       "gameID                                                                      \n",
       "TRO187106280 1871-06-28  TRO          33     PH1             49           82\n",
       "PH1187205010 1872-05-01  PH1          34     BL1             19           53\n",
       "BR2187210050 1872-10-05  BR2          14     BL1             39           53\n",
       "TRO187107030 1871-07-03  TRO          37     NY2             16           53\n",
       "WS4187205250 1872-05-25  WS4          23     MID             28           51"
      ]
     },
     "execution_count": 7,
     "metadata": {},
     "output_type": "execute_result"
    }
   ],
   "source": [
    "# Five highest (total) scoring games\n",
    "games_df['total_score'] = games_df['visitor_score'] + games_df['home_score']\n",
    "games_df[['date', 'home', 'home_score', 'visitor', 'visitor_score', 'total_score']].sort_values('total_score', ascending=False).head(5)"
   ]
  },
  {
   "cell_type": "code",
   "execution_count": 9,
   "metadata": {
    "collapsed": false
   },
   "outputs": [
    {
     "data": {
      "text/plain": [
       "<matplotlib.text.Text at 0x7fd06be71a90>"
      ]
     },
     "execution_count": 9,
     "metadata": {},
     "output_type": "execute_result"
    },
    {
     "data": {
      "image/png": "[encoded data removed]",
      "text/plain": [
       "<matplotlib.figure.Figure at 0x7fd06bf68eb8>"
      ]
     },
     "metadata": {},
     "output_type": "display_data"
    }
   ],
   "source": [
    "thebins = numpy.arange(0,30)\n",
    "longbins = numpy.arange(30,90)\n",
    "\n",
    "fig = plt.figure(figsize=(12,12))\n",
    "\n",
    "ax1 = fig.add_subplot(221)\n",
    "ax1.hist(games_df['total_score'], bins=thebins)\n",
    "plt.xlim([0,30])\n",
    "#plt.ylim([0,20])\n",
    "plt.xlabel('Total runs scored')\n",
    "plt.ylabel('Number of games')\n",
    "plt.title('Overall')\n",
    "\n",
    "ax2 = fig.add_subplot(222)\n",
    "ax2.hist(games_df['total_score'], bins=longbins)\n",
    "\n",
    "plt.xlim([30,90])\n",
    "#plt.ylim([0,20])\n",
    "plt.xlabel('Total runs scored (long-ass tail)')\n",
    "plt.ylabel('Number of games')\n",
    "plt.title('Long tail')\n",
    "\n",
    "#fig.show()\n"
   ]
  },
  {
   "cell_type": "code",
   "execution_count": 45,
   "metadata": {
    "collapsed": false
   },
   "outputs": [
    {
     "name": "stdout",
     "output_type": "stream",
     "text": [
      "ALL-TIME BOX SCORE\n",
      "Team\t\tRuns\t\tHits\t\tErrors\n",
      "Visitor\t\t794,733\t\t1,637,837\t167,352\n",
      "Home   \t\t822,947\t\t1,621,067\t172,440\n"
     ]
    }
   ],
   "source": [
    "games_df.columns[0:40]\n",
    "\n",
    "games_df[['visitor_score', 'visitor_h', 'visitor_e']].agg(sum)\n",
    "visitor_box = games_df[['visitor', 'visitor_score', 'visitor_h', 'visitor_e']].sample(1)\n",
    "home_box = games_df[['home', 'home_score', 'home_h', 'home_e']].sample(1)\n",
    "\n",
    "visitor_box[\n",
    "    ['visitor','visitor_score','visitor_h', 'visitor_e']\n",
    "].style.format(\n",
    "    {'visitor': '{:3}', 'visitor_score': '{:,.0f}', 'visitor_h': '{:.0f}', 'visitor_e': '{:,.0f}'}\n",
    ")\n",
    "\n",
    "#print('Number of studios according to IMDb: {0:,.0f}'.format(nStudiosIMDb))\n",
    "\n",
    "#print('{0:s}: {1:,.0f} {2:,.0f} {3:,.0f}'.\n",
    "#      format(\n",
    "#        visitor_box['visitor'], \n",
    "#        visitor_box['visitor_score'], \n",
    "#        visitor_box['visitor_h'], \n",
    "#        visitor_box['visitor_e']\n",
    "#    )\n",
    "#)\n",
    "\n",
    "alltime = numpy.zeros((2,4), dtype=object)\n",
    "alltime[0,0] = 'Visitor'\n",
    "alltime[1,0] = 'Home'\n",
    "\n",
    "alltime[0,1:4] = games_df[\n",
    "    ['visitor_score', 'visitor_h', 'visitor_e']\n",
    "].dropna().agg(sum)\n",
    "\n",
    "alltime[1,1:4] = games_df[\n",
    "    ['home_score', 'home_h', 'home_e']\n",
    "].dropna().agg(sum)\n",
    "\n",
    "print('ALL-TIME BOX SCORE')\n",
    "print('Team\\t\\tRuns\\t\\tHits\\t\\tErrors')\n",
    "for i in range(0,2):\n",
    "    print('{0:7}\\t\\t{1:,.0f}\\t\\t{2:,.0f}\\t{3:,.0f}'.format(alltime[i,0], alltime[i,1], alltime[i,2], alltime[i,3]))"
   ]
  },
  {
   "cell_type": "code",
   "execution_count": 58,
   "metadata": {
    "collapsed": false
   },
   "outputs": [
    {
     "name": "stdout",
     "output_type": "stream",
     "text": [
      "AVERAGE BOX SCORE\n",
      "Team\t\tRuns\t\tHits\t\tErrors\n",
      "Visitor\t\t4.36\t\t8.99\t\t0.92\n",
      "Home   \t\t4.52\t\t8.90\t\t0.95\n"
     ]
    }
   ],
   "source": [
    "avgboxscore = numpy.zeros((2,4), dtype=object)\n",
    "avgboxscore[0,0] = 'Visitor'\n",
    "avgboxscore[1,0] = 'Home'\n",
    "\n",
    "avgboxscore[0,1:4] = games_df[\n",
    "    ['visitor_score', 'visitor_h', 'visitor_e']\n",
    "].dropna().agg('mean')\n",
    "\n",
    "avgboxscore[1,1:4] = games_df[\n",
    "    ['home_score', 'home_h', 'home_e']\n",
    "].dropna().agg('mean')\n",
    "\n",
    "print('AVERAGE BOX SCORE')\n",
    "print('Team\\t\\tRuns\\t\\tHits\\t\\tErrors')\n",
    "for i in range(0,2):\n",
    "    print('{0:7}\\t\\t{1:,.2f}\\t\\t{2:,.2f}\\t\\t{3:,.2f}'.format(avgboxscore[i,0], avgboxscore[i,1], avgboxscore[i,2], avgboxscore[i,3]))"
   ]
  },
  {
   "cell_type": "code",
   "execution_count": 61,
   "metadata": {
    "collapsed": false
   },
   "outputs": [
    {
     "name": "stdout",
     "output_type": "stream",
     "text": [
      "MEDIAN BOX SCORE\n",
      "Team\t\tRuns\t\tHits\t\tErrors\n",
      "Visitor\t\t4\t\t9\t\t1\n",
      "Home   \t\t4\t\t9\t\t1\n"
     ]
    }
   ],
   "source": [
    "avgboxscore = numpy.zeros((2,4), dtype=object)\n",
    "avgboxscore[0,0] = 'Visitor'\n",
    "avgboxscore[1,0] = 'Home'\n",
    "\n",
    "avgboxscore[0,1:4] = games_df[\n",
    "    ['visitor_score', 'visitor_h', 'visitor_e']\n",
    "].dropna().agg('median')\n",
    "\n",
    "avgboxscore[1,1:4] = games_df[\n",
    "    ['home_score', 'home_h', 'home_e']\n",
    "].dropna().agg('median')\n",
    "\n",
    "print('MEDIAN BOX SCORE')\n",
    "print('Team\\t\\tRuns\\t\\tHits\\t\\tErrors')\n",
    "for i in range(0,2):\n",
    "    print('{0:7}\\t\\t{1:,.0f}\\t\\t{2:,.0f}\\t\\t{3:,.0f}'.format(avgboxscore[i,0], avgboxscore[i,1], avgboxscore[i,2], avgboxscore[i,3]))"
   ]
  },
  {
   "cell_type": "code",
   "execution_count": null,
   "metadata": {
    "collapsed": true
   },
   "outputs": [],
   "source": []
  }
 ],
 "metadata": {
  "kernelspec": {
   "display_name": "Python 3",
   "language": "python",
   "name": "python3"
  },
  "language_info": {
   "codemirror_mode": {
    "name": "ipython",
    "version": 3
   },
   "file_extension": ".py",
   "mimetype": "text/x-python",
   "name": "python",
   "nbconvert_exporter": "python",
   "pygments_lexer": "ipython3",
   "version": "3.5.3"
  }
 },
 "nbformat": 4,
 "nbformat_minor": 0
}
