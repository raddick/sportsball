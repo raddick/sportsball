{
 "cells": [
  {
   "cell_type": "code",
   "execution_count": null,
   "metadata": {},
   "outputs": [],
   "source": [
    "import json\n",
    "import numpy as np\n",
    "import pandas\n",
    "import string\n",
    "from pprint import pprint\n",
    "from datetime import datetime, timedelta\n",
    "import time\n",
    "import os\n",
    "pandas.options.display.max_colwidth = -1\n",
    "data_dir = '/home/idies/workspace/Temporary/raddick/baseball_scratch/'\n",
    "print('ok')"
   ]
  },
  {
   "cell_type": "code",
   "execution_count": null,
   "metadata": {
    "scrolled": true
   },
   "outputs": [],
   "source": [
    "allgames_df = pandas.DataFrame()\n",
    "for i in range(2010,2018):\n",
    "    filename = '/home/idies/workspace/Temporary/raddick/baseball_scratch/events_by_year/events_{0:.0f}.json'.format(i)\n",
    "    s = time.time()\n",
    "    with open(filename,'r') as f:\n",
    "        games = json.load(f)\n",
    "    e = time.time()\n",
    "    print('{0:.0f}: Loaded JSON file with events data: {1:,.0f} games found in {2:,.0f} seconds...'.format(i, len(games), e-s))\n",
    "    print('Changing data types and concatenating...')\n",
    "    for j in range(0,676):#,len(games)):\n",
    "        #if ((np.mod(j,500) == 0) | (j >= len(games)-1)):\n",
    "        #print('Game {0:,.0f} of {1:,.0f}...'.format(j, len(games)-1))\n",
    "        thisgame_df = pandas.DataFrame.from_records(games[j]['info'], index=[games[j]['id']])\n",
    "        thisgame_df.index.name = 'gameID'\n",
    "        #pprint(thisgame_df)\n",
    "        \n",
    "        # Parse datetime variables\n",
    "        thisgame_df['date'] = pandas.to_datetime(thisgame_df['date'], format='%Y/%m/%d', errors='coerce')\n",
    "        thisgame_df['timeofgame'] = pandas.to_numeric(thisgame_df['timeofgame'], errors='coerce').dropna().apply(lambda x: timedelta(minutes=x))\n",
    "        try:\n",
    "            thisgame_df['starttime'] = pandas.to_datetime(thisgame_df['starttime'], format='%I:%M%p', errors='coerce')\n",
    "        except:\n",
    "            thisgame_df['starttime'] = pandas.to_datetime(pandas.NaT)        \n",
    "        \n",
    "        # Parse numerics\n",
    "        try:\n",
    "            thisgame_df['attendance'] = pandas.to_numeric(thisgame_df['attendance'], errors='coerce')\n",
    "        except KeyError:\n",
    "            print('{0:}: {1:} not found'.format(thisgame_df.index.get_values()[0],'attendance'))\n",
    "        try:\n",
    "            thisgame_df['windspeed'] = pandas.to_numeric(thisgame_df['windspeed'], errors='coerce')\n",
    "        except KeyError:\n",
    "            print('{0:}: {1:} not found'.format(thisgame_df.index.get_values()[0],'windspeed'))\n",
    "            #thisgame_df['windspeed'] = -1\n",
    "        try:\n",
    "            thisgame_df['number'] = pandas.to_numeric(thisgame_df['number'], errors='coerce')\n",
    "        except KeyError:\n",
    "            #thisgame_df['number'] = -1\n",
    "            print('{0:}: {1:} not found'.format(thisgame_df.index.get_values()[0],'number'))\n",
    "        try:\n",
    "            thisgame_df['temp'] = pandas.to_numeric(thisgame_df['number'], errors='coerce')\n",
    "        except KeyError:\n",
    "            #thisgame_df['temp'] = -1\n",
    "            print('{0:}: {1:} not found'.format(thisgame_df.index.get_values()[0],'temp'))\n",
    "\n",
    "        # remove quotes\n",
    "        for thiscol in ['inputprogvers', 'inputter', 'scorer', 'translator']:\n",
    "            try:\n",
    "                thisgame_df[thiscol] = thisgame_df[thiscol].apply(lambda x: x[x.find('\"')+1:x.find('\"\"')])\n",
    "            except KeyError:\n",
    "                thisgame_df[thiscol] = 'n/a'\n",
    "        #        print('{0:}: {1:} not found'.format(thisgame_df.index.get_values()[0],thiscol))\n",
    "        allgames_df = pandas.concat((allgames_df, thisgame_df), sort=False)\n",
    "    \n",
    "#for onegame in games:\n",
    "#    print(onegame['id'])\n",
    "#    pprint(onegame['info'])\n",
    "\n",
    "print('Parsed {0:,.0f} games, writing output as csv...'.format(len(allgames_df)))\n",
    "allgames_df.to_csv('/home/idies/workspace/Temporary/raddick/baseball_scratch/gameinfo_from_events_2010s.csv')\n",
    "print('Output written!')\n",
    "\n",
    "print('Done!')\n"
   ]
  },
  {
   "cell_type": "code",
   "execution_count": null,
   "metadata": {},
   "outputs": [],
   "source": []
  },
  {
   "cell_type": "code",
   "execution_count": null,
   "metadata": {},
   "outputs": [],
   "source": [
    "columns_to_add"
   ]
  },
  {
   "cell_type": "code",
   "execution_count": null,
   "metadata": {},
   "outputs": [],
   "source": []
  },
  {
   "cell_type": "code",
   "execution_count": null,
   "metadata": {},
   "outputs": [],
   "source": []
  },
  {
   "cell_type": "code",
   "execution_count": null,
   "metadata": {},
   "outputs": [],
   "source": []
  },
  {
   "cell_type": "code",
   "execution_count": null,
   "metadata": {},
   "outputs": [],
   "source": [
    "s = time.time()\n",
    "allgames_df = pandas.DataFrame()\n",
    "\n",
    "#for i in range(0, len(games)):\n",
    "for i in range(100000, 120000):\n",
    "    if ((np.mod(i, 5000) == 0) | (i==len(games)-1)):\n",
    "        print('Reading game number {0:,.0f}...'.format(i))\n",
    "    game_df = pandas.DataFrame.from_records(games[i]['info'], index=[games[i]['id']])\n",
    "    allgames_df = pandas.concat((allgames_df, game_df), sort=False)\n",
    "e = time.time()\n",
    "\n",
    "print('Loaded {0:,.0f} games in {1:,.0f} seconds.'.format(len(allgames_df), e-s))\n",
    "\n",
    "\n",
    "\n",
    "#allgames_df"
   ]
  },
  {
   "cell_type": "code",
   "execution_count": null,
   "metadata": {},
   "outputs": [],
   "source": []
  },
  {
   "cell_type": "code",
   "execution_count": null,
   "metadata": {},
   "outputs": [],
   "source": []
  },
  {
   "cell_type": "code",
   "execution_count": null,
   "metadata": {},
   "outputs": [],
   "source": []
  },
  {
   "cell_type": "markdown",
   "metadata": {},
   "source": [
    "## Prior code that had accounted for derived games"
   ]
  },
  {
   "cell_type": "code",
   "execution_count": null,
   "metadata": {},
   "outputs": [],
   "source": [
    "allgames = []\n",
    "yeararray = [1921, 1922, 1925, 1927, 1928]\n",
    "for i in np.linspace(1930,2016,87):\n",
    "    yeararray.append(i)\n",
    "#yeararray = [2016]\n",
    "    \n",
    "years_with_derived = []\n",
    "for i in np.linspace(1942,1959,18):\n",
    "    years_with_derived.append(i)\n",
    "for i in np.linspace(1962,1968,7):\n",
    "    years_with_derived.append(i)\n",
    "for i in np.linspace(1971,1973,3):\n",
    "    years_with_derived.append(i)\n",
    "print('years identified')\n",
    "    \n",
    "for thisyear in yeararray:\n",
    "#    print('Starting to parse the year {0:.0f}'.format(thisyear))\n",
    "    filename = 'raw/events_raw_{0:.0f}.json'.format(thisyear)\n",
    "    print(filename)\n",
    "    with open(filename,'r') as f:\n",
    "        games = json.load(f)\n",
    "    if (thisyear in years_with_derived):\n",
    "        derived_filename = 'with_derived/events_with_derived_{0:.0f}.json'.format(thisyear)\n",
    "        print(derived_filename)\n",
    "        with open(derived_filename,'r') as f:\n",
    "            games_derived = json.load(f)\n",
    "        games = games + games_derived\n",
    "    allgames = allgames + games\n",
    "\n",
    "#    games_df = pandas.DataFrame(games)\n",
    "#    games_df = games_df.set_index('id')\n",
    "    print('{0:,.0f} games found'.format(len(allgames)))\n",
    "\n",
    "    allgames_df = pandas.DataFrame()\n",
    "    for i in range(0, len(allgames)):\n",
    "        if ((np.mod(i, 100) == 0) | (i==len(allgames)-1)):\n",
    "            print('Reading game number {0:,.0f}'.format(i))\n",
    "        game_df = pandas.DataFrame.from_records(allgames[i]['info'], index=[allgames[i]['id']])\n",
    "        allgames_df = pandas.concat((allgames_df, game_df))\n",
    "    allgames_df.index.name = 'gameID'\n",
    "\n",
    "    allgames_df['attendance'] = pandas.to_numeric(allgames_df['attendance'], errors='coerce')\n",
    "    allgames_df['date'] = pandas.to_datetime(allgames_df['date'], format='%Y/%m/%d', errors='coerce')\n",
    "    allgames_df['number'] = pandas.to_numeric(allgames_df['number'], errors='coerce')\n",
    "    allgames_df['starttime'] = pandas.to_datetime(allgames_df['starttime'], format='%I:%M%p', errors='coerce')\n",
    "    allgames_df['temp'] = pandas.to_numeric(allgames_df['temp'], errors='coerce')\n",
    "    allgames_df['timeofgame'] = pandas.to_numeric(allgames_df['timeofgame'], errors='coerce').dropna().apply(lambda x: timedelta(minutes=x))\n",
    "    allgames_df['windspeed'] = pandas.to_numeric(allgames_df['windspeed'], errors='coerce')\n",
    "    print('finished reading data')\n",
    "    #allgames_df.tail(3).transpose()\n",
    "    allgames_df.to_csv('games/gameinfo_from_events_{0:.0f}.csv'.format(thisyear))\n",
    "    print('output written')"
   ]
  },
  {
   "cell_type": "code",
   "execution_count": null,
   "metadata": {
    "scrolled": false
   },
   "outputs": [],
   "source": []
  },
  {
   "cell_type": "code",
   "execution_count": null,
   "metadata": {},
   "outputs": [],
   "source": []
  },
  {
   "cell_type": "code",
   "execution_count": null,
   "metadata": {},
   "outputs": [],
   "source": []
  },
  {
   "cell_type": "code",
   "execution_count": null,
   "metadata": {},
   "outputs": [],
   "source": []
  },
  {
   "cell_type": "code",
   "execution_count": null,
   "metadata": {},
   "outputs": [],
   "source": []
  },
  {
   "cell_type": "code",
   "execution_count": null,
   "metadata": {},
   "outputs": [],
   "source": [
    "# runs in about 5 minutes\n",
    "with open('events_with_derived.json','r') as f:\n",
    "    allgames = json.load(f)\n",
    "\n",
    "allgames_bk = allgames\n",
    "\n",
    "allgames_df = pandas.DataFrame(allgames)\n",
    "allgames_df = allgames_df.set_index('id')\n",
    "\n",
    "print('done')"
   ]
  },
  {
   "cell_type": "code",
   "execution_count": null,
   "metadata": {},
   "outputs": [],
   "source": [
    "info_df = pandas.DataFrame.from_records(allgames_df['info'], index=allgames_df.index)\n",
    "\n",
    "column_list = ['visteam', 'hometeam', 'date', 'number', 'starttime', 'daynight']\n",
    "column_list += ['site', 'timeofgame', 'attendance']\n",
    "column_list += ['temp', 'fieldcond', 'precip', 'sky', 'winddir', 'windspeed']\n",
    "column_list += ['umphome', 'ump1b', 'umb2b', 'umb3b', 'umplf', 'umprf']\n",
    "column_list += ['wp', 'lp', 'save']\n",
    "column_list += ['how_scored', 'oscorer', 'pitches', 'usedh']\n",
    "\n",
    "#info_df.columns = column_list\n",
    "\n",
    "#number -> gameno\n",
    "#timeofgame -> length\n",
    "\n",
    "info_df['attendance'] = pandas.to_numeric(info_df['attendance'], errors='coerce')\n",
    "info_df['date'] = pandas.to_datetime(info_df['date'], errors='coerce')\n",
    "info_df['number'] = pandas.to_numeric(info_df['number'], errors='coerce')\n",
    "info_df['starttime'] = pandas.to_datetime(info_df['starttime'], format='%l%M%P', errors='coerce')\n",
    "info_df['temp'] = pandas.to_numeric(info_df['temp'], errors='coerce')\n",
    "info_df['timeofgame'] = pandas.to_timedelta(info_df['timeofgame'].astype(str) + ' minutes', unit='m', errors='coerce')\n",
    "info_df = info_df.fillna('')\n",
    "\n",
    "info_df.to_csv('gameinfo_from_events.csv')\n",
    "print('Done')"
   ]
  },
  {
   "cell_type": "code",
   "execution_count": null,
   "metadata": {},
   "outputs": [],
   "source": []
  }
 ],
 "metadata": {
  "kernelspec": {
   "display_name": "Python 3",
   "language": "python",
   "name": "python3"
  },
  "language_info": {
   "codemirror_mode": {
    "name": "ipython",
    "version": 3
   },
   "file_extension": ".py",
   "mimetype": "text/x-python",
   "name": "python",
   "nbconvert_exporter": "python",
   "pygments_lexer": "ipython3",
   "version": "3.6.6"
  }
 },
 "nbformat": 4,
 "nbformat_minor": 1
}
