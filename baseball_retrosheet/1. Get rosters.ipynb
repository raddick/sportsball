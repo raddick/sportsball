{
 "cells": [
  {
   "cell_type": "code",
   "execution_count": 1,
   "metadata": {},
   "outputs": [
    {
     "data": {
      "text/plain": [
       "'/home/idies/workspace/Storage/raddick/baseball'"
      ]
     },
     "execution_count": 1,
     "metadata": {},
     "output_type": "execute_result"
    }
   ],
   "source": [
    "import os\n",
    "import numpy as np\n",
    "import pandas\n",
    "os.getcwd()"
   ]
  },
  {
   "cell_type": "code",
   "execution_count": 2,
   "metadata": {},
   "outputs": [
    {
     "name": "stdout",
     "output_type": "stream",
     "text": [
      "files identified\n"
     ]
    }
   ],
   "source": [
    "os.chdir('/home/idies/workspace/Storage/raddick/baseball/events/')\n",
    "filelist = []\n",
    "for thisfile in os.listdir():\n",
    "    filename = str(thisfile)\n",
    "#    print(filename)\n",
    "    if ('.ROS' in filename):\n",
    "        filelist.append('events/'+filename)\n",
    "\n",
    "os.chdir('/home/idies/workspace/Storage/raddick/baseball/')\n",
    "#print(filelist)\n",
    "print('files identified')"
   ]
  },
  {
   "cell_type": "code",
   "execution_count": 4,
   "metadata": {},
   "outputs": [
    {
     "name": "stdout",
     "output_type": "stream",
     "text": [
      "Parsing roster 0 of 2,130...\n",
      "Parsing roster 500 of 2,130...\n",
      "Parsing roster 1,000 of 2,130...\n",
      "Parsing roster 1,500 of 2,130...\n",
      "Parsing roster 2,000 of 2,130...\n",
      "Done\n"
     ]
    }
   ],
   "source": [
    "#filelist = ['events/MLN1954.ROS']\n",
    "colnames = ['playerID', 'nameLast', 'nameFirst', 'batting_hand', 'throwing_hand', 'team', 'position', 'year']\n",
    "\n",
    "roster_df = pandas.DataFrame(columns=colnames)\n",
    "\n",
    "for i in range(0,len(filelist)):\n",
    "    if ((np.mod(i,500) == 0) | (i == len(filelist))):\n",
    "        print('Parsing roster {0:,.0f} of {1:,.0f}...'.format(i, len(filelist)))\n",
    "    filename = filelist[i]\n",
    "    thisyear = str(filename).split('/')[1].split('.')[0][3:7]\n",
    "    this_roster_df = pandas.read_csv(filename, names=colnames, header=None)\n",
    "    #this_roster_df = this_roster_df.set_index('playerID')\n",
    "    this_roster_df['year'] = thisyear\n",
    "    roster_df = pandas.concat((roster_df, this_roster_df)) \n",
    "\n",
    "roster_df['year'] = pandas.to_numeric(roster_df['year'], downcast='integer', errors='coerce')\n",
    "\n",
    "new_column_order = ['playerID', 'nameLast', 'nameFirst', 'batting_hand', 'throwing_hand', 'position', 'team', 'year']\n",
    "roster_df = roster_df[new_column_order]\n",
    "\n",
    "roster_df = roster_df.sort_values(['playerID','year', 'team'])\n",
    "roster_df = roster_df.reset_index(drop=True)\n",
    "roster_df.to_csv('fullroster.csv', encoding='utf-8')\n",
    "print('Done')"
   ]
  },
  {
   "cell_type": "code",
   "execution_count": null,
   "metadata": {},
   "outputs": [],
   "source": []
  }
 ],
 "metadata": {
  "kernelspec": {
   "display_name": "Python 3",
   "language": "python",
   "name": "python3"
  },
  "language_info": {
   "codemirror_mode": {
    "name": "ipython",
    "version": 3
   },
   "file_extension": ".py",
   "mimetype": "text/x-python",
   "name": "python",
   "nbconvert_exporter": "python",
   "pygments_lexer": "ipython3",
   "version": "3.6.6"
  }
 },
 "nbformat": 4,
 "nbformat_minor": 1
}
