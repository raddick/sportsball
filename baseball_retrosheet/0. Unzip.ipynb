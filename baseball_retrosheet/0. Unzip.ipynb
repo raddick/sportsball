{
 "cells": [
  {
   "cell_type": "code",
   "execution_count": 1,
   "metadata": {},
   "outputs": [
    {
     "name": "stdout",
     "output_type": "stream",
     "text": [
      "ok\n"
     ]
    },
    {
     "data": {
      "text/plain": [
       "'/home/idies/workspace/Temporary/raddick/baseball_scratch/events'"
      ]
     },
     "execution_count": 1,
     "metadata": {},
     "output_type": "execute_result"
    }
   ],
   "source": [
    "import os\n",
    "import zipfile\n",
    "events_dir = '/home/idies/workspace/Temporary/raddick/baseball_scratch/events/'\n",
    "games_dir = '/home/idies/workspace/Temporary/raddick/baseball_scratch/games/'\n",
    "os.chdir(events_dir)\n",
    "print('ok')\n",
    "os.getcwd()"
   ]
  },
  {
   "cell_type": "code",
   "execution_count": 2,
   "metadata": {},
   "outputs": [
    {
     "name": "stdout",
     "output_type": "stream",
     "text": [
      "Extracting 1900sbox.zip...\n",
      "Extracting 1910sbox.zip...\n",
      "Extracting 1920sbox.zip...\n",
      "Extracting 1920seve.zip...\n",
      "Extracting 1930sbox.zip...\n",
      "Extracting 1930seve.zip...\n",
      "Extracting 1940sbox.zip...\n",
      "Extracting 1940seve.zip...\n",
      "Extracting 1950sbox.zip...\n",
      "Extracting 1950seve.zip...\n",
      "Extracting 1960seve.zip...\n",
      "Extracting 1970seve.zip...\n",
      "Extracting 1980seve.zip...\n",
      "Extracting 1990seve.zip...\n",
      "Extracting 2000seve.zip...\n",
      "Extracting 2010seve.zip...\n",
      "Extracting allas.zip...\n",
      "Done!\n"
     ]
    }
   ],
   "source": [
    "filelist = os.listdir()\n",
    "filelist = sorted(filelist)\n",
    "#filelist\n",
    "for thisfile in filelist:\n",
    "    print('Extracting {0:}...'.format(thisfile))\n",
    "    thezip = zipfile.ZipFile(thisfile)\n",
    "    thezip.extractall()\n",
    "print('Done!')\n"
   ]
  },
  {
   "cell_type": "code",
   "execution_count": 3,
   "metadata": {},
   "outputs": [
    {
     "name": "stdout",
     "output_type": "stream",
     "text": [
      "Extracting allpost.zip...\n",
      "Extracting gl1871_2018.zip...\n",
      "Extracting glas.zip...\n",
      "Extracting gldv.zip...\n",
      "Extracting glwc.zip...\n",
      "Extracting glws.zip...\n",
      "Done!\n"
     ]
    }
   ],
   "source": [
    "os.chdir(games_dir)\n",
    "filelist = os.listdir()\n",
    "filelist = sorted(filelist)\n",
    "#filelist\n",
    "for thisfile in filelist:\n",
    "    print('Extracting {0:}...'.format(thisfile))\n",
    "    thezip = zipfile.ZipFile(thisfile)\n",
    "    thezip.extractall()\n",
    "print('Done!')\n"
   ]
  },
  {
   "cell_type": "code",
   "execution_count": null,
   "metadata": {},
   "outputs": [],
   "source": []
  }
 ],
 "metadata": {
  "kernelspec": {
   "display_name": "Python 3",
   "language": "python",
   "name": "python3"
  },
  "language_info": {
   "codemirror_mode": {
    "name": "ipython",
    "version": 3
   },
   "file_extension": ".py",
   "mimetype": "text/x-python",
   "name": "python",
   "nbconvert_exporter": "python",
   "pygments_lexer": "ipython3",
   "version": "3.6.6"
  }
 },
 "nbformat": 4,
 "nbformat_minor": 2
}
