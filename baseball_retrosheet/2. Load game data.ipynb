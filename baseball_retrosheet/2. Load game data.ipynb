{
 "cells": [
  {
   "cell_type": "code",
   "execution_count": 2,
   "metadata": {},
   "outputs": [
    {
     "name": "stdout",
     "output_type": "stream",
     "text": [
      "ok\n"
     ]
    }
   ],
   "source": [
    "#import zipfile\n",
    "import numpy as np\n",
    "import pandas\n",
    "import os\n",
    "pandas.options.display.max_colwidth = -1\n",
    "os.chdir('/home/idies/workspace/Storage/raddick/baseball/games/')\n",
    "print('ok')"
   ]
  },
  {
   "cell_type": "code",
   "execution_count": 3,
   "metadata": {},
   "outputs": [
    {
     "name": "stdout",
     "output_type": "stream",
     "text": [
      "Finding filenames...\n",
      "Reading file contents...\n",
      "Calculating gameID...\n",
      "Fixing data types...\n",
      "Writing 215,737 games to CSV...\n",
      "Done!\n"
     ]
    }
   ],
   "source": [
    "years = range(1871,2017+1)\n",
    "filenames = []\n",
    "print('Finding filenames...')\n",
    "for thisyear in years:\n",
    "    filenames.append('gl'+str(thisyear)+'.txt')\n",
    "\n",
    "#filenames\n",
    "gamedata = pandas.DataFrame()\n",
    "\n",
    "print('Reading file contents...')\n",
    "list_of_file_contents = []\n",
    "for thisname in filenames:\n",
    "#    print('Reading filename: ',thisname)\n",
    "    df = pandas.read_csv(thisname,header=None)\n",
    "    list_of_file_contents.append(df)\n",
    "gamedata = pandas.concat(list_of_file_contents)\n",
    "\n",
    "# Columns given at http://www.retrosheet.org/gamelogs/glfields.txt\n",
    "colnames = ['date','gameno','dayofweek']\n",
    "colnames += ['visitor','visitor_league','visitor_gameno']\n",
    "colnames += ['home','home_league','home_gameno']\n",
    "colnames += ['visitor_score','home_score']\n",
    "colnames += ['nOuts','day_night','completed','forfeit','protest','parkID','attendance','length']\n",
    "colnames += ['visitor_linescore','home_linescore']\n",
    "colnames += ['visitor_ab','visitor_h','visitor_2b','visitor_3b','visitor_hr']\n",
    "colnames += ['visitor_rbi','visitor_sac','visitor_sacfly','visitor_hbp']\n",
    "colnames += ['visitor_bb','visitor_ibb','visitor_k','visitor_sb','visitor_cs']\n",
    "colnames += ['visitor_gidp','visitor_ci','visitor_lob','visitor_nPitchers']\n",
    "colnames += ['visitor_er_ind','visitor_er_team','visitor_wp','visitor_balk']\n",
    "colnames += ['visitor_putout','visitor_assist','visitor_e','visitor_pb']\n",
    "colnames += ['visitor_dp','visitor_tp','home_ab','home_h','home_2b','home_3b']\n",
    "colnames += ['home_hr','home_rbi','home_sac','home_sacfly','home_hbp','home_bb']\n",
    "colnames += ['home_ibb','home_k','home_sb','home_cs','home_gidp','home_ci']\n",
    "colnames += ['home_lob','home_nPitchers','home_er_ind','home_er_team','home_wp']\n",
    "colnames += ['home_balk','home_putout','home_assist','home_e','home_pb']\n",
    "colnames += ['home_dp','home_tp']\n",
    "colnames += ['ump_home_id','ump_home_name','ump_1b_id']\n",
    "colnames += ['ump_1b_name','ump_2b_id','ump_2b_name','ump_3b_id','ump_3b_name']\n",
    "colnames += ['ump_lf_id','ump_lf_name','ump_rf_id','ump_rf_name']\n",
    "colnames += ['visitor_manager_id','visitor_manager_name','home_manager_id','home_manager_name']\n",
    "colnames += ['winning_pitcher_id','winning_pitcher_name','losing_pitcher_id']\n",
    "colnames += ['losing_pitcher_name','saving_pitcher_id','saving_pitcher_name']\n",
    "colnames += ['gw_rbi_batter_id','gw_rbi_batter_name','visitor_starting_pitcher_id']\n",
    "colnames += ['visitor_starting_pitcher_name','home_starting_pitcher_id']\n",
    "colnames += ['home_starting_pitcher_name']\n",
    "colnames += ['visitor_batter1_id','visitor_batter1_name','visitor_batter1_pos']\n",
    "colnames += ['visitor_batter2_id','visitor_batter2_name','visitor_batter2_pos']\n",
    "colnames += ['visitor_batter3_id','visitor_batter3_name','visitor_batter3_pos']\n",
    "colnames += ['visitor_batter4_id','visitor_batter4_name','visitor_batter4_pos']\n",
    "colnames += ['visitor_batter5_id','visitor_batter5_name','visitor_batter5_pos']\n",
    "colnames += ['visitor_batter6_id','visitor_batter6_name','visitor_batter6_pos']\n",
    "colnames += ['visitor_batter7_id','visitor_batter7_name','visitor_batter7_pos']\n",
    "colnames += ['visitor_batter8_id','visitor_batter8_name','visitor_batter8_pos']\n",
    "colnames += ['visitor_batter9_id','visitor_batter9_name','visitor_batter9_pos']\n",
    "colnames += ['home_batter1_id','home_batter1_name','home_batter1_pos']\n",
    "colnames += ['home_batter2_id','home_batter2_name','home_batter2_pos']\n",
    "colnames += ['home_batter3_id','home_batter3_name','home_batter3_pos']\n",
    "colnames += ['home_batter4_id','home_batter4_name','home_batter4_pos']\n",
    "colnames += ['home_batter5_id','home_batter5_name','home_batter5_pos']\n",
    "colnames += ['home_batter6_id','home_batter6_name','home_batter6_pos']\n",
    "colnames += ['home_batter7_id','home_batter7_name','home_batter7_pos']\n",
    "colnames += ['home_batter8_id','home_batter8_name','home_batter8_pos']\n",
    "colnames += ['home_batter9_id','home_batter9_name','home_batter9_pos']\n",
    "colnames += ['misc','acquisition']\n",
    "\n",
    "gamedata.columns = colnames\n",
    "\n",
    "print('Calculating gameID...')\n",
    "gamedata = gamedata.assign(gameID = gamedata.apply(lambda row: row['home']+str(row['date'])+str(row['gameno']), axis=1))\n",
    "gamedata = gamedata.set_index('gameID')\n",
    "\n",
    "print('Fixing data types...')\n",
    "gamedata['date'] = pandas.to_datetime(gamedata['date'], format='%Y%m%d', errors='coerce')\n",
    "\n",
    "gamedata['visitor_linescore'] = gamedata['visitor_linescore'].astype('str')\n",
    "gamedata['home_linescore'] = gamedata['home_linescore'].astype('str')\n",
    "gamedata.loc[gamedata['visitor_linescore'] == 'nan', 'visitor_linescore'] = 'n/a'\n",
    "gamedata.loc[gamedata['home_linescore'] == 'nan', 'home_linescore'] = 'n/a'\n",
    "\n",
    "print('Writing {:,.0f} games to CSV...'.format(len(gamedata)))\n",
    "\n",
    "gamedata.to_csv('/home/idies/workspace/Temporary/raddick/baseball_scratch/gamedata.csv')\n",
    "print('Done!')\n"
   ]
  },
  {
   "cell_type": "code",
   "execution_count": null,
   "metadata": {},
   "outputs": [],
   "source": []
  }
 ],
 "metadata": {
  "kernelspec": {
   "display_name": "Python 3",
   "language": "python",
   "name": "python3"
  },
  "language_info": {
   "codemirror_mode": {
    "name": "ipython",
    "version": 3
   },
   "file_extension": ".py",
   "mimetype": "text/x-python",
   "name": "python",
   "nbconvert_exporter": "python",
   "pygments_lexer": "ipython3",
   "version": "3.6.6"
  }
 },
 "nbformat": 4,
 "nbformat_minor": 1
}
