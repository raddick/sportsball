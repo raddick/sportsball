{
 "cells": [
  {
   "cell_type": "code",
   "execution_count": 1,
   "metadata": {
    "collapsed": false
   },
   "outputs": [
    {
     "name": "stdout",
     "output_type": "stream",
     "text": [
      "imported\n"
     ]
    }
   ],
   "source": [
    "import numpy\n",
    "import pandas\n",
    "import re\n",
    "import json\n",
    "#from datetime import datetime \n",
    "print('imported')"
   ]
  },
  {
   "cell_type": "code",
   "execution_count": 2,
   "metadata": {
    "collapsed": false
   },
   "outputs": [
    {
     "name": "stdout",
     "output_type": "stream",
     "text": [
      "read game data\n"
     ]
    }
   ],
   "source": [
    "allgames_df = pandas.read_csv('gamedata.csv', low_memory=False)\n",
    "print('read game data')"
   ]
  },
  {
   "cell_type": "code",
   "execution_count": 3,
   "metadata": {
    "collapsed": false
   },
   "outputs": [
    {
     "name": "stdout",
     "output_type": "stream",
     "text": [
      "backed up\n"
     ]
    }
   ],
   "source": [
    "allgames_df_bk = allgames_df\n",
    "print('backed up')"
   ]
  },
  {
   "cell_type": "code",
   "execution_count": 3,
   "metadata": {
    "collapsed": false
   },
   "outputs": [
    {
     "name": "stdout",
     "output_type": "stream",
     "text": [
      "done\n"
     ]
    }
   ],
   "source": [
    "allgames_df['date'] = pandas.to_datetime(allgames_df['date'], format='%Y%m%d', errors='coerce')\n",
    "allgames_df['year'] = allgames_df['date'].apply(lambda x: x.year)\n",
    "\n",
    "#allgames_df = allgames_df.drop('gameID', axis=1)\n",
    "allgames_df['gameID'] = allgames_df['home']\n",
    "allgames_df['gameID'] += allgames_df['date'].apply(lambda x: x.strftime('%Y%m%d'))\n",
    "allgames_df['gameID'] += allgames_df['gameno'].apply(lambda x: str(x))\n",
    "#allgames_df = allgames_df.set_index('gameID')\n",
    "print('done')"
   ]
  },
  {
   "cell_type": "code",
   "execution_count": 5,
   "metadata": {
    "collapsed": false
   },
   "outputs": [
    {
     "data": {
      "text/html": [
       "<div>\n",
       "<style>\n",
       "    .dataframe thead tr:only-child th {\n",
       "        text-align: right;\n",
       "    }\n",
       "\n",
       "    .dataframe thead th {\n",
       "        text-align: left;\n",
       "    }\n",
       "\n",
       "    .dataframe tbody tr th {\n",
       "        vertical-align: top;\n",
       "    }\n",
       "</style>\n",
       "<table border=\"1\" class=\"dataframe\">\n",
       "  <thead>\n",
       "    <tr style=\"text-align: right;\">\n",
       "      <th></th>\n",
       "      <th>67380</th>\n",
       "    </tr>\n",
       "  </thead>\n",
       "  <tbody>\n",
       "    <tr>\n",
       "      <th>home_batter3_name</th>\n",
       "      <td>Charlie Gehringer</td>\n",
       "    </tr>\n",
       "    <tr>\n",
       "      <th>home_batter3_pos</th>\n",
       "      <td>4</td>\n",
       "    </tr>\n",
       "    <tr>\n",
       "      <th>home_batter4_id</th>\n",
       "      <td>greeh102</td>\n",
       "    </tr>\n",
       "    <tr>\n",
       "      <th>home_batter4_name</th>\n",
       "      <td>Hank Greenberg</td>\n",
       "    </tr>\n",
       "    <tr>\n",
       "      <th>home_batter4_pos</th>\n",
       "      <td>3</td>\n",
       "    </tr>\n",
       "    <tr>\n",
       "      <th>home_batter5_id</th>\n",
       "      <td>yorkr101</td>\n",
       "    </tr>\n",
       "    <tr>\n",
       "      <th>home_batter5_name</th>\n",
       "      <td>Rudy York</td>\n",
       "    </tr>\n",
       "    <tr>\n",
       "      <th>home_batter5_pos</th>\n",
       "      <td>7</td>\n",
       "    </tr>\n",
       "    <tr>\n",
       "      <th>home_batter6_id</th>\n",
       "      <td>fox-p102</td>\n",
       "    </tr>\n",
       "    <tr>\n",
       "      <th>home_batter6_name</th>\n",
       "      <td>Pete Fox</td>\n",
       "    </tr>\n",
       "    <tr>\n",
       "      <th>home_batter6_pos</th>\n",
       "      <td>9</td>\n",
       "    </tr>\n",
       "    <tr>\n",
       "      <th>home_batter7_id</th>\n",
       "      <td>tebbb101</td>\n",
       "    </tr>\n",
       "    <tr>\n",
       "      <th>home_batter7_name</th>\n",
       "      <td>Birdie Tebbetts</td>\n",
       "    </tr>\n",
       "    <tr>\n",
       "      <th>home_batter7_pos</th>\n",
       "      <td>2</td>\n",
       "    </tr>\n",
       "    <tr>\n",
       "      <th>home_batter8_id</th>\n",
       "      <td>rossd101</td>\n",
       "    </tr>\n",
       "    <tr>\n",
       "      <th>home_batter8_name</th>\n",
       "      <td>Don Ross</td>\n",
       "    </tr>\n",
       "    <tr>\n",
       "      <th>home_batter8_pos</th>\n",
       "      <td>5</td>\n",
       "    </tr>\n",
       "    <tr>\n",
       "      <th>home_batter9_id</th>\n",
       "      <td>gillg103</td>\n",
       "    </tr>\n",
       "    <tr>\n",
       "      <th>home_batter9_name</th>\n",
       "      <td>George Gill</td>\n",
       "    </tr>\n",
       "    <tr>\n",
       "      <th>home_batter9_pos</th>\n",
       "      <td>1</td>\n",
       "    </tr>\n",
       "    <tr>\n",
       "      <th>misc</th>\n",
       "      <td>NaN</td>\n",
       "    </tr>\n",
       "    <tr>\n",
       "      <th>acquisition</th>\n",
       "      <td>Y</td>\n",
       "    </tr>\n",
       "    <tr>\n",
       "      <th>year</th>\n",
       "      <td>1938</td>\n",
       "    </tr>\n",
       "  </tbody>\n",
       "</table>\n",
       "</div>"
      ],
      "text/plain": [
       "                               67380\n",
       "home_batter3_name  Charlie Gehringer\n",
       "home_batter3_pos                   4\n",
       "home_batter4_id             greeh102\n",
       "home_batter4_name     Hank Greenberg\n",
       "home_batter4_pos                   3\n",
       "home_batter5_id             yorkr101\n",
       "home_batter5_name          Rudy York\n",
       "home_batter5_pos                   7\n",
       "home_batter6_id             fox-p102\n",
       "home_batter6_name           Pete Fox\n",
       "home_batter6_pos                   9\n",
       "home_batter7_id             tebbb101\n",
       "home_batter7_name    Birdie Tebbetts\n",
       "home_batter7_pos                   2\n",
       "home_batter8_id             rossd101\n",
       "home_batter8_name           Don Ross\n",
       "home_batter8_pos                   5\n",
       "home_batter9_id             gillg103\n",
       "home_batter9_name        George Gill\n",
       "home_batter9_pos                   1\n",
       "misc                             NaN\n",
       "acquisition                        Y\n",
       "year                            1938"
      ]
     },
     "execution_count": 5,
     "metadata": {},
     "output_type": "execute_result"
    }
   ],
   "source": [
    "allgames_df[allgames_df['gameID'] == 'DET193805301'].transpose()[140:170]"
   ]
  },
  {
   "cell_type": "code",
   "execution_count": 4,
   "metadata": {
    "collapsed": false
   },
   "outputs": [],
   "source": [
    "games1938_df = allgames_df[allgames_df['year'] == 1938]\n",
    "\n",
    "allgames = allgames_df['gameID'].dropna().drop_duplicates().tolist()\n",
    "games1938 = games1938_df['gameID'].dropna().drop_duplicates().tolist()"
   ]
  },
  {
   "cell_type": "code",
   "execution_count": 5,
   "metadata": {
    "collapsed": false
   },
   "outputs": [
    {
     "name": "stdout",
     "output_type": "stream",
     "text": [
      "done\n"
     ]
    },
    {
     "data": {
      "text/html": [
       "<div>\n",
       "<style>\n",
       "    .dataframe thead tr:only-child th {\n",
       "        text-align: right;\n",
       "    }\n",
       "\n",
       "    .dataframe thead th {\n",
       "        text-align: left;\n",
       "    }\n",
       "\n",
       "    .dataframe tbody tr th {\n",
       "        vertical-align: top;\n",
       "    }\n",
       "</style>\n",
       "<table border=\"1\" class=\"dataframe\">\n",
       "  <thead>\n",
       "    <tr style=\"text-align: right;\">\n",
       "      <th></th>\n",
       "      <th>data</th>\n",
       "      <th>events</th>\n",
       "      <th>home_starters</th>\n",
       "      <th>id</th>\n",
       "      <th>info</th>\n",
       "      <th>version</th>\n",
       "      <th>visiting_starters</th>\n",
       "    </tr>\n",
       "  </thead>\n",
       "  <tbody>\n",
       "    <tr>\n",
       "      <th>0</th>\n",
       "      <td>[[pettj103, 2], [smitb110, 2], [mogrg101, 2]]</td>\n",
       "      <td>[[0, play, 1, 0, statj101, ??, , 6/P, , , , ],...</td>\n",
       "      <td>[[thomh102, \"Herb Thomas\", 1, 4], [smitj106, \"...</td>\n",
       "      <td>BSN192704120</td>\n",
       "      <td>{'sky': 'unknown', 'site': 'BOS08', 'ump3b': '...</td>\n",
       "      <td>1</td>\n",
       "      <td>[[statj101, \"Jigger Statz\", 1, 7], [carem101, ...</td>\n",
       "    </tr>\n",
       "  </tbody>\n",
       "</table>\n",
       "</div>"
      ],
      "text/plain": [
       "                                            data  \\\n",
       "0  [[pettj103, 2], [smitb110, 2], [mogrg101, 2]]   \n",
       "\n",
       "                                              events  \\\n",
       "0  [[0, play, 1, 0, statj101, ??, , 6/P, , , , ],...   \n",
       "\n",
       "                                       home_starters            id  \\\n",
       "0  [[thomh102, \"Herb Thomas\", 1, 4], [smitj106, \"...  BSN192704120   \n",
       "\n",
       "                                                info version  \\\n",
       "0  {'sky': 'unknown', 'site': 'BOS08', 'ump3b': '...       1   \n",
       "\n",
       "                                   visiting_starters  \n",
       "0  [[statj101, \"Jigger Statz\", 1, 7], [carem101, ...  "
      ]
     },
     "execution_count": 5,
     "metadata": {},
     "output_type": "execute_result"
    }
   ],
   "source": [
    "# runs in about 5 minutes\n",
    "with open('events_1927_1938.json','r') as f:\n",
    "    events_games = json.load(f)\n",
    "\n",
    "events_games_df = pandas.DataFrame(events_games)\n",
    "#events_games1938_df = events_games_df[events_games_df['year'] == 1938]\n",
    "\n",
    "print('done')\n",
    "events_games_df.head(1)"
   ]
  },
  {
   "cell_type": "code",
   "execution_count": 6,
   "metadata": {
    "collapsed": false
   },
   "outputs": [
    {
     "name": "stdout",
     "output_type": "stream",
     "text": [
      "Done\n"
     ]
    }
   ],
   "source": [
    "games_with_events = events_games_df['id'].dropna().drop_duplicates().tolist()\n",
    "games1938_with_events = events_games_df['id'][events_games_df['id'].apply(lambda x: int(x[3:7])) == 1938].dropna().drop_duplicates().tolist()\n",
    "\n",
    "#games1938_with_events\n",
    "print('Done')"
   ]
  },
  {
   "cell_type": "code",
   "execution_count": 7,
   "metadata": {
    "collapsed": false
   },
   "outputs": [
    {
     "name": "stdout",
     "output_type": "stream",
     "text": [
      "Total games: 213,307\n",
      "Games with events: 1,763\n",
      "\n",
      "\n",
      "Games in 1938: 1,223\n",
      "Games with events in 1938: 792\n",
      "Games without events in 1938: 431\n"
     ]
    }
   ],
   "source": [
    "print('Total games: {:,.0f}'.format(len(allgames)))\n",
    "print('Games with events: {:,.0f}'.format(len(games_with_events)))\n",
    "print('\\n')\n",
    "print('Games in 1938: {:,.0f}'.format(len(games1938)))\n",
    "print('Games with events in 1938: {:,.0f}'.format(len(games1938_with_events)))\n",
    "\n",
    "\n",
    "games1938_without_events = [x for x in games1938 if x not in games1938_with_events]\n",
    "print('Games without events in 1938: {:,.0f}'.format(len(games1938_without_events)))"
   ]
  },
  {
   "cell_type": "code",
   "execution_count": 27,
   "metadata": {
    "collapsed": false
   },
   "outputs": [
    {
     "data": {
      "text/plain": [
       "[['DET193805150'],\n",
       " ['DET193805160'],\n",
       " ['DET193805180'],\n",
       " ['DET193805190'],\n",
       " ['DET193805200'],\n",
       " ['DET193805210'],\n",
       " ['DET193805301'],\n",
       " ['DET193805302'],\n",
       " ['DET193806140'],\n",
       " ['DET193806150'],\n",
       " ['DET193806171'],\n",
       " ['DET193806172'],\n",
       " ['DET193806180'],\n",
       " ['DET193806190'],\n",
       " ['DET193806212'],\n",
       " ['DET193806220'],\n",
       " ['DET193807082'],\n",
       " ['DET193807090'],\n",
       " ['DET193807100'],\n",
       " ['DET193807260'],\n",
       " ['DET193807270'],\n",
       " ['DET193807280'],\n",
       " ['DET193807290'],\n",
       " ['DET193807301'],\n",
       " ['DET193807302'],\n",
       " ['DET193808050'],\n",
       " ['DET193808060'],\n",
       " ['DET193808070'],\n",
       " ['DET193808171'],\n",
       " ['DET193808172'],\n",
       " ['DET193808180'],\n",
       " ['DET193808192'],\n",
       " ['DET193808210'],\n",
       " ['DET193809111'],\n",
       " ['DET193809112'],\n",
       " ['DET193809120'],\n",
       " ['DET193809130'],\n",
       " ['DET193809140'],\n",
       " ['DET193809180'],\n",
       " ['DET193809190'],\n",
       " ['DET193809212'],\n",
       " ['DET193809231'],\n",
       " ['DET193809232'],\n",
       " ['DET193809240'],\n",
       " ['DET193809250'],\n",
       " ['DET193809271'],\n",
       " ['DET193809272'],\n",
       " ['DET193809280'],\n",
       " ['DET193809290']]"
      ]
     },
     "execution_count": 27,
     "metadata": {},
     "output_type": "execute_result"
    }
   ],
   "source": [
    "games1938_without_events_df = pandas.DataFrame(games1938_without_events)\n",
    "games1938_without_events_df.columns = ['gameID']\n",
    "games1938_without_events_df[games1938_without_events_df['gameID'].apply(lambda x: str(x)[0:3]) == 'DET'].sort_values('gameID').values.tolist()"
   ]
  },
  {
   "cell_type": "code",
   "execution_count": null,
   "metadata": {
    "collapsed": true
   },
   "outputs": [],
   "source": []
  }
 ],
 "metadata": {
  "kernelspec": {
   "display_name": "Python 3",
   "language": "python",
   "name": "python3"
  },
  "language_info": {
   "codemirror_mode": {
    "name": "ipython",
    "version": 3
   },
   "file_extension": ".py",
   "mimetype": "text/x-python",
   "name": "python",
   "nbconvert_exporter": "python",
   "pygments_lexer": "ipython3",
   "version": "3.5.3"
  }
 },
 "nbformat": 4,
 "nbformat_minor": 0
}
