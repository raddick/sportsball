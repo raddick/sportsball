{
 "cells": [
  {
   "cell_type": "code",
   "execution_count": 1,
   "metadata": {
    "collapsed": false
   },
   "outputs": [],
   "source": [
    "import numpy\n",
    "import pandas\n",
    "import re\n",
    "import json\n",
    "#from datetime import datetime "
   ]
  },
  {
   "cell_type": "code",
   "execution_count": 2,
   "metadata": {
    "collapsed": false
   },
   "outputs": [
    {
     "name": "stdout",
     "output_type": "stream",
     "text": [
      "read game data\n"
     ]
    }
   ],
   "source": [
    "allgames_df = pandas.read_csv('gamedata.csv', low_memory=False)\n",
    "print('read game data')"
   ]
  },
  {
   "cell_type": "code",
   "execution_count": 3,
   "metadata": {
    "collapsed": false
   },
   "outputs": [
    {
     "name": "stdout",
     "output_type": "stream",
     "text": [
      "backed up\n"
     ]
    }
   ],
   "source": [
    "allgames_df_bk = allgames_df\n",
    "print('backed up')"
   ]
  },
  {
   "cell_type": "code",
   "execution_count": 4,
   "metadata": {
    "collapsed": false
   },
   "outputs": [
    {
     "name": "stdout",
     "output_type": "stream",
     "text": [
      "done\n"
     ]
    }
   ],
   "source": [
    "allgames_df['date'] = pandas.to_datetime(allgames_df['date'], format='%Y%m%d', errors='coerce')\n",
    "allgames_df['year'] = allgames_df['date'].apply(lambda x: x.year)\n",
    "\n",
    "#allgames_df = allgames_df.drop('gameID', axis=1)\n",
    "allgames_df['gameID'] = allgames_df['home']\n",
    "allgames_df['gameID'] += allgames_df['date'].apply(lambda x: x.strftime('%Y%m%d'))\n",
    "allgames_df['gameID'] += allgames_df['gameno'].apply(lambda x: str(x))\n",
    "#allgames_df = allgames_df.set_index('gameID')\n",
    "print('done')"
   ]
  },
  {
   "cell_type": "code",
   "execution_count": 5,
   "metadata": {
    "collapsed": false
   },
   "outputs": [],
   "source": [
    "games1938_df = allgames_df[allgames_df['year'] == 1938]\n",
    "\n",
    "allgames = allgames_df['gameID'].dropna().drop_duplicates().tolist()\n",
    "games1938 = games1938_df['gameID'].dropna().drop_duplicates().tolist()"
   ]
  },
  {
   "cell_type": "code",
   "execution_count": 6,
   "metadata": {
    "collapsed": false
   },
   "outputs": [
    {
     "name": "stdout",
     "output_type": "stream",
     "text": [
      "done\n"
     ]
    },
    {
     "data": {
      "text/html": [
       "<div>\n",
       "<style>\n",
       "    .dataframe thead tr:only-child th {\n",
       "        text-align: right;\n",
       "    }\n",
       "\n",
       "    .dataframe thead th {\n",
       "        text-align: left;\n",
       "    }\n",
       "\n",
       "    .dataframe tbody tr th {\n",
       "        vertical-align: top;\n",
       "    }\n",
       "</style>\n",
       "<table border=\"1\" class=\"dataframe\">\n",
       "  <thead>\n",
       "    <tr style=\"text-align: right;\">\n",
       "      <th></th>\n",
       "      <th>data</th>\n",
       "      <th>events</th>\n",
       "      <th>home_starters</th>\n",
       "      <th>id</th>\n",
       "      <th>info</th>\n",
       "      <th>version</th>\n",
       "      <th>visiting_starters</th>\n",
       "    </tr>\n",
       "  </thead>\n",
       "  <tbody>\n",
       "    <tr>\n",
       "      <th>0</th>\n",
       "      <td>[[cadol101, 4], [mamaa101, 0], [smits102, 0], ...</td>\n",
       "      <td>[[0, play, 1, 0, olsoi101, ??, , 13, , , , ], ...</td>\n",
       "      <td>[[power101, \"Ray Powell\", 1, 8], [barbw101, \"W...</td>\n",
       "      <td>BSN192104130</td>\n",
       "      <td>{'precip': 'unknown', 'visteam': 'BRO', 'umpho...</td>\n",
       "      <td>1</td>\n",
       "      <td>[[olsoi101, \"Ivy Olson\", 1, 6], [johnj107, \"Ji...</td>\n",
       "    </tr>\n",
       "  </tbody>\n",
       "</table>\n",
       "</div>"
      ],
      "text/plain": [
       "                                                data  \\\n",
       "0  [[cadol101, 4], [mamaa101, 0], [smits102, 0], ...   \n",
       "\n",
       "                                              events  \\\n",
       "0  [[0, play, 1, 0, olsoi101, ??, , 13, , , , ], ...   \n",
       "\n",
       "                                       home_starters            id  \\\n",
       "0  [[power101, \"Ray Powell\", 1, 8], [barbw101, \"W...  BSN192104130   \n",
       "\n",
       "                                                info version  \\\n",
       "0  {'precip': 'unknown', 'visteam': 'BRO', 'umpho...       1   \n",
       "\n",
       "                                   visiting_starters  \n",
       "0  [[olsoi101, \"Ivy Olson\", 1, 6], [johnj107, \"Ji...  "
      ]
     },
     "execution_count": 6,
     "metadata": {},
     "output_type": "execute_result"
    }
   ],
   "source": [
    "# runs in about 5 minutes\n",
    "with open('events.json','r') as f:\n",
    "    events_games = json.load(f)\n",
    "\n",
    "events_games_df = pandas.DataFrame(events_games)\n",
    "#events_games1938_df = events_games_df[events_games_df['year'] == 1938]\n",
    "#events_games_df = events_games_df.set_index('id')\n",
    "\n",
    "print('done')\n",
    "events_games_df.head(1)"
   ]
  },
  {
   "cell_type": "code",
   "execution_count": 10,
   "metadata": {
    "collapsed": false
   },
   "outputs": [
    {
     "name": "stdout",
     "output_type": "stream",
     "text": [
      "Done\n"
     ]
    }
   ],
   "source": [
    "games_with_events = events_games_df['id'].dropna().drop_duplicates().tolist()\n",
    "games1938_with_events = events_games_df['id'][events_games_df['id'].apply(lambda x: int(x[3:7])) == 1938].dropna().drop_duplicates().tolist()\n",
    "\n",
    "#games1938_with_events\n",
    "print('Done')"
   ]
  },
  {
   "cell_type": "code",
   "execution_count": 14,
   "metadata": {
    "collapsed": false
   },
   "outputs": [
    {
     "name": "stdout",
     "output_type": "stream",
     "text": [
      "Total games: 213,307\n",
      "Games with events: 148,169\n",
      "\n",
      "\n",
      "Games in 1938: 1,223\n",
      "Games with events in 1938: 793\n",
      "Games without events in 1938: 430\n"
     ]
    }
   ],
   "source": [
    "print('Total games: {:,.0f}'.format(len(allgames)))\n",
    "print('Games with events: {:,.0f}'.format(len(games_with_events)))\n",
    "print('\\n')\n",
    "print('Games in 1938: {:,.0f}'.format(len(games1938)))\n",
    "print('Games with events in 1938: {:,.0f}'.format(len(games1938_with_events)))\n",
    "\n",
    "\n",
    "games1938_without_events = [x for x in games1938 if x not in games1938_with_events]\n",
    "print('Games without events in 1938: {:,.0f}'.format(len(games1938_without_events)))"
   ]
  },
  {
   "cell_type": "code",
   "execution_count": null,
   "metadata": {
    "collapsed": true
   },
   "outputs": [],
   "source": []
  }
 ],
 "metadata": {
  "kernelspec": {
   "display_name": "Python 3",
   "language": "python",
   "name": "python3"
  },
  "language_info": {
   "codemirror_mode": {
    "name": "ipython",
    "version": 3
   },
   "file_extension": ".py",
   "mimetype": "text/x-python",
   "name": "python",
   "nbconvert_exporter": "python",
   "pygments_lexer": "ipython3",
   "version": "3.5.3"
  }
 },
 "nbformat": 4,
 "nbformat_minor": 0
}
