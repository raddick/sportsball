{
 "cells": [
  {
   "cell_type": "code",
   "execution_count": 11,
   "metadata": {
    "collapsed": true
   },
   "outputs": [],
   "source": [
    "import json\n",
    "import numpy\n",
    "import pandas\n",
    "from pprint import pprint\n",
    "pandas.options.display.max_colwidth = -1"
   ]
  },
  {
   "cell_type": "code",
   "execution_count": 12,
   "metadata": {
    "collapsed": false
   },
   "outputs": [
    {
     "name": "stdout",
     "output_type": "stream",
     "text": [
      "ok\n"
     ]
    }
   ],
   "source": [
    "# runs in about 5 minutes\n",
    "with open('events_1927_1938.json','r') as f:\n",
    "    allgames = json.load(f)\n",
    "print('ok')\n",
    "#pprint(allgames[2])   \n",
    "allgames_bk = allgames"
   ]
  },
  {
   "cell_type": "code",
   "execution_count": 13,
   "metadata": {
    "collapsed": false
   },
   "outputs": [
    {
     "data": {
      "text/html": [
       "<div>\n",
       "<style>\n",
       "    .dataframe thead tr:only-child th {\n",
       "        text-align: right;\n",
       "    }\n",
       "\n",
       "    .dataframe thead th {\n",
       "        text-align: left;\n",
       "    }\n",
       "\n",
       "    .dataframe tbody tr th {\n",
       "        vertical-align: top;\n",
       "    }\n",
       "</style>\n",
       "<table border=\"1\" class=\"dataframe\">\n",
       "  <thead>\n",
       "    <tr style=\"text-align: right;\">\n",
       "      <th></th>\n",
       "      <th>data</th>\n",
       "      <th>events</th>\n",
       "      <th>home_starters</th>\n",
       "      <th>info</th>\n",
       "      <th>version</th>\n",
       "      <th>visiting_starters</th>\n",
       "    </tr>\n",
       "    <tr>\n",
       "      <th>id</th>\n",
       "      <th></th>\n",
       "      <th></th>\n",
       "      <th></th>\n",
       "      <th></th>\n",
       "      <th></th>\n",
       "      <th></th>\n",
       "    </tr>\n",
       "  </thead>\n",
       "  <tbody>\n",
       "    <tr>\n",
       "      <th>BSN192704120</th>\n",
       "      <td>[[pettj103, 2], [smitb110, 2], [mogrg101, 2]]</td>\n",
       "      <td>[[0, play, 1, 0, statj101, ??, , 6/P, , , ], [1, play, 1, 0, carem101, ??, , K/C, , , ], [2, play, 1, 0, hendh101, ??, , K, , , ], [3, play, 1, 1, thomh102, ??, , S7, , , ], [4, play, 1, 1, smitj106, ??, , 34/SH.1-2, , , ], [5, play, 1, 1, moore102, ??, , T8/8XD.2-H;BXH(8432), , , ], [6, play, 1, 1, mannl101, ??, , 63, , , ], [7, play, 2, 0, hermb102, ??, , D, , , ], [8, play, 2, 0, barrb104, ??, , 63, , , ], [9, play, 2, 0, partj101, ??, , S7.2-3, , , ], [10, play, 2, 0, butlj101, ??, , FC3/BG.3-H(E3/THH)(NR)(UR);1-2, , , ], [11, play, 2, 0, henlb101, ??, , K, , , ], [12, play, 2, 0, pettj103, ??, , 8/L, , , ], [13, play, 2, 1, browe102, ??, , 53, , , ], [14, play, 2, 1, burrd101, ??, , K/C, , , ], [15, play, 2, 1, bancd101, ??, , 8, , , ], [16, play, 3, 0, statj101, ??, , W, , , ], [17, play, 3, 0, carem101, ??, , S9.1-3#, , , ], [18, play, 3, 0, hendh101, ??, , S9.3-H;1-3, , , ], [19, play, 3, 0, hermb102, ??, , NP, , , ], [20, sub, , 1, mogrg101, , , , , 9, 1], [21, play, 3, 0, hermb102, ??, , K, , , ], [22, play, 3, 0, barrb104, ??, , 7/SF.3-H, , , ], [23, play, 3, 0, partj101, ??, , PO1(13), , , ], [24, play, 3, 1, taylz101, ??, , 9/L, , , ], [25, play, 3, 1, mogrg101, ??, , K/C, , , ], [26, play, 3, 1, thomh102, ??, , 9, , , ], [27, play, 4, 0, partj101, ??, , K, , , ], [28, play, 4, 0, butlj101, ??, , K, , , ], [29, play, 4, 0, henlb101, ??, , T, , , ], [30, play, 4, 0, pettj103, ??, , K, , , ], [31, play, 4, 1, smitj106, ??, , 1/P, , , ], [32, play, 4, 1, moore102, ??, , 2/FL, , , ], [33, play, 4, 1, mannl101, ??, , 53, , , ], [34, play, 5, 0, statj101, ??, , K23, , , ], [35, play, 5, 0, carem101, ??, , K, , , ], [36, play, 5, 0, hendh101, ??, , 7/L, , , ], [37, play, 5, 1, browe102, ??, , 63, , , ], [38, play, 5, 1, burrd101, ??, , 31, , , ], [39, play, 5, 1, bancd101, ??, , 53, , , ], [40, play, 6, 0, hermb102, ??, , 5/FL, , , ], [41, play, 6, 0, barrb104, ??, , 8, , , ], [42, play, 6, 0, partj101, ??, , S/BG, , , ], [43, play, 6, 0, butlj101, ??, , 8, , , ], [44, play, 6, 1, taylz101, ??, , 3/P, , , ], [45, play, 6, 1, mogrg101, ??, , 7, , , ], [46, play, 6, 1, thomh102, ??, , 63, , , ], [47, play, 7, 0, henlb101, ??, , E6/TH1, , , ], [48, play, 7, 0, pettj103, ??, , 13.1-2, , , ], [49, play, 7, 0, statj101, ??, , W, , , ], [50, play, 7, 0, carem101, ??, , S8.2-H(UR);1-2#, , , ], [51, play, 7, 0, hendh101, ??, , D7.2-H;1-H, , , ], [52, play, 7, 0, hermb102, ??, , 3/G.2-3#, , , ], [53, play, 7, 0, barrb104, ??, , 2/FL, , , ], [54, play, 7, 1, smitj106, ??, , K, , , ], [55, play, 7, 1, moore102, ??, , S, , , ], [56, play, 7, 1, mannl101, ??, , S8.1-3, , , ], [57, play, 7, 1, browe102, ??, , 54(1)/FO.3-H, , , ], [58, play, 7, 1, burrd101, ??, , NP, , , ], [59, sub, , 1, gibsf101, , , , , 6, 11], [60, play, 7, 1, gibsf101, ??, , 5/FL, , , ], [61, play, 8, 0, partj101, ??, , NP, , , ], [62, sub, , 1, fourj101, , , , , 6, 3], [63, play, 8, 0, partj101, ??, , 2/FL, , , ], [64, play, 8, 0, butlj101, ??, , 8, , , ], [65, play, 8, 0, henlb101, ??, , S8, , , ], [66, play, 8, 0, pettj103, ??, , K, , , ], [67, play, 8, 1, bancd101, ??, , 8, , , ], [68, play, 8, 1, taylz101, ??, , 43, , , ], [69, play, 8, 1, mogrg101, ??, , D9, , , ], [70, play, 8, 1, thomh102, ??, , W, , , ], [71, play, 8, 1, smitj106, ??, , NP, , , ], [72, sub, , 1, hogas101, , , , , 2, 11], [73, play, 8, 1, hogas101, ??, , 6/P, , , ], [74, play, 9, 0, statj101, ??, , NP, , , ], [75, sub, , 1, moore102, , , , , 3, 9], [76, play, 9, 0, statj101, ??, , NP, , , ], [77, sub, , 1, mannl101, , , , , 4, 8], [78, play, 9, 0, statj101, ??, , NP, , , ], [79, sub, , 1, higha101, , , , , 2, 5], [80, play, 9, 0, statj101, ??, , K, , , ], [81, play, 9, 0, carem101, ??, , 7, , , ], [82, play, 9, 0, hendh101, ??, , K, , , ], [83, play, 9, 1, moore102, ??, , 63, , , ], [84, play, 9, 1, mannl101, ??, , S, , , ], [85, play, 9, 1, browe102, ??, , S8/L.1-2, , , ], [86, play, 9, 1, fourj101, ??, , 43.2-3;1-2, , , ], [87, play, 9, 1, bancd101, ??, , FC5.2X3(5), , , ]]</td>\n",
       "      <td>[[thomh102, \"Herb Thomas\", 1, 4], [smitj106, \"Jack Smith\", 2, 8], [moore102, \"Eddie Moore\", 3, 5], [mannl101, \"Les Mann\", 4, 9], [browe102, \"Eddie Brown\", 5, 7], [burrd101, \"Dick Burrus\", 6, 3], [bancd101, \"Dave Bancroft\", 7, 6], [taylz101, \"Zack Taylor\", 8, 2], [smitb110, \"Bob Smith\", 9, 1]]</td>\n",
       "      <td>{'precip': 'unknown', 'daynight': 'day', 'lp': 'smitb110', 'pitches': 'none', 'usedh': 'false', 'number': '0', 'inputtime': '2003/05/16 5:58PM', 'attendance': '15000', 'visteam': 'BRO', 'inputter': '\"Wayne Townsend\"', 'windspeed': '-1', 'ump3b': 'riglc901', 'date': '1927/04/12', 'howscored': 'park', 'wp': 'pettj103', 'hometeam': 'BSN', 'inputprogvers': '\"version 7RS(19) of 07/07/92\"', 'gwrbi': '', 'ump1b': 'pfirc901', 'site': 'BOS08', 'fieldcond': 'unknown', 'ump2b': '(none)', 'timeofgame': '120', 'scorer': '\"97\"', 'save': '', 'temp': '0', 'sky': 'unknown', 'winddir': 'unknown', 'starttime': '0:00PM', 'translator': '\"David W. Smith\"', 'umphome': 'hartb901'}</td>\n",
       "      <td>1</td>\n",
       "      <td>[[statj101, \"Jigger Statz\", 1, 7], [carem101, \"Max Carey\", 2, 8], [hendh101, \"Harvey Hendrick\", 3, 9], [hermb102, \"Babe Herman\", 4, 3], [barrb104, \"Bob Barrett\", 5, 5], [partj101, \"Jay Partridge\", 6, 4], [butlj101, \"Johnny Butler\", 7, 6], [henlb101, \"Butch Henline\", 8, 2], [pettj103, \"Jesse Petty\", 9, 1]]</td>\n",
       "    </tr>\n",
       "    <tr>\n",
       "      <th>BSN192704130</th>\n",
       "      <td>[[barnj102, 2], [ehrhr101, 0], [bentl101, 2]]</td>\n",
       "      <td>[[0, play, 1, 0, statj101, ??, , K, , , ], [1, play, 1, 0, carem101, ??, , 9, , , ], [2, play, 1, 0, hendh101, ??, , T8, , , ], [3, play, 1, 0, hermb102, ??, , 3/G, , , ], [4, play, 1, 1, thomh102, ??, , S/5, , , ], [5, play, 1, 1, smitj106, ??, , S1/G.1-2, , , ], [6, play, 1, 1, moore102, ??, , 13/SH.2-3;1-2, , , ], [7, play, 1, 1, higha101, ??, , 63.3-H;2-3, , , ], [8, play, 1, 1, browe102, ??, , 5/FL, , , ], [9, play, 2, 0, barrb104, ??, , 43, , , ], [10, play, 2, 0, partj101, ??, , S8, , , ], [11, play, 2, 0, butlj101, ??, , CS2(26), , , ], [12, play, 2, 0, butlj101, ??, , 63, , , ], [13, play, 2, 1, burrd101, ??, , 13, , , ], [14, play, 2, 1, bancd101, ??, , W, , , ], [15, play, 2, 1, gibsf101, ??, , 6/P, , , ], [16, play, 2, 1, bentl101, ??, , 4/P34D, , , ], [17, play, 3, 0, henlb101, ??, , 7/L, , , ], [18, play, 3, 0, barnj102, ??, , S7, , , ], [19, play, 3, 0, statj101, ??, , S7.1-2, , , ], [20, play, 3, 0, carem101, ??, , 7/FL, , , ], [21, play, 3, 0, hendh101, ??, , S.2-H;1-2, , , ], [22, play, 3, 0, hermb102, ??, , 3/FL, , , ], [23, play, 3, 1, thomh102, ??, , 8, , , ], [24, play, 3, 1, smitj106, ??, , 63, , , ], [25, play, 3, 1, moore102, ??, , S6/G, , , ], [26, play, 3, 1, higha101, ??, , 43, , , ], [27, play, 4, 0, barrb104, ??, , D, , , ], [28, play, 4, 0, partj101, ??, , 8(B)4(2)/L/DP, , , ], [29, play, 4, 0, butlj101, ??, , D9/89.BX3(945), , , ], [30, play, 4, 1, browe102, ??, , 7/L, , , ], [31, play, 4, 1, burrd101, ??, , S4/G, , , ], [32, play, 4, 1, bancd101, ??, , E6/G.1-2, , , ], [33, play, 4, 1, gibsf101, ??, , 64(1)/FO.2-3, , , ], [34, play, 4, 1, bentl101, ??, , K/C, , , ], [35, play, 5, 0, henlb101, ??, , 7/F7D, , , ], [36, play, 5, 0, barnj102, ??, , 43, , , ], [37, play, 5, 0, statj101, ??, , 63, , , ], [38, play, 5, 1, thomh102, ??, , 7, , , ], [39, play, 5, 1, smitj106, ??, , 63, , , ], [40, play, 5, 1, moore102, ??, , 8/F8XD, , , ], [41, play, 6, 0, carem101, ??, , W, , , ], [42, play, 6, 0, hendh101, ??, , W.1-2, , , ], [43, play, 6, 0, hermb102, ??, , 3/P, , , ], [44, play, 6, 0, barrb104, ??, , 4(1)3/GDP, , , ], [45, play, 6, 1, higha101, ??, , T8, , , ], [46, play, 6, 1, browe102, ??, , E5/TH1.3-H(NR);B-3, , , ], [47, play, 6, 1, burrd101, ??, , S/G6.3-H(UR), , , ], [48, play, 6, 1, bancd101, ??, , 6/P, , , ], [49, play, 6, 1, gibsf101, ??, , 46(1)/FO, , , ], [50, play, 6, 1, bentl101, ??, , 13, , , ], [51, play, 7, 0, partj101, ??, , 4/P4D, , , ], [52, play, 7, 0, butlj101, ??, , 8, , , ], [53, play, 7, 0, henlb101, ??, , 5/FL, , , ], [54, play, 7, 1, thomh102, ??, , 8/F8S, , , ], [55, play, 7, 1, smitj106, ??, , W, , , ], [56, play, 7, 1, moore102, ??, , SB2.1-H(E2/TH2)(UR), , , ], [57, play, 7, 1, moore102, ??, , 7, , , ], [58, play, 7, 1, higha101, ??, , 63, , , ], [59, play, 8, 0, barnj102, ??, , NP, , , ], [60, sub, , 0, felig101, , , , , 9, 11], [61, play, 8, 0, felig101, ??, , 63, , , ], [62, play, 8, 0, statj101, ??, , 43, , , ], [63, play, 8, 0, carem101, ??, , 7, , , ], [64, play, 8, 1, browe102, ??, , NP, , , ], [65, sub, , 0, ehrhr101, , , , , 9, 1], [66, play, 8, 1, browe102, ??, , 63, , , ], [67, play, 8, 1, burrd101, ??, , 3/G, , , ], [68, play, 8, 1, bancd101, ??, , S7, , , ], [69, play, 8, 1, gibsf101, ??, , 43, , , ], [70, play, 9, 0, hendh101, ??, , S7, , , ], [71, play, 9, 0, hermb102, ??, , SB2, , , ], [72, play, 9, 0, hermb102, ??, , S8.2-H, , , ], [73, play, 9, 0, barrb104, ??, , 8, , , ], [74, play, 9, 0, partj101, ??, , 8, , , ], [75, play, 9, 0, butlj101, ??, , 7/L, , , ]]</td>\n",
       "      <td>[[thomh102, \"Herb Thomas\", 1, 4], [smitj106, \"Jack Smith\", 2, 9], [moore102, \"Eddie Moore\", 3, 8], [higha101, \"Andy High\", 4, 5], [browe102, \"Eddie Brown\", 5, 7], [burrd101, \"Dick Burrus\", 6, 3], [bancd101, \"Dave Bancroft\", 7, 6], [gibsf101, \"Frank Gibson\", 8, 2], [bentl101, \"Larry Benton\", 9, 1]]</td>\n",
       "      <td>{'precip': 'unknown', 'daynight': 'day', 'lp': 'barnj102', 'pitches': 'none', 'usedh': 'false', 'number': '0', 'inputtime': '2003/05/25 11:23PM', 'attendance': '1500', 'visteam': 'BRO', 'inputter': '\"Wayne Townsend\"', 'windspeed': '-1', 'ump3b': 'hartb901', 'date': '1927/04/13', 'howscored': 'park', 'wp': 'bentl101', 'hometeam': 'BSN', 'inputprogvers': '\"version 7RS(19) of 07/07/92\"', 'gwrbi': '', 'ump1b': 'pfirc901', 'site': 'BOS08', 'fieldcond': 'unknown', 'ump2b': '(none)', 'timeofgame': '100', 'scorer': '\"97', 'save': '', 'temp': '0', 'sky': 'unknown', 'winddir': 'unknown', 'starttime': '0:00PM', 'translator': '\"David W. Smith\"', 'umphome': 'riglc901'}</td>\n",
       "      <td>1</td>\n",
       "      <td>[[statj101, \"Jigger Statz\", 1, 7], [carem101, \"Max Carey\", 2, 8], [hendh101, \"Harvey Hendrick\", 3, 9], [hermb102, \"Babe Herman\", 4, 3], [barrb104, \"Bob Barrett\", 5, 5], [partj101, \"Jay Partridge\", 6, 4], [butlj101, \"Johnny Butler\", 7, 6], [henlb101, \"Butch Henline\", 8, 2], [barnj102, \"Jess Barnes\", 9, 1]]</td>\n",
       "    </tr>\n",
       "  </tbody>\n",
       "</table>\n",
       "</div>"
      ],
      "text/plain": [
       "                                                       data  \\\n",
       "id                                                            \n",
       "BSN192704120  [[pettj103, 2], [smitb110, 2], [mogrg101, 2]]   \n",
       "BSN192704130  [[barnj102, 2], [ehrhr101, 0], [bentl101, 2]]   \n",
       "\n",
       "                                                                                                                                                                                                                                                                                                                                                                                                                                                                                                                                                                                                                                                                                                                                                                                                                                                                                                                                                                                                                                                                                                                                                                                                                                                                                                                                                                                                                                                                                                                                                                                                                                                                                                                                                                                                                                                                                                                                                                                                                                                                                                                                                                                                                                                                                                                                                                                                                                                                                                                                                                                                                                                                                                                                                                                                                                                                                                                                                                                                                                                                                                                                                                                                                                                                                                                                                                                                                                                                                                                                                                                                                                                                                                                                                                                                                                                                                                                                                                                                                                                                                                                                                         events  \\\n",
       "id                                                                                                                                                                                                                                                                                                                                                                                                                                                                                                                                                                                                                                                                                                                                                                                                                                                                                                                                                                                                                                                                                                                                                                                                                                                                                                                                                                                                                                                                                                                                                                                                                                                                                                                                                                                                                                                                                                                                                                                                                                                                                                                                                                                                                                                                                                                                                                                                                                                                                                                                                                                                                                                                                                                                                                                                                                                                                                                                                                                                                                                                                                                                                                                                                                                                                                                                                                                                                                                                                                                                                                                                                                                                                                                                                                                                                                                                                                                                                                                                                                                                                                                                                                \n",
       "BSN192704120  [[0, play, 1, 0, statj101, ??, , 6/P, , , ], [1, play, 1, 0, carem101, ??, , K/C, , , ], [2, play, 1, 0, hendh101, ??, , K, , , ], [3, play, 1, 1, thomh102, ??, , S7, , , ], [4, play, 1, 1, smitj106, ??, , 34/SH.1-2, , , ], [5, play, 1, 1, moore102, ??, , T8/8XD.2-H;BXH(8432), , , ], [6, play, 1, 1, mannl101, ??, , 63, , , ], [7, play, 2, 0, hermb102, ??, , D, , , ], [8, play, 2, 0, barrb104, ??, , 63, , , ], [9, play, 2, 0, partj101, ??, , S7.2-3, , , ], [10, play, 2, 0, butlj101, ??, , FC3/BG.3-H(E3/THH)(NR)(UR);1-2, , , ], [11, play, 2, 0, henlb101, ??, , K, , , ], [12, play, 2, 0, pettj103, ??, , 8/L, , , ], [13, play, 2, 1, browe102, ??, , 53, , , ], [14, play, 2, 1, burrd101, ??, , K/C, , , ], [15, play, 2, 1, bancd101, ??, , 8, , , ], [16, play, 3, 0, statj101, ??, , W, , , ], [17, play, 3, 0, carem101, ??, , S9.1-3#, , , ], [18, play, 3, 0, hendh101, ??, , S9.3-H;1-3, , , ], [19, play, 3, 0, hermb102, ??, , NP, , , ], [20, sub, , 1, mogrg101, , , , , 9, 1], [21, play, 3, 0, hermb102, ??, , K, , , ], [22, play, 3, 0, barrb104, ??, , 7/SF.3-H, , , ], [23, play, 3, 0, partj101, ??, , PO1(13), , , ], [24, play, 3, 1, taylz101, ??, , 9/L, , , ], [25, play, 3, 1, mogrg101, ??, , K/C, , , ], [26, play, 3, 1, thomh102, ??, , 9, , , ], [27, play, 4, 0, partj101, ??, , K, , , ], [28, play, 4, 0, butlj101, ??, , K, , , ], [29, play, 4, 0, henlb101, ??, , T, , , ], [30, play, 4, 0, pettj103, ??, , K, , , ], [31, play, 4, 1, smitj106, ??, , 1/P, , , ], [32, play, 4, 1, moore102, ??, , 2/FL, , , ], [33, play, 4, 1, mannl101, ??, , 53, , , ], [34, play, 5, 0, statj101, ??, , K23, , , ], [35, play, 5, 0, carem101, ??, , K, , , ], [36, play, 5, 0, hendh101, ??, , 7/L, , , ], [37, play, 5, 1, browe102, ??, , 63, , , ], [38, play, 5, 1, burrd101, ??, , 31, , , ], [39, play, 5, 1, bancd101, ??, , 53, , , ], [40, play, 6, 0, hermb102, ??, , 5/FL, , , ], [41, play, 6, 0, barrb104, ??, , 8, , , ], [42, play, 6, 0, partj101, ??, , S/BG, , , ], [43, play, 6, 0, butlj101, ??, , 8, , , ], [44, play, 6, 1, taylz101, ??, , 3/P, , , ], [45, play, 6, 1, mogrg101, ??, , 7, , , ], [46, play, 6, 1, thomh102, ??, , 63, , , ], [47, play, 7, 0, henlb101, ??, , E6/TH1, , , ], [48, play, 7, 0, pettj103, ??, , 13.1-2, , , ], [49, play, 7, 0, statj101, ??, , W, , , ], [50, play, 7, 0, carem101, ??, , S8.2-H(UR);1-2#, , , ], [51, play, 7, 0, hendh101, ??, , D7.2-H;1-H, , , ], [52, play, 7, 0, hermb102, ??, , 3/G.2-3#, , , ], [53, play, 7, 0, barrb104, ??, , 2/FL, , , ], [54, play, 7, 1, smitj106, ??, , K, , , ], [55, play, 7, 1, moore102, ??, , S, , , ], [56, play, 7, 1, mannl101, ??, , S8.1-3, , , ], [57, play, 7, 1, browe102, ??, , 54(1)/FO.3-H, , , ], [58, play, 7, 1, burrd101, ??, , NP, , , ], [59, sub, , 1, gibsf101, , , , , 6, 11], [60, play, 7, 1, gibsf101, ??, , 5/FL, , , ], [61, play, 8, 0, partj101, ??, , NP, , , ], [62, sub, , 1, fourj101, , , , , 6, 3], [63, play, 8, 0, partj101, ??, , 2/FL, , , ], [64, play, 8, 0, butlj101, ??, , 8, , , ], [65, play, 8, 0, henlb101, ??, , S8, , , ], [66, play, 8, 0, pettj103, ??, , K, , , ], [67, play, 8, 1, bancd101, ??, , 8, , , ], [68, play, 8, 1, taylz101, ??, , 43, , , ], [69, play, 8, 1, mogrg101, ??, , D9, , , ], [70, play, 8, 1, thomh102, ??, , W, , , ], [71, play, 8, 1, smitj106, ??, , NP, , , ], [72, sub, , 1, hogas101, , , , , 2, 11], [73, play, 8, 1, hogas101, ??, , 6/P, , , ], [74, play, 9, 0, statj101, ??, , NP, , , ], [75, sub, , 1, moore102, , , , , 3, 9], [76, play, 9, 0, statj101, ??, , NP, , , ], [77, sub, , 1, mannl101, , , , , 4, 8], [78, play, 9, 0, statj101, ??, , NP, , , ], [79, sub, , 1, higha101, , , , , 2, 5], [80, play, 9, 0, statj101, ??, , K, , , ], [81, play, 9, 0, carem101, ??, , 7, , , ], [82, play, 9, 0, hendh101, ??, , K, , , ], [83, play, 9, 1, moore102, ??, , 63, , , ], [84, play, 9, 1, mannl101, ??, , S, , , ], [85, play, 9, 1, browe102, ??, , S8/L.1-2, , , ], [86, play, 9, 1, fourj101, ??, , 43.2-3;1-2, , , ], [87, play, 9, 1, bancd101, ??, , FC5.2X3(5), , , ]]   \n",
       "BSN192704130  [[0, play, 1, 0, statj101, ??, , K, , , ], [1, play, 1, 0, carem101, ??, , 9, , , ], [2, play, 1, 0, hendh101, ??, , T8, , , ], [3, play, 1, 0, hermb102, ??, , 3/G, , , ], [4, play, 1, 1, thomh102, ??, , S/5, , , ], [5, play, 1, 1, smitj106, ??, , S1/G.1-2, , , ], [6, play, 1, 1, moore102, ??, , 13/SH.2-3;1-2, , , ], [7, play, 1, 1, higha101, ??, , 63.3-H;2-3, , , ], [8, play, 1, 1, browe102, ??, , 5/FL, , , ], [9, play, 2, 0, barrb104, ??, , 43, , , ], [10, play, 2, 0, partj101, ??, , S8, , , ], [11, play, 2, 0, butlj101, ??, , CS2(26), , , ], [12, play, 2, 0, butlj101, ??, , 63, , , ], [13, play, 2, 1, burrd101, ??, , 13, , , ], [14, play, 2, 1, bancd101, ??, , W, , , ], [15, play, 2, 1, gibsf101, ??, , 6/P, , , ], [16, play, 2, 1, bentl101, ??, , 4/P34D, , , ], [17, play, 3, 0, henlb101, ??, , 7/L, , , ], [18, play, 3, 0, barnj102, ??, , S7, , , ], [19, play, 3, 0, statj101, ??, , S7.1-2, , , ], [20, play, 3, 0, carem101, ??, , 7/FL, , , ], [21, play, 3, 0, hendh101, ??, , S.2-H;1-2, , , ], [22, play, 3, 0, hermb102, ??, , 3/FL, , , ], [23, play, 3, 1, thomh102, ??, , 8, , , ], [24, play, 3, 1, smitj106, ??, , 63, , , ], [25, play, 3, 1, moore102, ??, , S6/G, , , ], [26, play, 3, 1, higha101, ??, , 43, , , ], [27, play, 4, 0, barrb104, ??, , D, , , ], [28, play, 4, 0, partj101, ??, , 8(B)4(2)/L/DP, , , ], [29, play, 4, 0, butlj101, ??, , D9/89.BX3(945), , , ], [30, play, 4, 1, browe102, ??, , 7/L, , , ], [31, play, 4, 1, burrd101, ??, , S4/G, , , ], [32, play, 4, 1, bancd101, ??, , E6/G.1-2, , , ], [33, play, 4, 1, gibsf101, ??, , 64(1)/FO.2-3, , , ], [34, play, 4, 1, bentl101, ??, , K/C, , , ], [35, play, 5, 0, henlb101, ??, , 7/F7D, , , ], [36, play, 5, 0, barnj102, ??, , 43, , , ], [37, play, 5, 0, statj101, ??, , 63, , , ], [38, play, 5, 1, thomh102, ??, , 7, , , ], [39, play, 5, 1, smitj106, ??, , 63, , , ], [40, play, 5, 1, moore102, ??, , 8/F8XD, , , ], [41, play, 6, 0, carem101, ??, , W, , , ], [42, play, 6, 0, hendh101, ??, , W.1-2, , , ], [43, play, 6, 0, hermb102, ??, , 3/P, , , ], [44, play, 6, 0, barrb104, ??, , 4(1)3/GDP, , , ], [45, play, 6, 1, higha101, ??, , T8, , , ], [46, play, 6, 1, browe102, ??, , E5/TH1.3-H(NR);B-3, , , ], [47, play, 6, 1, burrd101, ??, , S/G6.3-H(UR), , , ], [48, play, 6, 1, bancd101, ??, , 6/P, , , ], [49, play, 6, 1, gibsf101, ??, , 46(1)/FO, , , ], [50, play, 6, 1, bentl101, ??, , 13, , , ], [51, play, 7, 0, partj101, ??, , 4/P4D, , , ], [52, play, 7, 0, butlj101, ??, , 8, , , ], [53, play, 7, 0, henlb101, ??, , 5/FL, , , ], [54, play, 7, 1, thomh102, ??, , 8/F8S, , , ], [55, play, 7, 1, smitj106, ??, , W, , , ], [56, play, 7, 1, moore102, ??, , SB2.1-H(E2/TH2)(UR), , , ], [57, play, 7, 1, moore102, ??, , 7, , , ], [58, play, 7, 1, higha101, ??, , 63, , , ], [59, play, 8, 0, barnj102, ??, , NP, , , ], [60, sub, , 0, felig101, , , , , 9, 11], [61, play, 8, 0, felig101, ??, , 63, , , ], [62, play, 8, 0, statj101, ??, , 43, , , ], [63, play, 8, 0, carem101, ??, , 7, , , ], [64, play, 8, 1, browe102, ??, , NP, , , ], [65, sub, , 0, ehrhr101, , , , , 9, 1], [66, play, 8, 1, browe102, ??, , 63, , , ], [67, play, 8, 1, burrd101, ??, , 3/G, , , ], [68, play, 8, 1, bancd101, ??, , S7, , , ], [69, play, 8, 1, gibsf101, ??, , 43, , , ], [70, play, 9, 0, hendh101, ??, , S7, , , ], [71, play, 9, 0, hermb102, ??, , SB2, , , ], [72, play, 9, 0, hermb102, ??, , S8.2-H, , , ], [73, play, 9, 0, barrb104, ??, , 8, , , ], [74, play, 9, 0, partj101, ??, , 8, , , ], [75, play, 9, 0, butlj101, ??, , 7/L, , , ]]                                                                                                                                                                                                                                                                                                                                                                                                                                                                                                           \n",
       "\n",
       "                                                                                                                                                                                                                                                                                                           home_starters  \\\n",
       "id                                                                                                                                                                                                                                                                                                                         \n",
       "BSN192704120  [[thomh102, \"Herb Thomas\", 1, 4], [smitj106, \"Jack Smith\", 2, 8], [moore102, \"Eddie Moore\", 3, 5], [mannl101, \"Les Mann\", 4, 9], [browe102, \"Eddie Brown\", 5, 7], [burrd101, \"Dick Burrus\", 6, 3], [bancd101, \"Dave Bancroft\", 7, 6], [taylz101, \"Zack Taylor\", 8, 2], [smitb110, \"Bob Smith\", 9, 1]]        \n",
       "BSN192704130  [[thomh102, \"Herb Thomas\", 1, 4], [smitj106, \"Jack Smith\", 2, 9], [moore102, \"Eddie Moore\", 3, 8], [higha101, \"Andy High\", 4, 5], [browe102, \"Eddie Brown\", 5, 7], [burrd101, \"Dick Burrus\", 6, 3], [bancd101, \"Dave Bancroft\", 7, 6], [gibsf101, \"Frank Gibson\", 8, 2], [bentl101, \"Larry Benton\", 9, 1]]   \n",
       "\n",
       "                                                                                                                                                                                                                                                                                                                                                                                                                                                                                                                                                                                                                                                                                                   info  \\\n",
       "id                                                                                                                                                                                                                                                                                                                                                                                                                                                                                                                                                                                                                                                                                                        \n",
       "BSN192704120  {'precip': 'unknown', 'daynight': 'day', 'lp': 'smitb110', 'pitches': 'none', 'usedh': 'false', 'number': '0', 'inputtime': '2003/05/16 5:58PM', 'attendance': '15000', 'visteam': 'BRO', 'inputter': '\"Wayne Townsend\"', 'windspeed': '-1', 'ump3b': 'riglc901', 'date': '1927/04/12', 'howscored': 'park', 'wp': 'pettj103', 'hometeam': 'BSN', 'inputprogvers': '\"version 7RS(19) of 07/07/92\"', 'gwrbi': '', 'ump1b': 'pfirc901', 'site': 'BOS08', 'fieldcond': 'unknown', 'ump2b': '(none)', 'timeofgame': '120', 'scorer': '\"97\"', 'save': '', 'temp': '0', 'sky': 'unknown', 'winddir': 'unknown', 'starttime': '0:00PM', 'translator': '\"David W. Smith\"', 'umphome': 'hartb901'}   \n",
       "BSN192704130  {'precip': 'unknown', 'daynight': 'day', 'lp': 'barnj102', 'pitches': 'none', 'usedh': 'false', 'number': '0', 'inputtime': '2003/05/25 11:23PM', 'attendance': '1500', 'visteam': 'BRO', 'inputter': '\"Wayne Townsend\"', 'windspeed': '-1', 'ump3b': 'hartb901', 'date': '1927/04/13', 'howscored': 'park', 'wp': 'bentl101', 'hometeam': 'BSN', 'inputprogvers': '\"version 7RS(19) of 07/07/92\"', 'gwrbi': '', 'ump1b': 'pfirc901', 'site': 'BOS08', 'fieldcond': 'unknown', 'ump2b': '(none)', 'timeofgame': '100', 'scorer': '\"97', 'save': '', 'temp': '0', 'sky': 'unknown', 'winddir': 'unknown', 'starttime': '0:00PM', 'translator': '\"David W. Smith\"', 'umphome': 'riglc901'}    \n",
       "\n",
       "             version  \\\n",
       "id                     \n",
       "BSN192704120  1        \n",
       "BSN192704130  1        \n",
       "\n",
       "                                                                                                                                                                                                                                                                                                               visiting_starters  \n",
       "id                                                                                                                                                                                                                                                                                                                                \n",
       "BSN192704120  [[statj101, \"Jigger Statz\", 1, 7], [carem101, \"Max Carey\", 2, 8], [hendh101, \"Harvey Hendrick\", 3, 9], [hermb102, \"Babe Herman\", 4, 3], [barrb104, \"Bob Barrett\", 5, 5], [partj101, \"Jay Partridge\", 6, 4], [butlj101, \"Johnny Butler\", 7, 6], [henlb101, \"Butch Henline\", 8, 2], [pettj103, \"Jesse Petty\", 9, 1]]  \n",
       "BSN192704130  [[statj101, \"Jigger Statz\", 1, 7], [carem101, \"Max Carey\", 2, 8], [hendh101, \"Harvey Hendrick\", 3, 9], [hermb102, \"Babe Herman\", 4, 3], [barrb104, \"Bob Barrett\", 5, 5], [partj101, \"Jay Partridge\", 6, 4], [butlj101, \"Johnny Butler\", 7, 6], [henlb101, \"Butch Henline\", 8, 2], [barnj102, \"Jess Barnes\", 9, 1]]  "
      ]
     },
     "execution_count": 13,
     "metadata": {},
     "output_type": "execute_result"
    }
   ],
   "source": [
    "allgames_df = pandas.DataFrame.from_dict(allgames)\n",
    "allgames_df = allgames_df.set_index('id')\n",
    "allgames_df.head(2)"
   ]
  },
  {
   "cell_type": "code",
   "execution_count": 14,
   "metadata": {
    "collapsed": false
   },
   "outputs": [
    {
     "name": "stdout",
     "output_type": "stream",
     "text": [
      "0     1\n",
      "1     1\n",
      "2     1\n",
      "3     1\n",
      "4     1\n",
      "5     1\n",
      "6     1\n",
      "7     2\n",
      "8     2\n",
      "9     2\n",
      "10    2\n",
      "11    2\n",
      "12    2\n",
      "13    2\n",
      "14    2\n",
      "15    2\n",
      "16    3\n",
      "17    3\n",
      "18    3\n",
      "19    3\n",
      "20     \n",
      "21    3\n",
      "22    3\n",
      "23    3\n",
      "24    3\n",
      "25    3\n",
      "26    3\n",
      "27    4\n",
      "28    4\n",
      "29    4\n",
      "     ..\n",
      "58    7\n",
      "59     \n",
      "60    7\n",
      "61    8\n",
      "62     \n",
      "63    8\n",
      "64    8\n",
      "65    8\n",
      "66    8\n",
      "67    8\n",
      "68    8\n",
      "69    8\n",
      "70    8\n",
      "71    8\n",
      "72     \n",
      "73    8\n",
      "74    9\n",
      "75     \n",
      "76    9\n",
      "77     \n",
      "78    9\n",
      "79     \n",
      "80    9\n",
      "81    9\n",
      "82    9\n",
      "83    9\n",
      "84    9\n",
      "85    9\n",
      "86    9\n",
      "87    9\n",
      "Name: inning, Length: 88, dtype: object\n"
     ]
    }
   ],
   "source": [
    "column_list = ['event_in_game', 'event_type', 'inning', 'home_or_visitor', 'batterID']\n",
    "column_list += ['pitch_count', 'pitch_sequence', 'event', 'comment', 'sub_batting_order', 'sub_position']#, 'gameID']\n",
    "\n",
    "for index,row in allgames_df.iloc[0:1].iterrows():\n",
    "    thisgame_df = pandas.DataFrame(row['events'], columns=column_list)\n",
    "    print(thisgame_df['inning'])\n",
    "    \n",
    "#thisgame_df\n"
   ]
  },
  {
   "cell_type": "code",
   "execution_count": null,
   "metadata": {
    "collapsed": true
   },
   "outputs": [],
   "source": []
  }
 ],
 "metadata": {
  "kernelspec": {
   "display_name": "Python 3",
   "language": "python",
   "name": "python3"
  },
  "language_info": {
   "codemirror_mode": {
    "name": "ipython",
    "version": 3
   },
   "file_extension": ".py",
   "mimetype": "text/x-python",
   "name": "python",
   "nbconvert_exporter": "python",
   "pygments_lexer": "ipython3",
   "version": "3.5.3"
  }
 },
 "nbformat": 4,
 "nbformat_minor": 0
}
