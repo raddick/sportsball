{
 "cells": [
  {
   "cell_type": "code",
   "execution_count": 19,
   "metadata": {
    "collapsed": false
   },
   "outputs": [],
   "source": [
    "import json\n",
    "import numpy\n",
    "import pandas\n",
    "from pprint import pprint\n",
    "pandas.options.display.max_colwidth = -1\n",
    "\n",
    "\n",
    "def get_game_info(thisgame_df, row):\n",
    "    \n",
    "    thisgame_df['visteam'] = row['info']['visteam']\n",
    "    thisgame_df['hometeam'] = row['info']['hometeam']\n",
    "    thisgame_df['date'] = pandas.to_datetime(row['info']['date'], errors='coerce')\n",
    "    thisgame_df['time'] = row['info']['starttime']\n",
    "    thisgame_df['daynight'] = row['info']['daynight']\n",
    "    thisgame_df['site'] = row['info']['site']\n",
    "    thisgame_df['length'] = pandas.to_timedelta(str(row['info']['timeofgame'])+' minutes', errors='ignore')\n",
    "     \n",
    "    return thisgame_df\n"
   ]
  },
  {
   "cell_type": "code",
   "execution_count": 20,
   "metadata": {
    "collapsed": false
   },
   "outputs": [
    {
     "name": "stdout",
     "output_type": "stream",
     "text": [
      "ok\n"
     ]
    }
   ],
   "source": [
    "# runs in about 5 minutes\n",
    "with open('events_2012-2016.json','r') as f:\n",
    "#with open('events_1927_1938.json','r') as f:\n",
    "    allgames = json.load(f)\n",
    "print('ok')\n",
    "#pprint(allgames[2])   \n",
    "allgames_bk = allgames\n",
    "\n",
    "allgames_df = pandas.DataFrame(allgames)\n",
    "allgames_df = allgames_df.set_index('id')\n",
    "\n"
   ]
  },
  {
   "cell_type": "code",
   "execution_count": 21,
   "metadata": {
    "collapsed": false
   },
   "outputs": [
    {
     "data": {
      "text/plain": [
       "Index(['MIN201204230', 'SEA201207290', 'LAN201304280', 'OAK201309010',\n",
       "       'SFN201409270', 'DET201306090', 'TEX201208240', 'ANA201404280',\n",
       "       'WAS201304260', 'CIN201609060'],\n",
       "      dtype='object', name='id')"
      ]
     },
     "execution_count": 21,
     "metadata": {},
     "output_type": "execute_result"
    }
   ],
   "source": [
    "allgames_df.sample(10).index\n",
    "#'MIN201204230', 'SEA201207290', 'LAN201304280', 'OAK201309010',\n",
    "#       'SFN201409270', 'DET201306090', 'TEX201208240', 'ANA201404280',\n",
    "#       'WAS201304260', 'CIN201609060'],"
   ]
  },
  {
   "cell_type": "code",
   "execution_count": 22,
   "metadata": {
    "collapsed": false,
    "scrolled": true
   },
   "outputs": [
    {
     "name": "stdout",
     "output_type": "stream",
     "text": [
      "Parsing game 0: MIN201204230\n",
      "     et  inning  hv  batterID       event comment sub_batting_order  \\\n",
      "0  play  1       0   avilm001  S7/L                                   \n",
      "1  play  1       0   sweer001  K                                      \n",
      "2  play  1       0   pedrd001  S8/G.1-3                               \n",
      "3  play  1       0   gonza003  7/SF/F.3-H                             \n",
      "4  play  1       0   ortid001  CS2(26)                                \n",
      "\n",
      "  sub_position  \n",
      "0               \n",
      "1               \n",
      "2               \n",
      "3               \n",
      "4               \n"
     ]
    }
   ],
   "source": [
    "allgames_df = allgames_df.iloc[allgames_df.index == 'MIN201204230']\n",
    "#allgames_df = allgames_df.sample(1)\n",
    "\n",
    "#column_list = ['event_in_game', 'event_type', 'inning', 'home_or_visitor', 'batterID']\n",
    "column_list = ['eig', 'et', 'inning', 'hv', 'batterID']\n",
    "column_list += ['pitch_count', 'pitch_sequence', 'event', 'comment', 'sub_batting_order', 'sub_position']#, 'gameID']\n",
    "\n",
    "#showcolumns = ['gameID']\n",
    "#showcolumns += ['visteam', 'hometeam','site', 'date', 'time', 'length']\n",
    "showcolumns = ['et', 'inning', 'hv', 'batterID', 'event']\n",
    "showcolumns += ['comment', 'sub_batting_order', 'sub_position']\n",
    "\n",
    "allevents_df = pandas.DataFrame(columns = column_list)\n",
    "\n",
    "cnt = 0\n",
    "for thisgameID,row in allgames_df.iterrows():\n",
    "    if (numpy.mod(cnt,1000) == 0):\n",
    "        print('Parsing game {0:,.0f}: {1}'.format(cnt, thisgameID))\n",
    "    thisgame_df = pandas.DataFrame(row['events'], columns=column_list)\n",
    "\n",
    "    thisgame_df['gameID'] = thisgameID\n",
    "    \n",
    "    thisgame_df = get_game_info(thisgame_df, row)\n",
    "\n",
    "    visiting_roster_df = pandas.DataFrame(row['visiting_starters'], columns=['playerID', 'playerName', 'batting_order', 'position'])\n",
    "    home_roster_df = pandas.DataFrame(row['home_starters'], columns=['playerID', 'playerName', 'batting_order', 'position'])\n",
    "#    thisgame_df['home_roster'] = row['home_starters'].tolist()\n",
    "    \n",
    "#    print(visitor_roster)\n",
    "    \n",
    "    thisgame_df['inning'] = pandas.to_numeric(thisgame_df['inning'])\n",
    "    thisgame_df['hv'] = pandas.to_numeric(thisgame_df['hv'])\n",
    "    \n",
    "    print(thisgame_df[showcolumns][(thisgame_df['inning'] == 1) & (thisgame_df['hv'] == 0)])\n",
    "    \n",
    "    allevents_df = pandas.concat((allevents_df, thisgame_df))\n",
    "    \n",
    "    cnt = cnt + 1\n",
    "#thisgame_df[showcolumns]\n",
    "\n",
    "\n",
    "#allevents_df[showcolumns]\n"
   ]
  },
  {
   "cell_type": "code",
   "execution_count": null,
   "metadata": {
    "collapsed": true
   },
   "outputs": [],
   "source": []
  }
 ],
 "metadata": {
  "kernelspec": {
   "display_name": "Python 3",
   "language": "python",
   "name": "python3"
  },
  "language_info": {
   "codemirror_mode": {
    "name": "ipython",
    "version": 3
   },
   "file_extension": ".py",
   "mimetype": "text/x-python",
   "name": "python",
   "nbconvert_exporter": "python",
   "pygments_lexer": "ipython3",
   "version": "3.5.3"
  }
 },
 "nbformat": 4,
 "nbformat_minor": 0
}
