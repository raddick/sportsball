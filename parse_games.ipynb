{
 "cells": [
  {
   "cell_type": "code",
   "execution_count": 1,
   "metadata": {
    "collapsed": false
   },
   "outputs": [],
   "source": [
    "import json\n",
    "import numpy\n",
    "import pandas\n",
    "from pprint import pprint\n",
    "pandas.options.display.max_colwidth = -1\n",
    "\n",
    "\n",
    "def get_game_info(thisgame_df, row):\n",
    "    \n",
    "    thisgame_df['visteam'] = row['info']['visteam']\n",
    "    thisgame_df['hometeam'] = row['info']['hometeam']\n",
    "    thisgame_df['date'] = pandas.to_datetime(row['info']['date'], errors='coerce')\n",
    "    thisgame_df['time'] = row['info']['starttime']\n",
    "    thisgame_df['daynight'] = row['info']['daynight']\n",
    "    thisgame_df['site'] = row['info']['site']\n",
    "    thisgame_df['length'] = pandas.to_timedelta(str(row['info']['timeofgame'])+' minutes', errors='ignore')\n",
    "    thisgame_df['attendance'] = pandas.to_numeric(row['info']['attendance'])\n",
    "    thisgame_df['fieldcond'] = row['info']['fieldcond']\n",
    "    thisgame_df['precip'] = row['info']['precip']    \n",
    "    thisgame_df['sky'] = row['info']['sky']\n",
    "    thisgame_df['winddir'] = row['info']['winddir']\n",
    "    thisgame_df['windspeed'] = pandas.to_numeric(row['info']['windspeed'])\n",
    "    return thisgame_df\n",
    "\n",
    "def parse_events(thisgame_df):\n",
    "    thisgame_df['play'] = thisgame_df['event'].str.split('/').str.get(0)\n",
    "    thisgame_df['modifiers'] = thisgame_df['event'].str.split('/',n=1).str.get(1)\n",
    "    thisgame_df['play'] = thisgame_df['event'].str.split('/').str.get(0)\n",
    "    thisgame_df['modifiers'] = thisgame_df['event'].str.split('/',n=1).str.get(1)\n",
    "    thisgame_df['modifiers'] = thisgame_df['modifiers'].fillna('')\n",
    "    thisgame_df['baserunning'] = thisgame_df['modifiers'].str.split('.',n=1).str.get(1)\n",
    "    thisgame_df['baserunning'] = thisgame_df['baserunning'].fillna('')\n",
    "    thisgame_df['modifiers'] = thisgame_df['modifiers'].str.split('.').str.get(0)\n",
    "#    thisgame_df['mdfs'] = thisgame_df['ev'].str.split('/',n=1).str.get(1)\n",
    "#    thisgame_df['mdfs'] = thisgame_df['mdfs'].fillna('')\n",
    "#    thisgame_df['brun'] = thisgame_df['mdfs'].str.split('.',n=1).str.get(1)\n",
    "#    thisgame_df['brun'] = thisgame_df['brun'].fillna('')\n",
    "#    thisgame_df['mdfs'] = thisgame_df['mdfs'].str.split('.').str.get(0)\n",
    "    \n",
    "    return thisgame_df"
   ]
  },
  {
   "cell_type": "code",
   "execution_count": 2,
   "metadata": {
    "collapsed": false
   },
   "outputs": [
    {
     "name": "stdout",
     "output_type": "stream",
     "text": [
      "ok\n"
     ]
    }
   ],
   "source": [
    "# runs in about 5 minutes\n",
    "with open('events_2012-2016.json','r') as f:\n",
    "#with open('events_1927_1938.json','r') as f:\n",
    "    allgames = json.load(f)\n",
    "print('ok')\n",
    "#pprint(allgames[2])   \n",
    "allgames_bk = allgames\n",
    "\n",
    "allgames_df = pandas.DataFrame(allgames)\n",
    "allgames_df = allgames_df.set_index('id')"
   ]
  },
  {
   "cell_type": "code",
   "execution_count": null,
   "metadata": {
    "collapsed": false
   },
   "outputs": [],
   "source": [
    "#allgames_df.sample(10).index\n",
    "#'MIN201204230', 'SEA201207290', 'LAN201304280', 'OAK201309010',\n",
    "#       'SFN201409270', 'DET201306090', 'TEX201208240', 'ANA201404280',\n",
    "#       'WAS201304260', 'CIN201609060'],"
   ]
  },
  {
   "cell_type": "code",
   "execution_count": 3,
   "metadata": {
    "collapsed": true
   },
   "outputs": [],
   "source": [
    "#allgames_df = allgames_df.iloc[allgames_df.index == 'MIN201204230']\n",
    "#allgames_df = allgames_df.sample(1)\n",
    "\n",
    "column_list = ['event_in_game', 'event_type', 'inning', 'home_or_visitor', 'batterID']\n",
    "column_list += ['pitch_count', 'pitch_sequence', 'event', 'comment', 'sub_batting_order', 'sub_position']\n",
    "#column_list = ['eig', 'et', 'inn', 'hv', 'bID']\n",
    "#column_list += ['pc', 'ps', 'ev', 'com', 'sbord', 'spos']\n",
    "\n",
    "#showcolumns = ['gameID']\n",
    "#showcolumns += ['visteam', 'hometeam','site', 'date', 'time', 'length']\n",
    "#showcolumns = ['et', 'inn', 'hv', 'bID', 'pID']\n",
    "#showcolumns += ['pc', 'ps']\n",
    "#showcolumns += ['pc', 'ev', 'play', 'mdfs', 'brun', 'com', 'sbord', 'spos']\n",
    "#showcolumns += ['event_type', 'inning', 'home_or_visitor']\n",
    "#showcolumns += ['batterID', 'event', 'play']\n",
    "#showcolumns += ['modifiers', 'baserunning']\n",
    "#showcolumns += ['comment', 'sub_batting_order', 'sub_position']"
   ]
  },
  {
   "cell_type": "code",
   "execution_count": 4,
   "metadata": {
    "collapsed": false,
    "scrolled": true
   },
   "outputs": [
    {
     "name": "stdout",
     "output_type": "stream",
     "text": [
      "Parsing game 0: ANA201204060\n",
      "Parsing game 100: ARI201205210\n",
      "Parsing game 200: ATL201207020\n",
      "Parsing game 300: BAL201208120\n",
      "Parsing game 400: BOS201209210\n",
      "Parsing game 500: CHN201205050\n",
      "Parsing game 600: CIN201206220\n",
      "Parsing game 700: CLE201208060\n",
      "Parsing game 800: COL201209100\n",
      "Parsing game 900: HOU201204300\n",
      "Parsing game 1,000: KCA201206120\n",
      "Parsing game 1,100: LAN201207170\n",
      "Parsing game 1,200: MIA201209040\n",
      "Parsing game 1,300: NYA201204170\n",
      "Parsing game 1,400: NYN201205270\n",
      "Parsing game 1,500: OAK201207070\n",
      "Parsing game 1,600: PHI201208220\n",
      "Parsing game 1,700: PIT201210030\n",
      "Parsing game 1,800: SEA201205240\n",
      "Parsing game 1,900: SFN201206270\n",
      "Parsing game 2,000: TBA201208070\n",
      "Parsing game 2,100: TEX201209250\n",
      "Parsing game 2,200: WAS201205040\n",
      "Parsing game 2,300: ANA201306050\n",
      "Parsing game 2,400: ARI201307260\n",
      "Parsing game 2,500: ATL201309040\n",
      "Parsing game 2,600: BOS201304212\n"
     ]
    },
    {
     "ename": "KeyboardInterrupt",
     "evalue": "",
     "output_type": "error",
     "traceback": [
      "\u001b[1;31m\u001b[0m",
      "\u001b[1;31mKeyboardInterrupt\u001b[0mTraceback (most recent call last)",
      "\u001b[1;32m<ipython-input-4-fb0f50835046>\u001b[0m in \u001b[0;36m<module>\u001b[1;34m()\u001b[0m\n\u001b[0;32m     25\u001b[0m     \u001b[0mthisgame_df\u001b[0m \u001b[1;33m=\u001b[0m \u001b[0mparse_events\u001b[0m\u001b[1;33m(\u001b[0m\u001b[0mthisgame_df\u001b[0m\u001b[1;33m)\u001b[0m\u001b[1;33m\u001b[0m\u001b[0m\n\u001b[0;32m     26\u001b[0m \u001b[1;33m\u001b[0m\u001b[0m\n\u001b[1;32m---> 27\u001b[1;33m     \u001b[0mallevents_df\u001b[0m \u001b[1;33m=\u001b[0m \u001b[0mpandas\u001b[0m\u001b[1;33m.\u001b[0m\u001b[0mconcat\u001b[0m\u001b[1;33m(\u001b[0m\u001b[1;33m(\u001b[0m\u001b[0mallevents_df\u001b[0m\u001b[1;33m,\u001b[0m \u001b[0mthisgame_df\u001b[0m\u001b[1;33m)\u001b[0m\u001b[1;33m)\u001b[0m\u001b[1;33m\u001b[0m\u001b[0m\n\u001b[0m\u001b[0;32m     28\u001b[0m \u001b[1;33m\u001b[0m\u001b[0m\n\u001b[0;32m     29\u001b[0m     \u001b[0mcnt\u001b[0m \u001b[1;33m=\u001b[0m \u001b[0mcnt\u001b[0m \u001b[1;33m+\u001b[0m \u001b[1;36m1\u001b[0m\u001b[1;33m\u001b[0m\u001b[0m\n",
      "\u001b[1;32m/home/idies/anaconda3/lib/python3.5/site-packages/pandas/core/reshape/concat.py\u001b[0m in \u001b[0;36mconcat\u001b[1;34m(objs, axis, join, join_axes, ignore_index, keys, levels, names, verify_integrity, copy)\u001b[0m\n\u001b[0;32m    205\u001b[0m                        \u001b[0mverify_integrity\u001b[0m\u001b[1;33m=\u001b[0m\u001b[0mverify_integrity\u001b[0m\u001b[1;33m,\u001b[0m\u001b[1;33m\u001b[0m\u001b[0m\n\u001b[0;32m    206\u001b[0m                        copy=copy)\n\u001b[1;32m--> 207\u001b[1;33m     \u001b[1;32mreturn\u001b[0m \u001b[0mop\u001b[0m\u001b[1;33m.\u001b[0m\u001b[0mget_result\u001b[0m\u001b[1;33m(\u001b[0m\u001b[1;33m)\u001b[0m\u001b[1;33m\u001b[0m\u001b[0m\n\u001b[0m\u001b[0;32m    208\u001b[0m \u001b[1;33m\u001b[0m\u001b[0m\n\u001b[0;32m    209\u001b[0m \u001b[1;33m\u001b[0m\u001b[0m\n",
      "\u001b[1;32m/home/idies/anaconda3/lib/python3.5/site-packages/pandas/core/reshape/concat.py\u001b[0m in \u001b[0;36mget_result\u001b[1;34m(self)\u001b[0m\n\u001b[0;32m    405\u001b[0m             new_data = concatenate_block_managers(\n\u001b[0;32m    406\u001b[0m                 \u001b[0mmgrs_indexers\u001b[0m\u001b[1;33m,\u001b[0m \u001b[0mself\u001b[0m\u001b[1;33m.\u001b[0m\u001b[0mnew_axes\u001b[0m\u001b[1;33m,\u001b[0m \u001b[0mconcat_axis\u001b[0m\u001b[1;33m=\u001b[0m\u001b[0mself\u001b[0m\u001b[1;33m.\u001b[0m\u001b[0maxis\u001b[0m\u001b[1;33m,\u001b[0m\u001b[1;33m\u001b[0m\u001b[0m\n\u001b[1;32m--> 407\u001b[1;33m                 copy=self.copy)\n\u001b[0m\u001b[0;32m    408\u001b[0m             \u001b[1;32mif\u001b[0m \u001b[1;32mnot\u001b[0m \u001b[0mself\u001b[0m\u001b[1;33m.\u001b[0m\u001b[0mcopy\u001b[0m\u001b[1;33m:\u001b[0m\u001b[1;33m\u001b[0m\u001b[0m\n\u001b[0;32m    409\u001b[0m                 \u001b[0mnew_data\u001b[0m\u001b[1;33m.\u001b[0m\u001b[0m_consolidate_inplace\u001b[0m\u001b[1;33m(\u001b[0m\u001b[1;33m)\u001b[0m\u001b[1;33m\u001b[0m\u001b[0m\n",
      "\u001b[1;32m/home/idies/anaconda3/lib/python3.5/site-packages/pandas/core/internals.py\u001b[0m in \u001b[0;36mconcatenate_block_managers\u001b[1;34m(mgrs_indexers, axes, concat_axis, copy)\u001b[0m\n\u001b[0;32m   4830\u001b[0m     blocks = [make_block(\n\u001b[0;32m   4831\u001b[0m         \u001b[0mconcatenate_join_units\u001b[0m\u001b[1;33m(\u001b[0m\u001b[0mjoin_units\u001b[0m\u001b[1;33m,\u001b[0m \u001b[0mconcat_axis\u001b[0m\u001b[1;33m,\u001b[0m \u001b[0mcopy\u001b[0m\u001b[1;33m=\u001b[0m\u001b[0mcopy\u001b[0m\u001b[1;33m)\u001b[0m\u001b[1;33m,\u001b[0m\u001b[1;33m\u001b[0m\u001b[0m\n\u001b[1;32m-> 4832\u001b[1;33m         placement=placement) for placement, join_units in concat_plan]\n\u001b[0m\u001b[0;32m   4833\u001b[0m \u001b[1;33m\u001b[0m\u001b[0m\n\u001b[0;32m   4834\u001b[0m     \u001b[1;32mreturn\u001b[0m \u001b[0mBlockManager\u001b[0m\u001b[1;33m(\u001b[0m\u001b[0mblocks\u001b[0m\u001b[1;33m,\u001b[0m \u001b[0maxes\u001b[0m\u001b[1;33m)\u001b[0m\u001b[1;33m\u001b[0m\u001b[0m\n",
      "\u001b[1;32m/home/idies/anaconda3/lib/python3.5/site-packages/pandas/core/internals.py\u001b[0m in \u001b[0;36m<listcomp>\u001b[1;34m(.0)\u001b[0m\n\u001b[0;32m   4830\u001b[0m     blocks = [make_block(\n\u001b[0;32m   4831\u001b[0m         \u001b[0mconcatenate_join_units\u001b[0m\u001b[1;33m(\u001b[0m\u001b[0mjoin_units\u001b[0m\u001b[1;33m,\u001b[0m \u001b[0mconcat_axis\u001b[0m\u001b[1;33m,\u001b[0m \u001b[0mcopy\u001b[0m\u001b[1;33m=\u001b[0m\u001b[0mcopy\u001b[0m\u001b[1;33m)\u001b[0m\u001b[1;33m,\u001b[0m\u001b[1;33m\u001b[0m\u001b[0m\n\u001b[1;32m-> 4832\u001b[1;33m         placement=placement) for placement, join_units in concat_plan]\n\u001b[0m\u001b[0;32m   4833\u001b[0m \u001b[1;33m\u001b[0m\u001b[0m\n\u001b[0;32m   4834\u001b[0m     \u001b[1;32mreturn\u001b[0m \u001b[0mBlockManager\u001b[0m\u001b[1;33m(\u001b[0m\u001b[0mblocks\u001b[0m\u001b[1;33m,\u001b[0m \u001b[0maxes\u001b[0m\u001b[1;33m)\u001b[0m\u001b[1;33m\u001b[0m\u001b[0m\n",
      "\u001b[1;32m/home/idies/anaconda3/lib/python3.5/site-packages/pandas/core/internals.py\u001b[0m in \u001b[0;36mconcatenate_join_units\u001b[1;34m(join_units, concat_axis, copy)\u001b[0m\n\u001b[0;32m   4937\u001b[0m     to_concat = [ju.get_reindexed_values(empty_dtype=empty_dtype,\n\u001b[0;32m   4938\u001b[0m                                          upcasted_na=upcasted_na)\n\u001b[1;32m-> 4939\u001b[1;33m                  for ju in join_units]\n\u001b[0m\u001b[0;32m   4940\u001b[0m \u001b[1;33m\u001b[0m\u001b[0m\n\u001b[0;32m   4941\u001b[0m     \u001b[1;32mif\u001b[0m \u001b[0mlen\u001b[0m\u001b[1;33m(\u001b[0m\u001b[0mto_concat\u001b[0m\u001b[1;33m)\u001b[0m \u001b[1;33m==\u001b[0m \u001b[1;36m1\u001b[0m\u001b[1;33m:\u001b[0m\u001b[1;33m\u001b[0m\u001b[0m\n",
      "\u001b[1;32m/home/idies/anaconda3/lib/python3.5/site-packages/pandas/core/internals.py\u001b[0m in \u001b[0;36m<listcomp>\u001b[1;34m(.0)\u001b[0m\n\u001b[0;32m   4937\u001b[0m     to_concat = [ju.get_reindexed_values(empty_dtype=empty_dtype,\n\u001b[0;32m   4938\u001b[0m                                          upcasted_na=upcasted_na)\n\u001b[1;32m-> 4939\u001b[1;33m                  for ju in join_units]\n\u001b[0m\u001b[0;32m   4940\u001b[0m \u001b[1;33m\u001b[0m\u001b[0m\n\u001b[0;32m   4941\u001b[0m     \u001b[1;32mif\u001b[0m \u001b[0mlen\u001b[0m\u001b[1;33m(\u001b[0m\u001b[0mto_concat\u001b[0m\u001b[1;33m)\u001b[0m \u001b[1;33m==\u001b[0m \u001b[1;36m1\u001b[0m\u001b[1;33m:\u001b[0m\u001b[1;33m\u001b[0m\u001b[0m\n",
      "\u001b[1;32m/home/idies/anaconda3/lib/python3.5/site-packages/pandas/core/internals.py\u001b[0m in \u001b[0;36mget_reindexed_values\u001b[1;34m(self, empty_dtype, upcasted_na)\u001b[0m\n\u001b[0;32m   5239\u001b[0m             \u001b[1;32mfor\u001b[0m \u001b[0max\u001b[0m\u001b[1;33m,\u001b[0m \u001b[0mindexer\u001b[0m \u001b[1;32min\u001b[0m \u001b[0mself\u001b[0m\u001b[1;33m.\u001b[0m\u001b[0mindexers\u001b[0m\u001b[1;33m.\u001b[0m\u001b[0mitems\u001b[0m\u001b[1;33m(\u001b[0m\u001b[1;33m)\u001b[0m\u001b[1;33m:\u001b[0m\u001b[1;33m\u001b[0m\u001b[0m\n\u001b[0;32m   5240\u001b[0m                 values = algos.take_nd(values, indexer, axis=ax,\n\u001b[1;32m-> 5241\u001b[1;33m                                        fill_value=fill_value)\n\u001b[0m\u001b[0;32m   5242\u001b[0m \u001b[1;33m\u001b[0m\u001b[0m\n\u001b[0;32m   5243\u001b[0m         \u001b[1;32mreturn\u001b[0m \u001b[0mvalues\u001b[0m\u001b[1;33m\u001b[0m\u001b[0m\n",
      "\u001b[1;32m/home/idies/anaconda3/lib/python3.5/site-packages/pandas/core/algorithms.py\u001b[0m in \u001b[0;36mtake_nd\u001b[1;34m(arr, indexer, axis, out, fill_value, mask_info, allow_fill)\u001b[0m\n\u001b[0;32m   1464\u001b[0m     func = _get_take_nd_function(arr.ndim, arr.dtype, out.dtype, axis=axis,\n\u001b[0;32m   1465\u001b[0m                                  mask_info=mask_info)\n\u001b[1;32m-> 1466\u001b[1;33m     \u001b[0mfunc\u001b[0m\u001b[1;33m(\u001b[0m\u001b[0marr\u001b[0m\u001b[1;33m,\u001b[0m \u001b[0mindexer\u001b[0m\u001b[1;33m,\u001b[0m \u001b[0mout\u001b[0m\u001b[1;33m,\u001b[0m \u001b[0mfill_value\u001b[0m\u001b[1;33m)\u001b[0m\u001b[1;33m\u001b[0m\u001b[0m\n\u001b[0m\u001b[0;32m   1467\u001b[0m \u001b[1;33m\u001b[0m\u001b[0m\n\u001b[0;32m   1468\u001b[0m     \u001b[1;32mif\u001b[0m \u001b[0mflip_order\u001b[0m\u001b[1;33m:\u001b[0m\u001b[1;33m\u001b[0m\u001b[0m\n",
      "\u001b[1;31mKeyboardInterrupt\u001b[0m: "
     ]
    }
   ],
   "source": [
    "allevents_df = pandas.DataFrame(columns = column_list)\n",
    "\n",
    "cnt = 0\n",
    "for thisgameID,row in allgames_df.iterrows():\n",
    "    if (numpy.mod(cnt,100) == 0):\n",
    "        print('Parsing game {0:,.0f}: {1}'.format(cnt, thisgameID))\n",
    "    thisgame_df = pandas.DataFrame(row['events'], columns=column_list)\n",
    "    thisgame_df = thisgame_df.set_index('event_in_game')\n",
    "\n",
    "    thisgame_df['gameID'] = thisgameID\n",
    "    \n",
    "    thisgame_df = get_game_info(thisgame_df, row)\n",
    "\n",
    "#    visiting_roster_df = pandas.DataFrame(row['visiting_starters'], columns=['playerID', 'playerName', 'batting_order', 'position'])\n",
    "#    home_roster_df = pandas.DataFrame(row['home_starters'], columns=['playerID', 'playerName', 'batting_order', 'position']) \n",
    "#    visiting_roster_df['hv'] = 0\n",
    "#    home_roster_df['hv'] = 1\n",
    "\n",
    "#    playing_df = pandas.concat((visiting_roster_df, home_roster_df))\n",
    "#    playing_df['batting_order'] = pandas.to_numeric(playing_df['batting_order'])\n",
    "#    playing_df['position'] = pandas.to_numeric(playing_df['position']) \n",
    "\n",
    "    thisgame_df['inning'] = pandas.to_numeric(thisgame_df['inning'])\n",
    "    thisgame_df['home_or_visitor'] = pandas.to_numeric(thisgame_df['home_or_visitor'])\n",
    "    thisgame_df = parse_events(thisgame_df)\n",
    "\n",
    "    allevents_df = pandas.concat((allevents_df, thisgame_df))\n",
    "    \n",
    "    cnt = cnt + 1\n",
    "\n",
    "print('Done')\n",
    "\n",
    "allevents_df.to_csv('events_2012-2016_parsed.json')"
   ]
  },
  {
   "cell_type": "code",
   "execution_count": null,
   "metadata": {
    "collapsed": true
   },
   "outputs": [],
   "source": []
  },
  {
   "cell_type": "code",
   "execution_count": null,
   "metadata": {
    "collapsed": true
   },
   "outputs": [],
   "source": []
  }
 ],
 "metadata": {
  "kernelspec": {
   "display_name": "Python 3",
   "language": "python",
   "name": "python3"
  },
  "language_info": {
   "codemirror_mode": {
    "name": "ipython",
    "version": 3
   },
   "file_extension": ".py",
   "mimetype": "text/x-python",
   "name": "python",
   "nbconvert_exporter": "python",
   "pygments_lexer": "ipython3",
   "version": "3.5.3"
  }
 },
 "nbformat": 4,
 "nbformat_minor": 0
}
