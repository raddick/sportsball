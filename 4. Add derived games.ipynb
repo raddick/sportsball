{
 "cells": [
  {
   "cell_type": "code",
   "execution_count": 1,
   "metadata": {
    "collapsed": false
   },
   "outputs": [
    {
     "name": "stdout",
     "output_type": "stream",
     "text": [
      "imported\n"
     ]
    }
   ],
   "source": [
    "#import zipfile\n",
    "import numpy as np\n",
    "import pandas\n",
    "import os\n",
    "import io\n",
    "from pprint import pprint\n",
    "import json\n",
    "from datetime import datetime\n",
    "print('imported')"
   ]
  },
  {
   "cell_type": "code",
   "execution_count": 2,
   "metadata": {
    "collapsed": false
   },
   "outputs": [
    {
     "name": "stdout",
     "output_type": "stream",
     "text": [
      "Derived game files identified\n"
     ]
    }
   ],
   "source": [
    "derivedfiles = []\n",
    "\n",
    "yeararray = np.linspace(1921,2016,96)\n",
    "\n",
    "for oneyear in yeararray:\n",
    "    for itsleague in ['A', 'N']:\n",
    "        afile = 'retrosheet/' + '{:.0f}'.format(oneyear)+'.ED'+itsleague\n",
    "        if (os.path.isfile(afile)):\n",
    "            derivedfiles.append(afile)\n",
    "\n",
    "#print(derivedfiles)\n",
    "print('Derived game files identified')"
   ]
  },
  {
   "cell_type": "code",
   "execution_count": 3,
   "metadata": {
    "collapsed": false
   },
   "outputs": [
    {
     "name": "stdout",
     "output_type": "stream",
     "text": [
      "2,418 derived games found and processed\n"
     ]
    }
   ],
   "source": [
    "derivedgames = []\n",
    "gamecount = 0\n",
    "\n",
    "for filename in derivedfiles:\n",
    "#    print(filename)\n",
    "    for line in io.open(filename,encoding='utf-8').readlines():\n",
    "        linearray = line.split(',')\n",
    "#        print(linearray)\n",
    "        linearray[-1] = linearray[-1][0:-1]  # cut off newline character\n",
    "        if (linearray[0] == 'id'):\n",
    "            # 'id' starts the next game, so immediately advance gamecount  \n",
    "            # record prior game data by adding it to the gamelogs list, unless gamecount = -1\n",
    "            if (gamecount > 0):\n",
    "                thisgamedict['info'] = info_dict\n",
    "                thisgamedict['visiting_starters'] = vis_start_list.tolist()\n",
    "                thisgamedict['home_starters'] = home_start_list.tolist()\n",
    "                thisgamedict['events'] = events.tolist()\n",
    "                thisgamedict['data'] = data_list.tolist()\n",
    "                # append the dictionary describing this game to the list of games\n",
    "                derivedgames.append(thisgamedict)\n",
    "\n",
    "            # advance the gamecount and initialize a new game\n",
    "            gamecount = gamecount + 1\n",
    "            thisgamedict = {}\n",
    "            info_dict = {}\n",
    "            start_dict = {}\n",
    "            vis_start_list = np.empty((0,4),dtype=object)\n",
    "            home_start_list = np.empty((0,4),dtype=object)\n",
    "            vis_sub_list = np.empty((0,4),dtype=object)\n",
    "            home_sub_list = np.empty((0,4),dtype=object)\n",
    "            events = np.empty((0,12),dtype=object)\n",
    "            data_list = np.empty((0,2),dtype=object)\n",
    "            eventnum = 1\n",
    "\n",
    "            # the first thing to go into the new game is the game id.\n",
    "            # the [0:-1] is there to cut off the newline character\n",
    "            thisgamedict['id'] = linearray[1]\n",
    "\n",
    "        elif (linearray[0] == 'version'):\n",
    "            thisgamedict['version'] = linearray[1]\n",
    "        elif (linearray[0] == 'info'):\n",
    "            info_dict[linearray[1]] = linearray[2]\n",
    "        elif (linearray[0] == 'start'):\n",
    "            thisbatter = np.empty((1,4),dtype=object)\n",
    "            if (linearray[3] == '0'):\n",
    "                thisbatter[0,0] = linearray[1]\n",
    "                thisbatter[0,1] = linearray[2]\n",
    "                thisbatter[0,2] = linearray[4]\n",
    "                thisbatter[0,3] = linearray[5]\n",
    "                vis_start_list = np.vstack((vis_start_list, thisbatter))\n",
    "            elif (linearray[3] == '1'):\n",
    "                thisbatter[0,0] = linearray[1]\n",
    "                thisbatter[0,1] = linearray[2]\n",
    "                thisbatter[0,2] = linearray[4]\n",
    "                thisbatter[0,3] = linearray[5]\n",
    "                home_start_list = np.vstack((home_start_list, thisbatter))\n",
    "            else:\n",
    "                print('NEITHER VISITOR NOR HOME????')\n",
    "                \n",
    "        elif (linearray[0] == 'data'):\n",
    "            thisdata = np.empty((2),dtype=object)\n",
    "            thisdata[0] = linearray[2]\n",
    "            thisdata[1] = linearray[3]\n",
    "            data_list = np.vstack((data_list,thisdata))\n",
    "        else:\n",
    "#            print(linearray)\n",
    "            thisevent = []\n",
    "            thisevent.append(eventnum)\n",
    "            thisevent.append(linearray[0])  # say what type of event: play/com/sub/etc.\n",
    "            if (linearray[0] == 'play'):\n",
    "                for i in range(1,7):\n",
    "                    thisevent.append(linearray[i])\n",
    "                for i in range(8,12):   # comment, sub_batting_order, sub_position empty\n",
    "                    thisevent.append('')\n",
    "            elif (linearray[0] == 'com'):\n",
    "                for i in range(1,7):\n",
    "                    thisevent.append('')\n",
    "                thisevent.append(linearray[1])\n",
    "                for i in range(9,12):\n",
    "                    thisevent.append('')\n",
    "            elif (linearray[0] == 'sub'):\n",
    "                thisevent.append('')    # inning, fill in later\n",
    "                thisevent.append('')    # batting team (vis/home), fill in later\n",
    "                thisevent.append(linearray[1])  # playerID of player coming in\n",
    "                for i in range(4,8):\n",
    "                    thisevent.append('')  # count/pitches/result/comment all blank\n",
    "                thisevent.append(linearray[3]) # batting or fielding sub\n",
    "                thisevent.append(linearray[4]) # sub's batting order\n",
    "                thisevent.append(linearray[5]) # sub's fielding position\n",
    "            elif (linearray[0] == 'badj'):\n",
    "#                badj_games.append(thisgamedict['id'])\n",
    "                thisevent.append('')    # inning, fill in later\n",
    "                thisevent.append('')  # visitor/home, fill in later\n",
    "                thisevent.append(linearray[1])  # playerID of adjusting batter                \n",
    "                for i in range(4,7):\n",
    "                    thisevent.append('')  # count/pitches/result/comment all blank\n",
    "                thisevent.append(linearray[0]+\": \"+linearray[2]) # comment should say: \"badj: {hand adjusted to}\"\n",
    "                for i in range(8,11):\n",
    "                    thisevent.append('')    # sub-related variables are empty\n",
    "            elif (linearray[0] == 'padj'):\n",
    "#                padj_games.append(thisgamedict['id'])\n",
    "                thisevent.append('')    # inning, fill in later\n",
    "                thisevent.append('')  # visitor/home, fill in later\n",
    "                thisevent.append(linearray[1])  # playerID of adjusting batter                \n",
    "                for i in range(4,7):\n",
    "                    thisevent.append('')  # count/pitches/result/comment all blank\n",
    "                thisevent.append(linearray[0]+\": \"+linearray[2]) # comment should say: \"padj: {hand adjusted to}\"\n",
    "                for i in range(8,11):\n",
    "                    thisevent.append('')    # sub-related variables are empty\n",
    "            elif (linearray[0] == 'ladj'):\n",
    "#                ladj_games.append(thisgamedict['id'])\n",
    "                thisevent.append('')    # inning, fill in later\n",
    "                thisevent.append(linearray[1])  # visitor/home\n",
    "                for i in range(3,7):\n",
    "                    thisevent.append('')  # playerID/count/pitches/result/comment all blank\n",
    "                thisevent.append(linearray[0]+\": \"+linearray[2]) # comment should say: \"ladj: {whatever}\"\n",
    "                thisevent.append(linearray[1])  # visitor/home - team making adjustment\n",
    "                for i in range(9,11):\n",
    "                    thisevent.append('')    # sub-related variables are empty\n",
    "            else:\n",
    "                print(linearray)\n",
    "            events = np.vstack((events,thisevent))\n",
    "            eventnum = eventnum + 1\n",
    "\n",
    "print('{0:,.0f} derived games found and processed'.format(len(derivedgames)))"
   ]
  },
  {
   "cell_type": "code",
   "execution_count": 6,
   "metadata": {
    "collapsed": false
   },
   "outputs": [
    {
     "name": "stdout",
     "output_type": "stream",
     "text": [
      "Loaded original list of games (n=213,307)\n",
      "Calculated each gameID for comparison\n",
      "Saved list of all games (n=213,307)\n"
     ]
    }
   ],
   "source": [
    "allgames_df = pandas.read_csv('gamedata.csv', low_memory=False)\n",
    "#allgames_df = allgames_df.set_index('gameID')\n",
    "allgames_df['date'] = pandas.to_datetime(allgames_df['date'], format='%Y%m%d', errors='coerce')\n",
    "\n",
    "#allgames_df.head(1)[0:20].transpose()\n",
    "print('Loaded original list of games (n={0:,.0f})'.format(len(allgames_df)))\n",
    "allgames_df.index.name = 'rawID'\n",
    "allgames_df['gameID'] = allgames_df['home'].astype(str) + allgames_df['date'].apply(lambda x: x.strftime('%Y%m%d')) + allgames_df['gameno'].astype(str)\n",
    "#allgames_df\n",
    "print('Calculated each gameID for comparison')\n",
    "allgames = allgames_df['gameID'].tolist()\n",
    "#print(allgames[0:10])\n",
    "print('Saved list of all games (n={0:,.0f})'.format(len(allgames)))"
   ]
  },
  {
   "cell_type": "code",
   "execution_count": 4,
   "metadata": {
    "collapsed": false
   },
   "outputs": [
    {
     "name": "stdout",
     "output_type": "stream",
     "text": [
      "Loaded events data for 145,751 games\n"
     ]
    }
   ],
   "source": [
    "with open('events_raw.json','r') as f:\n",
    "    allevents = json.load(f)\n",
    "print('Loaded events data for {0:,.0f} games'.format(len(allevents)))"
   ]
  },
  {
   "cell_type": "code",
   "execution_count": 7,
   "metadata": {
    "collapsed": false
   },
   "outputs": [
    {
     "name": "stdout",
     "output_type": "stream",
     "text": [
      "Derived games that appear in the full games list: 2,418\n",
      "Derived games that already appeared in the events list: 0\n"
     ]
    }
   ],
   "source": [
    "# All derived games appear in the game list, but none appear in the current events list. That is as it should be.\n",
    "allevents_df = pandas.DataFrame(allevents)\n",
    "derivedgames_df = pandas.DataFrame(derivedgames)\n",
    "print('Derived games that appear in the full games list: {0:,.0f}'.format(len(allgames_df[allgames_df['gameID'].isin(derivedgames_df['id'])])))\n",
    "print('Derived games that already appeared in the events list: {0:,.0f}'.format(len(allevents_df[allevents_df['id'].isin(derivedgames_df['id'])])))"
   ]
  },
  {
   "cell_type": "code",
   "execution_count": 8,
   "metadata": {
    "collapsed": false
   },
   "outputs": [
    {
     "name": "stdout",
     "output_type": "stream",
     "text": [
      "Previously, events data includes events from 145,751 games.\n",
      "Now, events data includes events from 148,169 games.\n"
     ]
    }
   ],
   "source": [
    "print('Previously, events data includes events from {0:,.0f} games.'.format(len(allevents)))\n",
    "allevents = allevents + derivedgames\n",
    "#derivedgames_df.head(1)\n",
    "print('Now, events data includes events from {0:,.0f} games.'.format(len(allevents)))"
   ]
  },
  {
   "cell_type": "code",
   "execution_count": 9,
   "metadata": {
    "collapsed": false
   },
   "outputs": [
    {
     "name": "stdout",
     "output_type": "stream",
     "text": [
      "Events with derived events file saved\n"
     ]
    }
   ],
   "source": [
    "with open('events_with_derived.json', 'w') as f:\n",
    "    json.dump(allevents, f)\n",
    "print('Events with derived events file saved')"
   ]
  },
  {
   "cell_type": "code",
   "execution_count": null,
   "metadata": {
    "collapsed": true
   },
   "outputs": [],
   "source": []
  }
 ],
 "metadata": {
  "kernelspec": {
   "display_name": "Python 3",
   "language": "python",
   "name": "python3"
  },
  "language_info": {
   "codemirror_mode": {
    "name": "ipython",
    "version": 3
   },
   "file_extension": ".py",
   "mimetype": "text/x-python",
   "name": "python",
   "nbconvert_exporter": "python",
   "pygments_lexer": "ipython3",
   "version": "3.5.3"
  }
 },
 "nbformat": 4,
 "nbformat_minor": 0
}
