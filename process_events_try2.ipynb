{
 "cells": [
  {
   "cell_type": "code",
   "execution_count": null,
   "metadata": {
    "collapsed": true
   },
   "outputs": [],
   "source": [
    "import json\n",
    "import numpy\n",
    "import pandas\n",
    "from pprint import pprint\n",
    "pandas.options.display.max_colwidth = -1"
   ]
  },
  {
   "cell_type": "code",
   "execution_count": null,
   "metadata": {
    "collapsed": false
   },
   "outputs": [],
   "source": [
    "# runs in about 5 minutes\n",
    "with open('events_raw_1927_1938.json','r') as f:\n",
    "    allgames = json.load(f)\n",
    "print('ok')\n",
    "#pprint(allgames[2])   \n",
    "allgames_bk = allgames"
   ]
  },
  {
   "cell_type": "code",
   "execution_count": null,
   "metadata": {
    "collapsed": true
   },
   "outputs": [],
   "source": [
    "allgames = allgames_bk "
   ]
  },
  {
   "cell_type": "code",
   "execution_count": null,
   "metadata": {
    "collapsed": false
   },
   "outputs": [],
   "source": [
    "column_list = ['event_in_game', 'event_type', 'inning', 'home_or_visitor', 'batterID']\n",
    "column_list += ['pitch_count', 'pitch_sequence', 'event', 'comment', 'sub_batting_order', 'sub_position']#, 'gameID']\n",
    "\n",
    "for i in range(0,len(allgames)):\n",
    "    thisgamedict = allgames[i]\n",
    "    thisgameevents_df = pandas.DataFrame(thisgamedict['events'], columns=column_list)\n",
    "    inning = 1\n",
    "    if (numpy.mod(i,100) == 0):\n",
    "        print('processing game {0:,.0f}...'.format(i))\n",
    "    for j in range(0,len(thisgameevents_df)): #- 1):\n",
    "        if (thisgameevents_df.iloc[j]['event_type'] != 'play'):\n",
    "            thisgameevents_df.iloc[j]['inning'] = thisgameevents_df.iloc[j-1]['inning']\n",
    "        if (thisgameevents_df.iloc[j-1]['event_type'] not in ('play','sub')):\n",
    "            thisgameevents_df.iloc[j]['comment'] = thisgameevents_df.iloc[j-1]['comment'] + ' ' + thisgameevents_df.iloc[j]['comment']\n",
    "    thisgameevents_df = thisgameevents_df[(thisgameevents_df['event_type'] == 'play') | (thisgameevents_df['event_type'] == 'sub')]\n",
    "    thisgameevents_df = thisgameevents_df.drop('event_in_game',axis=1)\n",
    "    thisgameevents_df = thisgameevents_df.reset_index(drop=True)\n",
    "    thisgameevents_df.index.name = 'event_in_game'\n",
    "    allgames[i]['events'] = thisgameevents_df.reset_index().values.tolist()\n",
    "\n",
    "print('done')\n",
    "thisgameevents_df"
   ]
  },
  {
   "cell_type": "code",
   "execution_count": null,
   "metadata": {
    "collapsed": false
   },
   "outputs": [],
   "source": [
    "\n",
    "thisgameevents_df[thisgameevents_df['comment'] != '']"
   ]
  },
  {
   "cell_type": "code",
   "execution_count": null,
   "metadata": {
    "collapsed": false
   },
   "outputs": [],
   "source": [
    "with open('events_1927_1938.json','w') as f:\n",
    "    json.dump(allgames, f)\n",
    "print('done')"
   ]
  },
  {
   "cell_type": "code",
   "execution_count": null,
   "metadata": {
    "collapsed": true
   },
   "outputs": [],
   "source": [
    "    # replace event types with number codes for fastness\n",
    "#    thisgameevents_df['event_type'] = numpy.where((thisgameevents_df['event_type'] == 'play'),0,(thisgameevents_df['event_type']))\n",
    "#    thisgameevents_df['event_type'] = numpy.where((thisgameevents_df['event_type'] == 'sub'),1,(thisgameevents_df['event_type']))\n",
    "#    thisgameevents_df['event_type'] = numpy.where((thisgameevents_df['event_type'] == 'com'),2,(thisgameevents_df['event_type']))\n",
    "#    thisgameevents_df['event_type'] = numpy.where((thisgameevents_df['event_type'] == 'badj'),3,(thisgameevents_df['event_type']))\n",
    "#    thisgameevents_df['event_type'] = numpy.where((thisgameevents_df['event_type'] == 'padj'),4,(thisgameevents_df['event_type']))\n",
    "#    thisgameevents_df['event_type'] = numpy.where((thisgameevents_df['event_type'] == 'badj'),5,(thisgameevents_df['event_type']))\n",
    "#    thisgameevents_df['event_type'] = pandas.to_numeric(thisgameevents_df['event_type'])\n",
    "    \n"
   ]
  }
 ],
 "metadata": {
  "kernelspec": {
   "display_name": "Python 3",
   "language": "python",
   "name": "python3"
  },
  "language_info": {
   "codemirror_mode": {
    "name": "ipython",
    "version": 3
   },
   "file_extension": ".py",
   "mimetype": "text/x-python",
   "name": "python",
   "nbconvert_exporter": "python",
   "pygments_lexer": "ipython3",
   "version": "3.5.3"
  }
 },
 "nbformat": 4,
 "nbformat_minor": 0
}
