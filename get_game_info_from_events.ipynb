{
 "cells": [
  {
   "cell_type": "code",
   "execution_count": 2,
   "metadata": {
    "collapsed": false
   },
   "outputs": [],
   "source": [
    "import json\n",
    "import numpy\n",
    "import pandas\n",
    "from pprint import pprint\n",
    "pandas.options.display.max_colwidth = -1"
   ]
  },
  {
   "cell_type": "code",
   "execution_count": 17,
   "metadata": {
    "collapsed": false
   },
   "outputs": [
    {
     "name": "stdout",
     "output_type": "stream",
     "text": [
      "ok\n"
     ]
    },
    {
     "data": {
      "text/plain": [
       "array(['data', 'events', 'home_starters', 'info', 'version',\n",
       "       'visiting_starters'], dtype=object)"
      ]
     },
     "execution_count": 17,
     "metadata": {},
     "output_type": "execute_result"
    }
   ],
   "source": [
    "# runs in about 5 minutes\n",
    "with open('events_2012-2016.json','r') as f:\n",
    "#with open('events_1927_1938.json','r') as f:\n",
    "    allgames = json.load(f)\n",
    "print('ok')\n",
    "#pprint(allgames[2])   \n",
    "allgames_bk = allgames\n",
    "\n",
    "allgames_df = pandas.DataFrame(allgames)\n",
    "allgames_df = allgames_df.set_index('id')\n",
    "allgames_df.iloc[0].index.values"
   ]
  },
  {
   "cell_type": "code",
   "execution_count": 13,
   "metadata": {
    "collapsed": false,
    "scrolled": true
   },
   "outputs": [
    {
     "ename": "NameError",
     "evalue": "name 'index' is not defined",
     "output_type": "error",
     "traceback": [
      "\u001b[1;31m\u001b[0m",
      "\u001b[1;31mNameError\u001b[0mTraceback (most recent call last)",
      "\u001b[1;32m<ipython-input-13-94cf49f62e3c>\u001b[0m in \u001b[0;36m<module>\u001b[1;34m()\u001b[0m\n\u001b[0;32m     11\u001b[0m \u001b[0mcolumn_list\u001b[0m \u001b[1;33m+=\u001b[0m \u001b[1;33m[\u001b[0m\u001b[1;34m'wp'\u001b[0m\u001b[1;33m,\u001b[0m \u001b[1;34m'lp'\u001b[0m\u001b[1;33m,\u001b[0m \u001b[1;34m'save'\u001b[0m\u001b[1;33m,\u001b[0m \u001b[1;34m'gwrbi'\u001b[0m\u001b[1;33m]\u001b[0m\u001b[1;33m\u001b[0m\u001b[0m\n\u001b[0;32m     12\u001b[0m \u001b[1;33m\u001b[0m\u001b[0m\n\u001b[1;32m---> 13\u001b[1;33m \u001b[0mdf\u001b[0m \u001b[1;33m=\u001b[0m \u001b[0mpandas\u001b[0m\u001b[1;33m.\u001b[0m\u001b[0mDataFrame\u001b[0m\u001b[1;33m.\u001b[0m\u001b[0mfrom_dict\u001b[0m\u001b[1;33m(\u001b[0m\u001b[0mallgames_df\u001b[0m\u001b[1;33m[\u001b[0m\u001b[1;34m'info'\u001b[0m\u001b[1;33m]\u001b[0m\u001b[1;33m.\u001b[0m\u001b[0miloc\u001b[0m\u001b[1;33m[\u001b[0m\u001b[1;36m0\u001b[0m\u001b[1;33m]\u001b[0m\u001b[1;33m,\u001b[0m \u001b[0mindex\u001b[0m\u001b[1;33m=\u001b[0m\u001b[0mallgames_df\u001b[0m\u001b[1;33m[\u001b[0m\u001b[0mindex\u001b[0m\u001b[1;33m]\u001b[0m\u001b[1;33m.\u001b[0m\u001b[0miloc\u001b[0m\u001b[1;33m[\u001b[0m\u001b[1;36m0\u001b[0m\u001b[1;33m]\u001b[0m\u001b[1;33m)\u001b[0m\u001b[1;33m\u001b[0m\u001b[0m\n\u001b[0m\u001b[0;32m     14\u001b[0m \u001b[0mdf\u001b[0m\u001b[1;33m\u001b[0m\u001b[0m\n\u001b[0;32m     15\u001b[0m \u001b[1;31m#for thisgameID,row in allgames_df.iterrows():\u001b[0m\u001b[1;33m\u001b[0m\u001b[1;33m\u001b[0m\u001b[0m\n",
      "\u001b[1;31mNameError\u001b[0m: name 'index' is not defined"
     ]
    }
   ],
   "source": [
    "\n",
    "#thisgame_df = pandas.DataFrame(columns = column_list)\n",
    "#games_df = pandas.DataFrame(columns = column_list)\n",
    "\n",
    "cnt = 0\n",
    "column_list = ['gameID']\n",
    "column_list += ['visteam', 'hometeam', 'date', 'gameno', 'starttime', 'daynight']\n",
    "column_list += ['site', 'length', 'length', 'attendance']\n",
    "column_list += ['temp', 'fieldcond', 'precip', 'sky', 'winddir', 'windspeed']\n",
    "column_list += ['umphome', 'ump1b', 'umb2b', 'umb3b', 'umplf', 'umprf']\n",
    "column_list += ['wp', 'lp', 'save', 'gwrbi']\n",
    "\n",
    "df = pandas.DataFrame.from_dict(allgames_df['info'].iloc[0], index=allgames_df[index].iloc[0])\n",
    "df\n",
    "#for thisgameID,row in allgames_df.iterrows():\n",
    "#    thisgame_df = pandas.DataFrame.from_dict(row['info'])\n",
    "#    thisgame_df['gameID'] = thisgameID\n",
    "    \n",
    "#    thisgame_df.columns = column_list\n",
    "#    thisgame_df['visteam'] = row['info']['visteam']\n",
    "#    thisgame_df['hometeam'] = row['info']['hometeam']\n",
    "#    thisgame_df['date'] = pandas.to_datetime(row['info']['date'], errors='coerce')\n",
    "#    thisgame_df['gameno'] = pandas.to_numeric(row['info']['number'], errors='coerce')\n",
    "#    thisgame_df['starttime'] = row['info']['starttime']\n",
    "#    thisgame_df['daynight'] = row['info']['daynight']\n",
    "#    thisgame_df['site'] = row['info']['site']\n",
    "#    thisgame_df['length'] = pandas.to_timedelta(str(row['info']['timeofgame'])+' minutes', errors='ignore')\n",
    "#    thisgame_df['attendance'] = pandas.to_numeric(row['info']['attendance'], errors='coerce')\n",
    "    \n",
    "#    thisgame_df['temp'] = pandas.to_numeric(row['info']['temp'], errors='coerce')\n",
    "#    thisgame_df['fieldcond'] = row['info']['fieldcond']\n",
    "#    thisgame_df['precip'] = row['info']['precip']    \n",
    "#    thisgame_df['sky'] = row['info']['sky']\n",
    "#    thisgame_df['winddir'] = row['info']['winddir']\n",
    "#    thisgame_df['windspeed'] = pandas.to_numeric(row['info']['windspeed'])\n",
    "    \n",
    "#    thisgame_df['umphome'] = row['info']['umphome']\n",
    "#    thisgame_df['ump1b'] = row['info']['ump1b']\n",
    "#    thisgame_df['ump2b'] = row['info']['ump2b']\n",
    "#    thisgame_df['ump3b'] = row['info']['ump3b']\n",
    "#    if 'umplf' in row['info'].keys():\n",
    "#        thisgame_df['umplf'] = row['info']['umplf']\n",
    "#    if 'umprf' in row['info'].keys():\n",
    "#        thisgame_df['umprf'] = row['info']['umprf']\n",
    "    \n",
    "#    thisgame_df['wp'] = row['info']['wp']\n",
    "#    thisgame_df['lp'] = row['info']['lp']\n",
    "#    if 'save' in row['info'].keys():\n",
    "#        thisgame_df['save'] = row['info']['save']\n",
    "#    if 'gwrbi' in row['info'].keys():\n",
    "#        thisgame_df['gwrbi'] = row['info']['gwrbi']\n",
    "#    if (cnt == 0):\n",
    "#        print(thisgame_df)\n",
    "#    if (numpy.mod(cnt,1000) == 0):\n",
    "#        print('Parsing game {0:,.0f}: {1}'.format(cnt, thisgameID))\n",
    "#    if (cnt == 0):\n",
    "#        games_df.append(thisgame_df, axis=0)\n",
    "#        print(games_df)\n",
    "#    else:\n",
    "#        games_df = pandas.concat((games_df, thisgame_df), axis=0)\n",
    "#    cnt = cnt + 1\n",
    "#\n",
    "#thisgame_df.to_csv('gameinfo_from_events.csv', encoding='utf-8')\n",
    "\n",
    "#thisgame_df = thisgame_df.set_index('gameID')\n",
    "#games_df = games_df.set_index('gameID')\n",
    "\n",
    "#print('Done')"
   ]
  },
  {
   "cell_type": "code",
   "execution_count": null,
   "metadata": {
    "collapsed": false
   },
   "outputs": [],
   "source": [
    "games_df"
   ]
  },
  {
   "cell_type": "code",
   "execution_count": null,
   "metadata": {
    "collapsed": true
   },
   "outputs": [],
   "source": []
  },
  {
   "cell_type": "code",
   "execution_count": null,
   "metadata": {
    "collapsed": true
   },
   "outputs": [],
   "source": []
  }
 ],
 "metadata": {
  "kernelspec": {
   "display_name": "Python 3",
   "language": "python",
   "name": "python3"
  },
  "language_info": {
   "codemirror_mode": {
    "name": "ipython",
    "version": 3
   },
   "file_extension": ".py",
   "mimetype": "text/x-python",
   "name": "python",
   "nbconvert_exporter": "python",
   "pygments_lexer": "ipython3",
   "version": "3.5.3"
  }
 },
 "nbformat": 4,
 "nbformat_minor": 0
}
