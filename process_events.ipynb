{
 "cells": [
  {
   "cell_type": "code",
   "execution_count": 1,
   "metadata": {
    "collapsed": true
   },
   "outputs": [],
   "source": [
    "import json\n",
    "import numpy as np\n",
    "import pandas\n",
    "#import os\n",
    "#import io\n",
    "from pprint import pprint\n",
    "pandas.options.display.max_colwidth = -1"
   ]
  },
  {
   "cell_type": "code",
   "execution_count": 2,
   "metadata": {
    "collapsed": false
   },
   "outputs": [
    {
     "name": "stdout",
     "output_type": "stream",
     "text": [
      "ok\n"
     ]
    }
   ],
   "source": [
    "# runs in about 4m 30s\n",
    "with open('events.json','r') as f:\n",
    "    allgames = json.load(f)\n",
    "print('ok')"
   ]
  },
  {
   "cell_type": "code",
   "execution_count": 3,
   "metadata": {
    "collapsed": false
   },
   "outputs": [
    {
     "name": "stdout",
     "output_type": "stream",
     "text": [
      "152,259 games found\n",
      "14,946,418 events found\n"
     ]
    }
   ],
   "source": [
    "# runs in a few seconds\n",
    "nEvents = 0\n",
    "print('{0:,.0f} games found'.format(len(allgames)))\n",
    "for game in allgames:\n",
    "    nEvents = nEvents + len(game['events'])\n",
    "df = pandas.DataFrame.from_dict(allgames)\n",
    "df = df.set_index('id')\n",
    "print('{0:,.0f} events found'.format(nEvents))"
   ]
  },
  {
   "cell_type": "code",
   "execution_count": null,
   "metadata": {
    "collapsed": false
   },
   "outputs": [],
   "source": [
    "#from datetime import datetime\n",
    "\n",
    "df[pandas.to_datetime(df.index.str.slice(3,7)).year == 1921]  # extract year from id\n",
    "#g = lambda x: str(x)\n",
    "#len(allgameids)\n",
    "\n",
    "#df[df.index == 'BRO192104170']\n",
    "#infos = df['info']\n"
   ]
  },
  {
   "cell_type": "code",
   "execution_count": 21,
   "metadata": {
    "collapsed": false
   },
   "outputs": [
    {
     "name": "stdout",
     "output_type": "stream",
     "text": [
      "Processing events for the year 1921...\n",
      "Processing events for the year 1922...\n"
     ]
    },
    {
     "data": {
      "text/plain": [
       "(1415, 12)"
      ]
     },
     "execution_count": 21,
     "metadata": {},
     "output_type": "execute_result"
    }
   ],
   "source": [
    "theseyears = range(1921,1923)\n",
    "#dfx = df[pandas.to_datetime(df.index.str.slice(3,7)).year == theseyears[0]]\n",
    "#for k in range(0,len(theseyears)):\n",
    "#    thisyear_df = pandas.concat((dfx,df[pandas.to_datetime(df.index.str.slice(3,7)).year == theseyears[k]]))\n",
    "\n",
    "#dfx.shape\n",
    "#dfx\n",
    "column_list = ['event_in_game', 'event_type', 'inning', 'visitor_or_home']#,'retrosheet_id']\n",
    "column_list += ['batter_id', 'pitch_count', 'pitch_list']\n",
    "column_list += ['event', 'comment', 'sub_batting_order', 'sub_position']\n",
    "column_list += ['gameID']\n",
    "\n",
    "\n",
    "\n",
    "events_df = pandas.DataFrame(columns=column_list)\n",
    "#print(events_df.shape)\n",
    "i = 0\n",
    "for thisoneyear in theseyears:\n",
    "    print('Processing events for the year {0:.0f}...'.format(thisoneyear))\n",
    "    dfx = df[pandas.to_datetime(df.index.str.slice(3,7)).year == thisoneyear]\n",
    "\n",
    "    for index, row in dfx.iterrows():\n",
    "    ##    if (np.mod(i,100000) == 0):\n",
    "    ##    print(i,index)\n",
    "        thisrow = []\n",
    "        for j in range(0,len(row['events'])):\n",
    "            thisrow = row['events'][j]\n",
    "        if (len(thisrow) == 11):\n",
    "            thisrow.append(index)\n",
    "        events_df.loc[i] = thisrow\n",
    "        i = i + 1\n",
    "events_df.index.name = 'eventID'\n",
    "events_df.shape"
   ]
  },
  {
   "cell_type": "code",
   "execution_count": null,
   "metadata": {
    "collapsed": true
   },
   "outputs": [],
   "source": []
  },
  {
   "cell_type": "code",
   "execution_count": null,
   "metadata": {
    "collapsed": true
   },
   "outputs": [],
   "source": []
  },
  {
   "cell_type": "code",
   "execution_count": null,
   "metadata": {
    "collapsed": true
   },
   "outputs": [],
   "source": []
  },
  {
   "cell_type": "code",
   "execution_count": null,
   "metadata": {
    "collapsed": true
   },
   "outputs": [],
   "source": []
  },
  {
   "cell_type": "code",
   "execution_count": null,
   "metadata": {
    "collapsed": false
   },
   "outputs": [],
   "source": [
    "#weird_game_ids = ['CLE192708190', 'BOS193008310', 'BOS193107250', 'CHA193304220', 'NYA193606030', 'MLN195505152']\n",
    "#weird_game_ids += ['MIN196907170', 'NYN197208160', 'KCA201109150', 'TOR201208130', 'KCA201605310']\n",
    "\n",
    "events_log = np.empty((0,12),dtype=object)\n",
    "\n",
    "nGames = 0\n",
    "for game in allgames:     # iterate through all games \n",
    "#    if (game['id'] in weird_game_ids):  # if the game is in the list above...\n",
    "    nGames = nGames + 1\n",
    "    if (np.mod(nGames,1000) == 0):\n",
    "        print('Processing game {0:,.0f}...'.format(nGames))\n",
    "    for j in range(0,len(game['events'])):         # iterate through each event in this game\n",
    "        thisevent = np.empty((1,12),dtype=object)\n",
    "        thisevent[0,0] = game['id']  # save game ID first\n",
    "        for k in range(1,len(game['events'][j])):\n",
    "            thisevent[0,k] = game['events'][j][k-1]  # then copy all rows from a single event\n",
    "        events_log = np.vstack((events_log, thisevent))   # after each event processed, append to big list\n",
    "\n",
    "print('\\n')            \n",
    "print('{0:,.0f} games processed'.format(nGames))\n",
    "\n",
    "print('Loaded into array: {0:,.0f} events'.format(len(events_log)))\n",
    "\n",
    "\n",
    "# we loaded everything into a numpy array, now save it as a pandas dataframe\n",
    "events_df = pandas.DataFrame(events_log)\n",
    "\n",
    "# pandas has auto-created an index variable\n",
    "events_df.index.name = 'event_id'\n",
    "\n",
    "column_list = ['gameID', 'event_in_game', 'event_type', 'inning', 'visitor_or_home', 'batter_id', 'pitch_count', 'pitch_list']\n",
    "column_list += ['event', 'comment', 'sub_batting_order', 'sub_position']\n",
    "events_df.columns = column_list\n",
    "#events_df\n",
    "print('Done')\n",
    "\n",
    "\n",
    "\n",
    "\n",
    "\n"
   ]
  },
  {
   "cell_type": "code",
   "execution_count": null,
   "metadata": {
    "collapsed": true
   },
   "outputs": [],
   "source": [
    "\n",
    "i = 0\n",
    "while True:                   # proceed row by row through the events dataframe...\n",
    "    if (i == len(events_df)):      # until the counter exceeds the length of the dataframe...\n",
    "        break                        # then stop\n",
    "    else:\n",
    "        if (events_df['event_type'].loc[i] == 'com'):\n",
    "            lastplay = i - 1\n",
    "            events_df['comment'].loc[lastplay] += events_df['comment'].loc[i]\n",
    "#            tester = tester.append(events_df.loc[i-1])\n",
    "#            tester = tester.append(events_df.loc[i])\n",
    "            while True:\n",
    "#                events_df = events_df.drop(i)\n",
    "                i = i + 1\n",
    "                if (events_df['event_type'].loc[i] == 'com'):\n",
    "                    events_df['comment'].loc[lastplay] += events_df['comment'].loc[i]\n",
    "                else:\n",
    "                    break\n",
    "        else:\n",
    "            i = i + 1\n",
    "\n",
    "events_df = events_df[events_df['event_type'] != 'com']\n",
    "\n"
   ]
  },
  {
   "cell_type": "code",
   "execution_count": null,
   "metadata": {
    "collapsed": false
   },
   "outputs": [],
   "source": [
    "# renumber events in game\n",
    "i = 0\n",
    "i = i + 1\n",
    "j = 1\n",
    "while True:\n",
    "#    if (np.mod(i,100) == 0):\n",
    "#        print('Processing event number {0:,.0f}...'.format(i))\n",
    "    if (i == len(events_df)):\n",
    "        break\n",
    "    else:\n",
    "        events_df['event_in_game'].iloc[i] = j\n",
    "        j = j + 1\n",
    "        if (events_df['gameID'].iloc[i] != events_df['gameID'].iloc[i-1]):\n",
    "            j = 1\n",
    "    i = i + 1\n",
    "    \n",
    "# re-index eventID also\n",
    "events_df = events_df.reset_index()\n",
    "\n",
    "events_df[['gameID', 'event_in_game', 'event_type', 'event', 'comment']].iloc[75:95]#[events_df['gameID'] == 'CLE192708190']"
   ]
  },
  {
   "cell_type": "code",
   "execution_count": null,
   "metadata": {
    "collapsed": true
   },
   "outputs": [],
   "source": []
  }
 ],
 "metadata": {
  "kernelspec": {
   "display_name": "Python 3",
   "language": "python",
   "name": "python3"
  },
  "language_info": {
   "codemirror_mode": {
    "name": "ipython",
    "version": 3
   },
   "file_extension": ".py",
   "mimetype": "text/x-python",
   "name": "python",
   "nbconvert_exporter": "python",
   "pygments_lexer": "ipython3",
   "version": "3.5.3"
  }
 },
 "nbformat": 4,
 "nbformat_minor": 0
}
