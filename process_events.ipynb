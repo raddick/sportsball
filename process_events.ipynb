{
 "cells": [
  {
   "cell_type": "code",
   "execution_count": 1,
   "metadata": {
    "collapsed": true
   },
   "outputs": [],
   "source": [
    "import json\n",
    "import numpy as np\n",
    "import pandas\n",
    "#import os\n",
    "#import io\n",
    "from pprint import pprint\n",
    "pandas.options.display.max_colwidth = -1"
   ]
  },
  {
   "cell_type": "code",
   "execution_count": 2,
   "metadata": {
    "collapsed": false
   },
   "outputs": [
    {
     "name": "stdout",
     "output_type": "stream",
     "text": [
      "ok\n"
     ]
    }
   ],
   "source": [
    "with open('events.json','r') as f:\n",
    "    allgames = json.load(f)\n",
    "print('ok')"
   ]
  },
  {
   "cell_type": "code",
   "execution_count": 3,
   "metadata": {
    "collapsed": false
   },
   "outputs": [
    {
     "name": "stdout",
     "output_type": "stream",
     "text": [
      "152,259 games processed\n",
      "14,946,418 events found\n"
     ]
    }
   ],
   "source": [
    "nEvents = 0\n",
    "print('{0:,.0f} games processed'.format(len(allgames)))\n",
    "for game in allgames:\n",
    "    nEvents = nEvents + len(game['events'])\n",
    "print('{0:,.0f} events found'.format(nEvents))"
   ]
  },
  {
   "cell_type": "code",
   "execution_count": 4,
   "metadata": {
    "collapsed": false
   },
   "outputs": [
    {
     "name": "stdout",
     "output_type": "stream",
     "text": [
      "Processing game 1...\n",
      "Processing game 2...\n",
      "Processing game 3...\n",
      "Processing game 4...\n",
      "Processing game 5...\n",
      "Processing game 6...\n",
      "Processing game 7...\n",
      "Processing game 8...\n",
      "Processing game 9...\n",
      "Processing game 10...\n",
      "Processing game 11...\n",
      "\n",
      "\n",
      "11 games processed\n",
      "Loaded into array: 1,034 events\n",
      "Done\n"
     ]
    }
   ],
   "source": [
    "weird_game_ids = ['CLE192708190', 'BOS193008310', 'BOS193107250', 'CHA193304220', 'NYA193606030', 'MLN195505152']\n",
    "weird_game_ids += ['MIN196907170', 'NYN197208160', 'KCA201109150', 'TOR201208130', 'KCA201605310']\n",
    "\n",
    "events_log = np.empty((0,12),dtype=object)\n",
    "\n",
    "nGames = 0\n",
    "for game in allgames:\n",
    "    if (game['id'] in weird_game_ids):\n",
    "        nGames = nGames + 1\n",
    "        print('Processing game {0:,.0f}...'.format(nGames))\n",
    "        for j in range(0,len(game['events'])):\n",
    "            thisevent = np.empty((1,12),dtype=object)\n",
    "            thisevent[0,0] = game['id']  # save game ID first\n",
    "            for k in range(1,len(game['events'][j])):\n",
    "                thisevent[0,k] = game['events'][j][k-1]  # then copy all rows from a single event\n",
    "            events_log = np.vstack((events_log, thisevent))   # after each event processed, append to big list\n",
    "\n",
    "print('\\n')            \n",
    "print('{0:,.0f} games processed'.format(nGames))\n",
    "\n",
    "print('Loaded into array: {0:,.0f} events'.format(len(events_log)))\n",
    "\n",
    "events_df = pandas.DataFrame(events_log)\n",
    "\n",
    "events_df.index.name = 'event_id'\n",
    "column_list = ['gameID', 'event_in_game', 'event_type', 'inning', 'visitor_or_home', 'batter_id', 'pitch_count', 'pitch_list']\n",
    "column_list += ['event', 'comment', 'sub_batting_order', 'sub_position']\n",
    "events_df.columns = column_list\n",
    "#events_df\n",
    "print('Done')"
   ]
  },
  {
   "cell_type": "code",
   "execution_count": 21,
   "metadata": {
    "collapsed": false
   },
   "outputs": [
    {
     "name": "stdout",
     "output_type": "stream",
     "text": [
      "Processing game 1...\n",
      "Processing game 2...\n",
      "Processing game 3...\n",
      "Processing game 4...\n",
      "Processing game 5...\n",
      "Processing game 6...\n",
      "Processing game 7...\n",
      "Processing game 8...\n",
      "Processing game 9...\n",
      "Processing game 10...\n",
      "Processing game 11...\n",
      "\n",
      "\n",
      "11 games processed\n",
      "Loaded into array: 1,034 events\n",
      "Done\n"
     ]
    }
   ],
   "source": [
    "weird_game_ids = ['CLE192708190', 'BOS193008310', 'BOS193107250', 'CHA193304220', 'NYA193606030', 'MLN195505152']\n",
    "weird_game_ids += ['MIN196907170', 'NYN197208160', 'KCA201109150', 'TOR201208130', 'KCA201605310']\n",
    "\n",
    "events_log = np.empty((0,12),dtype=object)\n",
    "\n",
    "nGames = 0\n",
    "for game in allgames:\n",
    "    if (game['id'] in weird_game_ids):\n",
    "        nGames = nGames + 1\n",
    "        print('Processing game {0:,.0f}...'.format(nGames))\n",
    "        for j in range(0,len(game['events'])):\n",
    "            thisevent = np.empty((1,12),dtype=object)\n",
    "            thisevent[0,0] = game['id']  # save game ID first\n",
    "            for k in range(1,len(game['events'][j])):\n",
    "                thisevent[0,k] = game['events'][j][k-1]  # then copy all rows from a single event\n",
    "            events_log = np.vstack((events_log, thisevent))   # after each event processed, append to big list\n",
    "\n",
    "print('\\n')            \n",
    "print('{0:,.0f} games processed'.format(nGames))\n",
    "\n",
    "print('Loaded into array: {0:,.0f} events'.format(len(events_log)))\n",
    "\n",
    "events_df = pandas.DataFrame(events_log)\n",
    "\n",
    "events_df.index.name = 'event_id'\n",
    "column_list = ['gameID', 'event_in_game', 'event_type', 'inning', 'visitor_or_home', 'batter_id', 'pitch_count', 'pitch_list']\n",
    "column_list += ['event', 'comment', 'sub_batting_order', 'sub_position']\n",
    "events_df.columns = column_list\n",
    "#events_df\n",
    "print('Done')\n",
    "\n",
    "\n",
    "\n",
    "\n",
    "\n",
    "\n",
    "i = 0\n",
    "while True:                   # proceed row by row through the events dataframe...\n",
    "    if (i == len(events_df)):      # until the counter exceeds the length of the dataframe...\n",
    "        break                        # then stop\n",
    "    else:\n",
    "        if (events_df['event_type'].loc[i] == 'com'):\n",
    "            lastplay = i - 1\n",
    "            events_df['comment'].loc[lastplay] += events_df['comment'].loc[i]\n",
    "#            tester = tester.append(events_df.loc[i-1])\n",
    "#            tester = tester.append(events_df.loc[i])\n",
    "            while True:\n",
    "#                events_df = events_df.drop(i)\n",
    "                i = i + 1\n",
    "                if (events_df['event_type'].loc[i] == 'com'):\n",
    "                    events_df['comment'].loc[lastplay] += events_df['comment'].loc[i]\n",
    "                else:\n",
    "                    break\n",
    "        else:\n",
    "            i = i + 1\n",
    "\n",
    "events_df = events_df[events_df['event_type'] != 'com']\n",
    "\n"
   ]
  },
  {
   "cell_type": "code",
   "execution_count": null,
   "metadata": {
    "collapsed": false
   },
   "outputs": [],
   "source": [
    "# renumber events in game\n",
    "\n",
    "i = 0\n",
    "print('Processing event number {0:,.0f}...'.format(i))\n",
    "i = i + 1\n",
    "while True:\n",
    "    print('Processing event number {0:,.0f}...'.format(i))\n",
    "    j = 13\n",
    "    if (i == len(events_df)):\n",
    "        break\n",
    "    else:\n",
    "        print(j)\n",
    "        events_df['event_in_game'].iloc[i] = j\n",
    "#        events_df['event_in_game'].iloc[i] = j\n",
    "#        if (events_df['gameID'].loc[i] != events_df['gameID'].loc[i-1]):\n",
    "#            print('new game')\n",
    "    i = i + 1\n",
    "    \n",
    "#print('Done')\n",
    "\n",
    "events_df[['gameID', 'event_in_game', 'event_type', 'event', 'comment']][events_df['gameID'] == 'CLE192708190']"
   ]
  },
  {
   "cell_type": "code",
   "execution_count": null,
   "metadata": {
    "collapsed": true
   },
   "outputs": [],
   "source": []
  }
 ],
 "metadata": {
  "kernelspec": {
   "display_name": "Python 3",
   "language": "python",
   "name": "python3"
  },
  "language_info": {
   "codemirror_mode": {
    "name": "ipython",
    "version": 3
   },
   "file_extension": ".py",
   "mimetype": "text/x-python",
   "name": "python",
   "nbconvert_exporter": "python",
   "pygments_lexer": "ipython3",
   "version": "3.5.3"
  }
 },
 "nbformat": 4,
 "nbformat_minor": 0
}
