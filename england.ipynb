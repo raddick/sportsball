{
 "cells": [
  {
   "cell_type": "code",
   "execution_count": 157,
   "metadata": {
    "collapsed": true
   },
   "outputs": [],
   "source": [
    "import urllib\n",
    "from bs4 import BeautifulSoup as bs\n",
    "import numpy as np\n",
    "import pandas\n",
    "import re"
   ]
  },
  {
   "cell_type": "code",
   "execution_count": 158,
   "metadata": {
    "collapsed": false
   },
   "outputs": [
    {
     "name": "stdout",
     "output_type": "stream",
     "text": [
      "[['Leicester City (C)' '38' '23' '12' '3' '68' '36' '+32' '81'\n",
      "  'Qualification for the Champions League group stage']\n",
      " ['Arsenal' '38' '20' '11' '7' '65' '36' '+29' '71' None]\n",
      " ['Tottenham Hotspur' '38' '19' '13' '6' '69' '35' '+34' '70' None]\n",
      " ['Manchester City' '38' '19' '9' '10' '71' '41' '+30' '66'\n",
      "  'Qualification for the Champions League play-off round[a]']\n",
      " ['Manchester United' '38' '19' '9' '10' '49' '35' '+14' '66'\n",
      "  'Qualification for the Europa League group stage[b]']\n",
      " ['Southampton' '38' '18' '9' '11' '59' '41' '+18' '63' None]\n",
      " ['West Ham United' '38' '16' '14' '8' '65' '51' '+14' '62'\n",
      "  'Qualification for the Europa League third qualifying round']\n",
      " ['Liverpool' '38' '16' '12' '10' '63' '50' '+13' '60' '']\n",
      " ['Stoke City' '38' '14' '9' '15' '41' '55' '−14' '51' None]\n",
      " ['Chelsea' '38' '12' '14' '12' '59' '53' '+6' '50' None]\n",
      " ['Everton' '38' '11' '14' '13' '59' '55' '+4' '47' None]\n",
      " ['Swansea City' '38' '12' '11' '15' '42' '52' '−10' '47' None]\n",
      " ['Watford' '38' '12' '9' '17' '40' '50' '−10' '45' None]\n",
      " ['West Bromwich Albion' '38' '10' '13' '15' '34' '48' '−14' '43' None]\n",
      " ['Crystal Palace' '38' '11' '9' '18' '39' '51' '−12' '42' None]\n",
      " ['AFC Bournemouth' '38' '11' '9' '18' '45' '67' '−22' '42' None]\n",
      " ['Sunderland' '38' '9' '12' '17' '48' '62' '−14' '39' None]\n",
      " ['Newcastle United (R)' '38' '9' '10' '19' '44' '65' '−21' '37'\n",
      "  'Relegation to the Football League Championship']\n",
      " ['Aston Villa (R)' '38' '3' '8' '27' '27' '76' '−49' '17' None]\n",
      " [None None None None None None None None None None]]\n"
     ]
    }
   ],
   "source": [
    "#    print(name2)\n",
    "standings = np.empty((20,10),dtype=object)\n",
    "url = \"https://en.wikipedia.org/wiki/2014%E2%80%9315_Premier_League\"\n",
    "page = urllib.request.urlopen(url).read()\n",
    "soup = bs(page, \"html.parser\")\n",
    "alltables = soup.find_all('table')\n",
    "standingstable = h3s[4]\n",
    "rows = standingstable.find_all('tr')\n",
    "#print(rows)\n",
    "for i in range(0,len(rows)-1):\n",
    "    thisrow = rows[i-1].find_all('td')\n",
    "    for j in range(0,len(thisrow)):\n",
    "        standings[i-2,j] = thisrow[j].get_text()\n",
    "#    standings[i-1,0] = thisrow[0].get_text()\n",
    "#    standings[i-1,1] = int(thisrow[1].get_text())\n",
    "#    standings[i-1,2] = int(thisrow[2].get_text())\n",
    "#    standings[i-1,3] = int(thisrow[3].get_text())\n",
    "#    standings[i-1,4] = int(thisrow[4].get_text())\n",
    "#    standings[i-1,5] = int(thisrow[5].get_text())\n",
    "#    standings[i-1,6] = int(thisrow[6].get_text())\n",
    "#    standings[i-1,7] = int(re.sub('−','-',thisrow[7].get_text()))\n",
    "#    standings[7] = int(thisrow[7].get_text())\n",
    "#    thisrow[8] = re.sub('+','',re.sub('−','-',thisrow[8]))\n",
    "#    standings[8] = int(thisrow[8].get_text())\n",
    "#    standings[9] = thisrow[9].get_text()\n",
    "print(standings)"
   ]
  },
  {
   "cell_type": "code",
   "execution_count": null,
   "metadata": {
    "collapsed": true
   },
   "outputs": [],
   "source": []
  },
  {
   "cell_type": "code",
   "execution_count": null,
   "metadata": {
    "collapsed": true
   },
   "outputs": [],
   "source": []
  }
 ],
 "metadata": {
  "kernelspec": {
   "display_name": "Python 3",
   "language": "python",
   "name": "python3"
  },
  "language_info": {
   "codemirror_mode": {
    "name": "ipython",
    "version": 3
   },
   "file_extension": ".py",
   "mimetype": "text/x-python",
   "name": "python",
   "nbconvert_exporter": "python",
   "pygments_lexer": "ipython3",
   "version": "3.5.2"
  }
 },
 "nbformat": 4,
 "nbformat_minor": 0
}
