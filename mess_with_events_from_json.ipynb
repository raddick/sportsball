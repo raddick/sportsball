{
 "cells": [
  {
   "cell_type": "code",
   "execution_count": 1,
   "metadata": {
    "collapsed": false
   },
   "outputs": [
    {
     "name": "stdout",
     "output_type": "stream",
     "text": [
      "done\n"
     ]
    }
   ],
   "source": [
    "import json\n",
    "import numpy\n",
    "import pandas\n",
    "from pprint import pprint\n",
    "pandas.options.display.max_colwidth = -1\n",
    "print('done')"
   ]
  },
  {
   "cell_type": "code",
   "execution_count": 2,
   "metadata": {
    "collapsed": false
   },
   "outputs": [
    {
     "name": "stdout",
     "output_type": "stream",
     "text": [
      "ok\n",
      "done\n"
     ]
    }
   ],
   "source": [
    "# runs in about 5 minutes\n",
    "with open('events_2012-2016.json','r') as f:\n",
    "#with open('events_1927_1938.json','r') as f:\n",
    "    allgames = json.load(f)\n",
    "print('ok')\n",
    "#pprint(allgames[2])   \n",
    "allgames_bk = allgames\n",
    "\n",
    "allgames_df = pandas.DataFrame(allgames)\n",
    "allgames_df = allgames_df.set_index('id')\n",
    "print('done')"
   ]
  },
  {
   "cell_type": "code",
   "execution_count": 3,
   "metadata": {
    "collapsed": false
   },
   "outputs": [
    {
     "name": "stdout",
     "output_type": "stream",
     "text": [
      "done\n"
     ]
    }
   ],
   "source": [
    "#allgames_df.sample(10).index\n",
    "mygames = ['NYN201204100']\n",
    "#mygames += ['BAL201208060', 'SEA201208150', 'BAL201208300', 'BAL201209300', 'BAL201304210']\n",
    "#mygames += ['BAL201305170', 'BAL201405010', 'BAL201406130', 'BAL201406250', 'MIA201407030', 'PIT201605180']\n",
    "#mygames += ['SDN201606150', 'WAS201607200', 'BAL201608180']\n",
    "\n",
    "#weird_game_ids = ['CLE192708190', 'BOS193008310', 'BOS193107250', 'CHA193304220', 'NYA193606030', 'MLN195505152']\n",
    "#weird_game_ids += ['MIN196907170', 'NYN197208160', 'KCA201109150', 'TOR201208130', 'KCA201605310']\n",
    "\n",
    "somecolumns = allgames_df.columns\n",
    "allgames2_df = pandas.DataFrame(columns=somecolumns)\n",
    "allgames2_df['id'] = ''\n",
    "allgames2_df = allgames2_df.set_index('id')\n",
    "allgames2_df\n",
    "for thisid, thisrow in allgames_df.iterrows():\n",
    "    if (thisid in mygames):\n",
    "        allgames2_df = allgames2_df.append(thisrow)\n",
    "allgames_df = allgames2_df\n",
    "print('done')"
   ]
  },
  {
   "cell_type": "code",
   "execution_count": 6,
   "metadata": {
    "collapsed": false
   },
   "outputs": [
    {
     "name": "stdout",
     "output_type": "stream",
     "text": [
      "done\n"
     ]
    }
   ],
   "source": [
    "all_rosters_df = pandas.read_csv('fullroster.csv')\n",
    "all_rosters_df.head(2)\n",
    "\n",
    "def get_starters(onerow):\n",
    "    \n",
    "#    df = pandas.DataFrame()\n",
    "    \n",
    "    vsdf = pandas.DataFrame(onerow['visiting_starters'], columns=player_columns)\n",
    "    vsdf['which_team'] = 0\n",
    "    hsdf = pandas.DataFrame(onerow['home_starters'], columns=player_columns)\n",
    "    hsdf['which_team'] = 1\n",
    "    df = pandas.concat((vsdf, hsdf))\n",
    "    df['batting_order'] = pandas.to_numeric(df['batting_order'])\n",
    "    df['position'] = pandas.to_numeric(df['position'])\n",
    "\n",
    "    return df\n",
    "\n",
    "def split_event(df):\n",
    "    df['play'] = df['event'].str.split('/').str.get(0)\n",
    "    df['modifiers'] = df['event'].str.split('/',n=1).str.get(1)\n",
    "    df['play'] = df['event'].str.split('/').str.get(0)\n",
    "    df['modifiers'] = df['event'].str.split('/',n=1).str.get(1)\n",
    "    df['modifiers'] = df['modifiers'].fillna('')\n",
    "    df['baserunning'] = df['modifiers'].str.split('.',n=1).str.get(1)\n",
    "    df['baserunning'] = df['baserunning'].fillna('')\n",
    "    df['modifiers'] = df['modifiers'].str.split('.').str.get(0)\n",
    "    \n",
    "    return df\n",
    "\n",
    "def get_game_info(onerow, theindex):\n",
    "\n",
    "    info_df = pandas.DataFrame.from_records(onerow['info'], index=theindex)\n",
    "\n",
    "    info_df['attendance'] = pandas.to_numeric(info_df['attendance'], errors='coerce')\n",
    "    info_df['date'] = pandas.to_datetime(info_df['date'], errors='coerce')\n",
    "    info_df['number'] = pandas.to_numeric(info_df['number'], errors='coerce')\n",
    "    info_df['starttime'] = pandas.to_datetime(info_df['starttime'], format='%l%M%P', errors='coerce')\n",
    "    info_df['temp'] = pandas.to_numeric(info_df['temp'], errors='coerce')\n",
    "    info_df['timeofgame'] = pandas.to_timedelta(info_df['timeofgame'].astype(str) + ' minutes', unit='m', errors='coerce')\n",
    "    info_df = info_df.fillna('')\n",
    "\n",
    "    return info_df\n",
    "print('done')\n"
   ]
  },
  {
   "cell_type": "code",
   "execution_count": 8,
   "metadata": {
    "collapsed": false
   },
   "outputs": [
    {
     "name": "stdout",
     "output_type": "stream",
     "text": [
      "NYN201204100\n",
      "batterID    baxtm001\n",
      "play        K23     \n",
      "vis         WAS     \n",
      "Name: 109, dtype: object\n"
     ]
    }
   ],
   "source": [
    "column_list = ['event_in_game', 'event_type', 'inning', 'home_or_visitor', 'batterID']\n",
    "column_list += ['pitch_count', 'pitch_sequence', 'event', 'comment', 'sub_batting_order', 'sub_position']\n",
    "\n",
    "player_columns = ['playerID', 'name', 'batting_order', 'position']\n",
    "\n",
    "for thisgameID,thisrow in allgames_df.iterrows():\n",
    "    print(thisgameID)\n",
    "    \n",
    "    thisgame_df = pandas.DataFrame(thisrow['events'], columns=column_list)\n",
    "    thisgame_df['gameID'] = thisgameID\n",
    "        \n",
    "    thisgame_df['inning'] = pandas.to_numeric(thisgame_df['inning'])\n",
    "    thisgame_df['home_or_visitor'] = pandas.to_numeric(thisgame_df['home_or_visitor'])\n",
    "\n",
    "    this_info_df = get_game_info(thisrow, allgames_df.index)\n",
    "\n",
    "    playing_df = get_starters(thisrow)\n",
    "\n",
    "    thisgame_df = split_event(thisgame_df)\n",
    "    \n",
    "    thisgame_df = thisgame_df.set_index('event_in_game')\n",
    "    \n",
    "    for ing in thisgame_df['inning'].drop_duplicates():\n",
    "        for side in range(0,2):\n",
    "            halfinn = thisgame_df[(thisgame_df['inning'] == ing) & (thisgame_df['home_or_visitor'] == side)]\n",
    "            for eig, thisevent in halfinn.iterrows():\n",
    "                #print(eig, thisevent['play'])\n",
    "                thisevent['vis'] = this_info_df['visteam'].tolist()[0]\n",
    "                thisevent['pitcherID'] = playing_df['playerID'][(playing_df['which_team'] == 0) & (playing_df['position'] == 1)].tolist()[0]\n",
    "                thisevent['catcherID'] = playing_df['playerID'][(playing_df['which_team'] == 0) & (playing_df['position'] == 2)].tolist()[0]\n",
    "                thisevent['1bID'] = playing_df['playerID'][(playing_df['which_team'] == 0) & (playing_df['position'] == 3)].tolist()[0]\n",
    "                thisevent['2bID'] = playing_df['playerID'][(playing_df['which_team'] == 0) & (playing_df['position'] == 4)].tolist()[0]\n",
    "                thisevent['3bID'] = playing_df['playerID'][(playing_df['which_team'] == 0) & (playing_df['position'] == 5)].tolist()[0]\n",
    "                thisevent['ssID'] = playing_df['playerID'][(playing_df['which_team'] == 0) & (playing_df['position'] == 6)].tolist()[0]\n",
    "                thisevent['lfID'] = playing_df['playerID'][(playing_df['which_team'] == 0) & (playing_df['position'] == 7)].tolist()[0]\n",
    "                thisevent['cfID'] = playing_df['playerID'][(playing_df['which_team'] == 0) & (playing_df['position'] == 8)].tolist()[0]\n",
    "                thisevent['rfID'] = playing_df['playerID'][(playing_df['which_team'] == 0) & (playing_df['position'] == 9)].tolist()[0]\n",
    "\n",
    "#                print(thisevent[['batterID', 'play', 'vis']])\n",
    "#                print(thisevent[['event_type', 'batterID', 'pitcherID', 'catcherID', '1bID', '2bID', '3bID', 'ssID', 'lfID', 'cfID', 'rfID', 'play', 'baserunning']])\n",
    "#                print('----------')\n",
    "#info_df\n",
    "print(thisevent[['batterID', 'play', 'vis']])\n",
    "#this_info_df"
   ]
  },
  {
   "cell_type": "code",
   "execution_count": null,
   "metadata": {
    "collapsed": true
   },
   "outputs": [],
   "source": []
  }
 ],
 "metadata": {
  "kernelspec": {
   "display_name": "Python 3",
   "language": "python",
   "name": "python3"
  },
  "language_info": {
   "codemirror_mode": {
    "name": "ipython",
    "version": 3
   },
   "file_extension": ".py",
   "mimetype": "text/x-python",
   "name": "python",
   "nbconvert_exporter": "python",
   "pygments_lexer": "ipython3",
   "version": "3.5.3"
  }
 },
 "nbformat": 4,
 "nbformat_minor": 0
}
