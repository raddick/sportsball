{
 "cells": [
  {
   "cell_type": "code",
   "execution_count": 1,
   "metadata": {
    "collapsed": false
   },
   "outputs": [
    {
     "name": "stdout",
     "output_type": "stream",
     "text": [
      "ok\n"
     ]
    }
   ],
   "source": [
    "import json\n",
    "import numpy as np\n",
    "import pandas\n",
    "from pprint import pprint\n",
    "from datetime import datetime, timedelta\n",
    "pandas.options.display.max_colwidth = -1\n",
    "print('ok')"
   ]
  },
  {
   "cell_type": "code",
   "execution_count": 20,
   "metadata": {
    "collapsed": false
   },
   "outputs": [
    {
     "name": "stdout",
     "output_type": "stream",
     "text": [
      "years identified\n",
      "raw/events_raw_2016.json\n",
      "2,428 games found\n",
      "Reading game number 0\n",
      "Reading game number 100\n",
      "Reading game number 200\n",
      "Reading game number 300\n",
      "Reading game number 400\n",
      "Reading game number 500\n",
      "Reading game number 600\n",
      "Reading game number 700\n",
      "Reading game number 800\n",
      "Reading game number 900\n",
      "Reading game number 1,000\n",
      "Reading game number 1,100\n",
      "Reading game number 1,200\n",
      "Reading game number 1,300\n",
      "Reading game number 1,400\n",
      "Reading game number 1,500\n",
      "Reading game number 1,600\n",
      "Reading game number 1,700\n",
      "Reading game number 1,800\n",
      "Reading game number 1,900\n",
      "Reading game number 2,000\n",
      "Reading game number 2,100\n",
      "Reading game number 2,200\n",
      "Reading game number 2,300\n",
      "Reading game number 2,400\n",
      "Reading game number 2,427\n",
      "finished reading data\n",
      "output written\n"
     ]
    }
   ],
   "source": [
    "allgames = []\n",
    "#yeararray = [1921, 1922, 1925, 1927, 1928]\n",
    "#for i in np.linspace(1930,2016,87):\n",
    "#    yeararray.append(i)\n",
    "yeararray = [2016]\n",
    "    \n",
    "years_with_derived = []\n",
    "for i in np.linspace(1942,1959,18):\n",
    "    years_with_derived.append(i)\n",
    "for i in np.linspace(1962,1968,7):\n",
    "    years_with_derived.append(i)\n",
    "for i in np.linspace(1971,1973,3):\n",
    "    years_with_derived.append(i)\n",
    "print('years identified')\n",
    "    \n",
    "for thisyear in yeararray:\n",
    "#    print('Starting to parse the year {0:.0f}'.format(thisyear))\n",
    "    filename = 'raw/events_raw_{0:.0f}.json'.format(thisyear)\n",
    "    print(filename)\n",
    "    with open(filename,'r') as f:\n",
    "        games = json.load(f)\n",
    "    if (thisyear in years_with_derived):\n",
    "        derived_filename = 'with_derived/events_with_derived_{0:.0f}.json'.format(thisyear)\n",
    "        print(derived_filename)\n",
    "        with open(derived_filename,'r') as f:\n",
    "            games_derived = json.load(f)\n",
    "        games = games + games_derived\n",
    "    allgames = allgames + games\n",
    "\n",
    "#    games_df = pandas.DataFrame(games)\n",
    "#    games_df = games_df.set_index('id')\n",
    "    print('{0:,.0f} games found'.format(len(allgames)))\n",
    "\n",
    "    allgames_df = pandas.DataFrame()\n",
    "    for i in range(0, len(allgames)):\n",
    "        if ((np.mod(i, 100) == 0) | (i==len(allgames)-1)):\n",
    "            print('Reading game number {0:,.0f}'.format(i))\n",
    "        game_df = pandas.DataFrame.from_records(allgames[i]['info'], index=[allgames[i]['id']])\n",
    "        allgames_df = pandas.concat((allgames_df, game_df))\n",
    "    allgames_df.index.name = 'gameID'\n",
    "\n",
    "    allgames_df['attendance'] = pandas.to_numeric(allgames_df['attendance'], errors='coerce')\n",
    "    allgames_df['date'] = pandas.to_datetime(allgames_df['date'], format='%Y/%m/%d', errors='coerce')\n",
    "    allgames_df['number'] = pandas.to_numeric(allgames_df['number'], errors='coerce')\n",
    "    allgames_df['starttime'] = pandas.to_datetime(allgames_df['starttime'], format='%I:%M%p', errors='coerce')\n",
    "    allgames_df['temp'] = pandas.to_numeric(allgames_df['temp'], errors='coerce')\n",
    "    allgames_df['timeofgame'] = pandas.to_numeric(allgames_df['timeofgame'], errors='coerce').dropna().apply(lambda x: timedelta(minutes=x))\n",
    "    allgames_df['windspeed'] = pandas.to_numeric(allgames_df['windspeed'], errors='coerce')\n",
    "    print('finished reading data')\n",
    "    #allgames_df.tail(3).transpose()\n",
    "    allgames_df.to_csv('games/gameinfo_from_events_{0:.0f}.csv'.format(thisyear))\n",
    "    print('output written')"
   ]
  },
  {
   "cell_type": "code",
   "execution_count": null,
   "metadata": {
    "collapsed": false,
    "scrolled": false
   },
   "outputs": [],
   "source": []
  },
  {
   "cell_type": "code",
   "execution_count": null,
   "metadata": {
    "collapsed": true
   },
   "outputs": [],
   "source": []
  },
  {
   "cell_type": "code",
   "execution_count": null,
   "metadata": {
    "collapsed": true
   },
   "outputs": [],
   "source": []
  },
  {
   "cell_type": "code",
   "execution_count": null,
   "metadata": {
    "collapsed": true
   },
   "outputs": [],
   "source": []
  },
  {
   "cell_type": "code",
   "execution_count": null,
   "metadata": {
    "collapsed": true
   },
   "outputs": [],
   "source": []
  },
  {
   "cell_type": "code",
   "execution_count": null,
   "metadata": {
    "collapsed": false
   },
   "outputs": [],
   "source": [
    "# runs in about 5 minutes\n",
    "with open('events_with_derived.json','r') as f:\n",
    "    allgames = json.load(f)\n",
    "\n",
    "allgames_bk = allgames\n",
    "\n",
    "allgames_df = pandas.DataFrame(allgames)\n",
    "allgames_df = allgames_df.set_index('id')\n",
    "\n",
    "print('done')"
   ]
  },
  {
   "cell_type": "code",
   "execution_count": null,
   "metadata": {
    "collapsed": false
   },
   "outputs": [],
   "source": [
    "info_df = pandas.DataFrame.from_records(allgames_df['info'], index=allgames_df.index)\n",
    "\n",
    "column_list = ['visteam', 'hometeam', 'date', 'number', 'starttime', 'daynight']\n",
    "column_list += ['site', 'timeofgame', 'attendance']\n",
    "column_list += ['temp', 'fieldcond', 'precip', 'sky', 'winddir', 'windspeed']\n",
    "column_list += ['umphome', 'ump1b', 'umb2b', 'umb3b', 'umplf', 'umprf']\n",
    "column_list += ['wp', 'lp', 'save']\n",
    "column_list += ['how_scored', 'oscorer', 'pitches', 'usedh']\n",
    "\n",
    "#info_df.columns = column_list\n",
    "\n",
    "#number -> gameno\n",
    "#timeofgame -> length\n",
    "\n",
    "info_df['attendance'] = pandas.to_numeric(info_df['attendance'], errors='coerce')\n",
    "info_df['date'] = pandas.to_datetime(info_df['date'], errors='coerce')\n",
    "info_df['number'] = pandas.to_numeric(info_df['number'], errors='coerce')\n",
    "info_df['starttime'] = pandas.to_datetime(info_df['starttime'], format='%l%M%P', errors='coerce')\n",
    "info_df['temp'] = pandas.to_numeric(info_df['temp'], errors='coerce')\n",
    "info_df['timeofgame'] = pandas.to_timedelta(info_df['timeofgame'].astype(str) + ' minutes', unit='m', errors='coerce')\n",
    "info_df = info_df.fillna('')\n",
    "\n",
    "info_df.to_csv('gameinfo_from_events.csv')\n",
    "print('Done')"
   ]
  },
  {
   "cell_type": "code",
   "execution_count": null,
   "metadata": {
    "collapsed": true
   },
   "outputs": [],
   "source": []
  }
 ],
 "metadata": {
  "kernelspec": {
   "display_name": "Python 3",
   "language": "python",
   "name": "python3"
  },
  "language_info": {
   "codemirror_mode": {
    "name": "ipython",
    "version": 3
   },
   "file_extension": ".py",
   "mimetype": "text/x-python",
   "name": "python",
   "nbconvert_exporter": "python",
   "pygments_lexer": "ipython3",
   "version": "3.5.3"
  }
 },
 "nbformat": 4,
 "nbformat_minor": 0
}
