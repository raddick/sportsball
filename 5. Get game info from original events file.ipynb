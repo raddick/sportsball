{
 "cells": [
  {
   "cell_type": "code",
   "execution_count": 1,
   "metadata": {
    "collapsed": false
   },
   "outputs": [],
   "source": [
    "import json\n",
    "import numpy\n",
    "import pandas\n",
    "from pprint import pprint\n",
    "pandas.options.display.max_colwidth = -1"
   ]
  },
  {
   "cell_type": "code",
   "execution_count": 2,
   "metadata": {
    "collapsed": false
   },
   "outputs": [
    {
     "name": "stdout",
     "output_type": "stream",
     "text": [
      "done\n"
     ]
    }
   ],
   "source": [
    "# runs in about 5 minutes\n",
    "with open('events_with_derived.json','r') as f:\n",
    "    allgames = json.load(f)\n",
    "\n",
    "allgames_bk = allgames\n",
    "\n",
    "allgames_df = pandas.DataFrame(allgames)\n",
    "allgames_df = allgames_df.set_index('id')\n",
    "\n",
    "print('done')"
   ]
  },
  {
   "cell_type": "code",
   "execution_count": 3,
   "metadata": {
    "collapsed": false
   },
   "outputs": [
    {
     "name": "stdout",
     "output_type": "stream",
     "text": [
      "Done\n"
     ]
    }
   ],
   "source": [
    "info_df = pandas.DataFrame.from_records(allgames_df['info'], index=allgames_df.index)\n",
    "\n",
    "column_list = ['visteam', 'hometeam', 'date', 'number', 'starttime', 'daynight']\n",
    "column_list += ['site', 'timeofgame', 'attendance']\n",
    "column_list += ['temp', 'fieldcond', 'precip', 'sky', 'winddir', 'windspeed']\n",
    "column_list += ['umphome', 'ump1b', 'umb2b', 'umb3b', 'umplf', 'umprf']\n",
    "column_list += ['wp', 'lp', 'save']\n",
    "column_list += ['how_scored', 'oscorer', 'pitches', 'usedh']\n",
    "\n",
    "#info_df.columns = column_list\n",
    "\n",
    "#number -> gameno\n",
    "#timeofgame -> length\n",
    "\n",
    "info_df['attendance'] = pandas.to_numeric(info_df['attendance'], errors='coerce')\n",
    "info_df['date'] = pandas.to_datetime(info_df['date'], errors='coerce')\n",
    "info_df['number'] = pandas.to_numeric(info_df['number'], errors='coerce')\n",
    "info_df['starttime'] = pandas.to_datetime(info_df['starttime'], format='%l%M%P', errors='coerce')\n",
    "info_df['temp'] = pandas.to_numeric(info_df['temp'], errors='coerce')\n",
    "info_df['timeofgame'] = pandas.to_timedelta(info_df['timeofgame'].astype(str) + ' minutes', unit='m', errors='coerce')\n",
    "info_df = info_df.fillna('')\n",
    "\n",
    "info_df.to_csv('gameinfo_from_events.csv')\n",
    "print('Done')"
   ]
  },
  {
   "cell_type": "code",
   "execution_count": null,
   "metadata": {
    "collapsed": true
   },
   "outputs": [],
   "source": []
  }
 ],
 "metadata": {
  "kernelspec": {
   "display_name": "Python 3",
   "language": "python",
   "name": "python3"
  },
  "language_info": {
   "codemirror_mode": {
    "name": "ipython",
    "version": 3
   },
   "file_extension": ".py",
   "mimetype": "text/x-python",
   "name": "python",
   "nbconvert_exporter": "python",
   "pygments_lexer": "ipython3",
   "version": "3.5.3"
  }
 },
 "nbformat": 4,
 "nbformat_minor": 0
}
