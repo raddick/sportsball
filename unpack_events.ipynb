{
 "cells": [
  {
   "cell_type": "code",
   "execution_count": null,
   "metadata": {
    "collapsed": false
   },
   "outputs": [],
   "source": [
    "import json\n",
    "import numpy\n",
    "import pandas\n",
    "from pprint import pprint\n",
    "pandas.options.display.max_colwidth = -1\n",
    "\n",
    "def parse_events(thisgame_df):\n",
    "    thisgame_df['play'] = thisgame_df['event'].str.split('/').str.get(0)\n",
    "    thisgame_df['modifiers'] = thisgame_df['event'].str.split('/',n=1).str.get(1)\n",
    "    thisgame_df['play'] = thisgame_df['event'].str.split('/').str.get(0)\n",
    "    thisgame_df['modifiers'] = thisgame_df['event'].str.split('/',n=1).str.get(1)\n",
    "    thisgame_df['modifiers'] = thisgame_df['modifiers'].fillna('')\n",
    "    thisgame_df['baserunning'] = thisgame_df['modifiers'].str.split('.',n=1).str.get(1)\n",
    "    thisgame_df['baserunning'] = thisgame_df['baserunning'].fillna('')\n",
    "    thisgame_df['modifiers'] = thisgame_df['modifiers'].str.split('.').str.get(0)\n",
    "    \n",
    "    return thisgame_df"
   ]
  },
  {
   "cell_type": "code",
   "execution_count": null,
   "metadata": {
    "collapsed": false
   },
   "outputs": [],
   "source": [
    "# runs in about 5 minutes\n",
    "with open('events_2012-2016.json','r') as f:\n",
    "#with open('events_1927_1938.json','r') as f:\n",
    "    allgames = json.load(f)\n",
    "print('ok')\n",
    "#pprint(allgames[2])   \n",
    "allgames_bk = allgames\n",
    "\n",
    "allgames_df = pandas.DataFrame(allgames)\n",
    "allgames_df = allgames_df.set_index('id')"
   ]
  },
  {
   "cell_type": "code",
   "execution_count": null,
   "metadata": {
    "collapsed": false
   },
   "outputs": [],
   "source": [
    "#allgames_df.sample(10).index\n",
    "#'MIN201204230', 'SEA201207290', 'LAN201304280', 'OAK201309010',\n",
    "#       'SFN201409270', 'DET201306090', 'TEX201208240', 'ANA201404280',\n",
    "#       'WAS201304260', 'CIN201609060'],"
   ]
  },
  {
   "cell_type": "code",
   "execution_count": null,
   "metadata": {
    "collapsed": false,
    "scrolled": true
   },
   "outputs": [],
   "source": [
    "column_list = ['event_in_game', 'event_type', 'inning', 'home_or_visitor', 'batterID']\n",
    "column_list += ['pitch_count', 'pitch_sequence', 'event', 'comment', 'sub_batting_order', 'sub_position']\n",
    "\n",
    "allevents_df = pandas.DataFrame(columns = column_list)\n",
    "\n",
    "cnt = 0\n",
    "for thisgameID,row in allgames_df.head(200).iterrows():\n",
    "    if (numpy.mod(cnt,100) == 0):\n",
    "        print('Parsing game {0:,.0f}: {1}'.format(cnt, thisgameID))\n",
    "    thisgame_df = pandas.DataFrame(row['events'], columns=column_list)\n",
    "#    thisgame_df = thisgame_df.set_index('event_in_game')\n",
    "\n",
    "    thisgame_df['gameID'] = thisgameID\n",
    "    \n",
    "    thisgame_df['inning'] = pandas.to_numeric(thisgame_df['inning'])\n",
    "    thisgame_df['home_or_visitor'] = pandas.to_numeric(thisgame_df['home_or_visitor'])\n",
    "    thisgame_df = parse_events(thisgame_df)\n",
    "\n",
    "    allevents_df = pandas.concat((allevents_df, thisgame_df))\n",
    "    \n",
    "    cnt = cnt + 1\n",
    "\n",
    "allevents_df.index.name = 'eventID'\n",
    "\n",
    "write_columns = ['gameID']\n",
    "write_columns += ['event_in_game', 'event_type', 'inning', 'home_or_visitor']\n",
    "write_columns += ['batterID', 'pitch_count', 'pitch_sequence', 'event']\n",
    "write_columns += ['play', 'modifiers', 'baserunning']\n",
    "write_columns += ['comment', 'sub_batting_order', 'sub_position']\n",
    "\n",
    "allevents_df = allevents_df[write_columns]\n",
    "\n",
    "allevents_df.to_csv('events_parsed_2012-2016.csv', encoding='utf-8')\n",
    "print('Done')\n",
    "\n",
    "#allevents_df.to_csv('events_2012-2016_parsed.csv')"
   ]
  },
  {
   "cell_type": "code",
   "execution_count": null,
   "metadata": {
    "collapsed": false
   },
   "outputs": [],
   "source": []
  },
  {
   "cell_type": "code",
   "execution_count": null,
   "metadata": {
    "collapsed": true
   },
   "outputs": [],
   "source": []
  },
  {
   "cell_type": "code",
   "execution_count": null,
   "metadata": {
    "collapsed": true
   },
   "outputs": [],
   "source": []
  }
 ],
 "metadata": {
  "kernelspec": {
   "display_name": "Python 3",
   "language": "python",
   "name": "python3"
  },
  "language_info": {
   "codemirror_mode": {
    "name": "ipython",
    "version": 3
   },
   "file_extension": ".py",
   "mimetype": "text/x-python",
   "name": "python",
   "nbconvert_exporter": "python",
   "pygments_lexer": "ipython3",
   "version": "3.5.3"
  }
 },
 "nbformat": 4,
 "nbformat_minor": 0
}
