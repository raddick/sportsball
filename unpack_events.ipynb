{
 "cells": [
  {
   "cell_type": "code",
   "execution_count": null,
   "metadata": {
    "collapsed": false
   },
   "outputs": [],
   "source": [
    "import json\n",
    "import numpy\n",
    "import pandas\n",
    "from pprint import pprint\n",
    "pandas.options.display.max_colwidth = -1\n",
    "\n",
    "def parse_events(thisgame_df):\n",
    "    thisgame_df['play'] = thisgame_df['event'].str.split('/').str.get(0)\n",
    "    thisgame_df['modifiers'] = thisgame_df['event'].str.split('/',n=1).str.get(1)\n",
    "    thisgame_df['play'] = thisgame_df['event'].str.split('/').str.get(0)\n",
    "    thisgame_df['modifiers'] = thisgame_df['event'].str.split('/',n=1).str.get(1)\n",
    "    thisgame_df['modifiers'] = thisgame_df['modifiers'].fillna('')\n",
    "    thisgame_df['baserunning'] = thisgame_df['modifiers'].str.split('.',n=1).str.get(1)\n",
    "    thisgame_df['baserunning'] = thisgame_df['baserunning'].fillna('')\n",
    "    thisgame_df['modifiers'] = thisgame_df['modifiers'].str.split('.').str.get(0)\n",
    "    \n",
    "    return thisgame_df"
   ]
  },
  {
   "cell_type": "code",
   "execution_count": null,
   "metadata": {
    "collapsed": false
   },
   "outputs": [],
   "source": [
    "# runs in about 5 minutes\n",
    "with open('events_2012-2016.json','r') as f:\n",
    "#with open('events_1927_1938.json','r') as f:\n",
    "    allgames = json.load(f)\n",
    "print('ok')\n",
    "#pprint(allgames[2])   \n",
    "allgames_bk = allgames\n",
    "\n",
    "allgames_df = pandas.DataFrame(allgames)\n",
    "allgames_df = allgames_df.set_index('id')"
   ]
  },
  {
   "cell_type": "code",
   "execution_count": null,
   "metadata": {
    "collapsed": false
   },
   "outputs": [],
   "source": [
    "#allgames_df.sample(10).index\n",
    "#mygames = ['NYN201204100', 'BAL201208060', 'SEA201208150', 'BAL201208300', 'BAL201209300', 'BAL201304210']\n",
    "#mygames += ['BAL201305170', 'BAL201405010', 'BAL201406130', 'BAL201406250', 'MIA201407030', 'PIT201605180']\n",
    "#mygames += ['SDN201606150', 'WAS201607200', 'BAL201608180']\n",
    "\n",
    "#weird_game_ids = ['CLE192708190', 'BOS193008310', 'BOS193107250', 'CHA193304220', 'NYA193606030', 'MLN195505152']\n",
    "#weird_game_ids += ['MIN196907170', 'NYN197208160', 'KCA201109150', 'TOR201208130', 'KCA201605310']\n",
    "\n",
    "#somecolumns = allgames_df.columns\n",
    "#allgames2_df = pandas.DataFrame(columns=somecolumns)\n",
    "#allgames2_df['id'] = ''\n",
    "#allgames2_df = allgames2_df.set_index('id')\n",
    "#allgames2_df\n",
    "#for thisid, thisrow in allgames_df.iterrows():\n",
    "#    if (thisid in mygames):\n",
    "#        allgames2_df = allgames2_df.append(thisrow)\n",
    "#allgames_df = allgames2_df\n",
    "#print('done')"
   ]
  },
  {
   "cell_type": "code",
   "execution_count": null,
   "metadata": {
    "collapsed": false,
    "scrolled": true
   },
   "outputs": [],
   "source": [
    "\n",
    "\n",
    "column_list = ['event_in_game', 'event_type', 'inning', 'home_or_visitor', 'batterID']\n",
    "column_list += ['pitch_count', 'pitch_sequence', 'event', 'comment', 'sub_batting_order', 'sub_position']\n",
    "\n",
    "allevents_df = pandas.DataFrame(columns = column_list)\n",
    "\n",
    "cnt = 0\n",
    "\n",
    "\n",
    "for thisgameID,row in allgames_df.iterrows():\n",
    "    if (numpy.mod(cnt,100) == 0):\n",
    "        print('Parsing game {0:,.0f}: {1}'.format(cnt, thisgameID))\n",
    "    thisgame_df = pandas.DataFrame(row['events'], columns=column_list)\n",
    "#    thisgame_df = thisgame_df.set_index('event_in_game')\n",
    "\n",
    "    thisgame_df['gameID'] = thisgameID\n",
    "    \n",
    "    thisgame_df['inning'] = pandas.to_numeric(thisgame_df['inning'])\n",
    "    thisgame_df['home_or_visitor'] = pandas.to_numeric(thisgame_df['home_or_visitor'])\n",
    "    thisgame_df = parse_events(thisgame_df)\n",
    "\n",
    "    allevents_df = pandas.concat((allevents_df, thisgame_df))\n",
    "    \n",
    "    cnt = cnt + 1\n",
    "\n",
    "allevents_df = allevents_df.reset_index(drop=True)\n",
    "allevents_df.index.name = 'eventID'\n",
    "\n",
    "write_columns = ['gameID']\n",
    "write_columns += ['event_in_game', 'event_type', 'inning', 'home_or_visitor']\n",
    "write_columns += ['batterID', 'pitch_count', 'pitch_sequence', 'event']\n",
    "write_columns += ['play', 'modifiers', 'baserunning']\n",
    "write_columns += ['comment', 'sub_batting_order', 'sub_position']\n",
    "\n",
    "allevents_df = allevents_df[write_columns]\n",
    "\n",
    "allevents_df.to_csv('events_parsed_me.csv', encoding='utf-8')\n",
    "print('Done')\n",
    "#allevents_df"
   ]
  },
  {
   "cell_type": "code",
   "execution_count": null,
   "metadata": {
    "collapsed": false
   },
   "outputs": [],
   "source": []
  },
  {
   "cell_type": "code",
   "execution_count": null,
   "metadata": {
    "collapsed": true
   },
   "outputs": [],
   "source": []
  },
  {
   "cell_type": "code",
   "execution_count": null,
   "metadata": {
    "collapsed": true
   },
   "outputs": [],
   "source": []
  }
 ],
 "metadata": {
  "kernelspec": {
   "display_name": "Python 3",
   "language": "python",
   "name": "python3"
  },
  "language_info": {
   "codemirror_mode": {
    "name": "ipython",
    "version": 3
   },
   "file_extension": ".py",
   "mimetype": "text/x-python",
   "name": "python",
   "nbconvert_exporter": "python",
   "pygments_lexer": "ipython3",
   "version": "3.5.3"
  }
 },
 "nbformat": 4,
 "nbformat_minor": 0
}
